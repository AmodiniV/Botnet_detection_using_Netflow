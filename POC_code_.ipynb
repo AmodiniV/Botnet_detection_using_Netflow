{
  "nbformat": 4,
  "nbformat_minor": 5,
  "metadata": {
    "colab": {
      "name": "POC code .ipynb",
      "provenance": [],
      "collapsed_sections": []
    },
    "kernelspec": {
      "display_name": "Python 3",
      "language": "python",
      "name": "python3"
    },
    "language_info": {
      "codemirror_mode": {
        "name": "ipython",
        "version": 3
      },
      "file_extension": ".py",
      "mimetype": "text/x-python",
      "name": "python",
      "nbconvert_exporter": "python",
      "pygments_lexer": "ipython3",
      "version": "3.7.3"
    }
  },
  "cells": [
    {
      "cell_type": "code",
      "metadata": {
        "id": "6fb0502e",
        "colab": {
          "base_uri": "https://localhost:8080/"
        },
        "outputId": "a556fe00-b4f9-49db-8373-4174ee13ad57"
      },
      "source": [
        "import pandas as pd\n",
        "import numpy as np\n",
        "import collections\n",
        "import matplotlib.pyplot as plt\n",
        "from sklearn import datasets\n",
        "import seaborn as sns\n",
        "sns.set_style('whitegrid')\n",
        "from collections import Counter\n",
        "from sklearn import preprocessing\n",
        "%matplotlib inline\n",
        "from sklearn.ensemble import RandomForestRegressor, RandomForestClassifier\n",
        "from sklearn.metrics import roc_auc_score\n",
        "from sklearn.metrics import classification_report, confusion_matrix\n",
        "from mlxtend.feature_selection import SequentialFeatureSelector\n",
        "from sklearn.model_selection import train_test_split, RandomizedSearchCV, GridSearchCV\n",
        "from sklearn.ensemble import RandomForestClassifier, ExtraTreesClassifier\n",
        "from xgboost import XGBClassifier\n"
      ],
      "id": "6fb0502e",
      "execution_count": null,
      "outputs": [
        {
          "output_type": "stream",
          "name": "stderr",
          "text": [
            "/usr/local/lib/python3.7/dist-packages/sklearn/externals/joblib/__init__.py:15: FutureWarning: sklearn.externals.joblib is deprecated in 0.21 and will be removed in 0.23. Please import this functionality directly from joblib, which can be installed with: pip install joblib. If this warning is raised when loading pickled models, you may need to re-serialize those models with scikit-learn 0.21+.\n",
            "  warnings.warn(msg, category=FutureWarning)\n"
          ]
        }
      ]
    },
    {
      "cell_type": "code",
      "metadata": {
        "colab": {
          "base_uri": "https://localhost:8080/"
        },
        "id": "fAoFXYVB9JJc",
        "outputId": "598f5e05-b4bc-46c9-eca6-24abdf3ec61a"
      },
      "source": [
        "from google.colab import drive\n",
        "drive.mount('/content/drive')\n",
        "%cd /content/drive/MyDrive/\n"
      ],
      "id": "fAoFXYVB9JJc",
      "execution_count": null,
      "outputs": [
        {
          "output_type": "stream",
          "name": "stdout",
          "text": [
            "Mounted at /content/drive\n",
            "/content/drive/MyDrive\n"
          ]
        }
      ]
    },
    {
      "cell_type": "code",
      "metadata": {
        "id": "b66dec42"
      },
      "source": [
        "ctu_data = pd.read_csv('/content/drive/MyDrive/netflow_botnet/capture20110810.csv')"
      ],
      "id": "b66dec42",
      "execution_count": null,
      "outputs": []
    },
    {
      "cell_type": "code",
      "metadata": {
        "colab": {
          "base_uri": "https://localhost:8080/"
        },
        "id": "9ad43bc8",
        "scrolled": true,
        "outputId": "5300fc2b-9482-41d3-902e-43d2ea856ceb"
      },
      "source": [
        "ctu_data.shape"
      ],
      "id": "9ad43bc8",
      "execution_count": null,
      "outputs": [
        {
          "output_type": "execute_result",
          "data": {
            "text/plain": [
              "(2824636, 15)"
            ]
          },
          "metadata": {},
          "execution_count": 4
        }
      ]
    },
    {
      "cell_type": "code",
      "metadata": {
        "colab": {
          "base_uri": "https://localhost:8080/",
          "height": 204
        },
        "id": "Ubw0LP2AABep",
        "outputId": "e3e22b07-bb30-4933-c616-b14cd8118856"
      },
      "source": [
        "ctu_data.head()"
      ],
      "id": "Ubw0LP2AABep",
      "execution_count": null,
      "outputs": [
        {
          "output_type": "execute_result",
          "data": {
            "text/html": [
              "<div>\n",
              "<style scoped>\n",
              "    .dataframe tbody tr th:only-of-type {\n",
              "        vertical-align: middle;\n",
              "    }\n",
              "\n",
              "    .dataframe tbody tr th {\n",
              "        vertical-align: top;\n",
              "    }\n",
              "\n",
              "    .dataframe thead th {\n",
              "        text-align: right;\n",
              "    }\n",
              "</style>\n",
              "<table border=\"1\" class=\"dataframe\">\n",
              "  <thead>\n",
              "    <tr style=\"text-align: right;\">\n",
              "      <th></th>\n",
              "      <th>StartTime</th>\n",
              "      <th>Dur</th>\n",
              "      <th>Proto</th>\n",
              "      <th>SrcAddr</th>\n",
              "      <th>Sport</th>\n",
              "      <th>Dir</th>\n",
              "      <th>DstAddr</th>\n",
              "      <th>Dport</th>\n",
              "      <th>State</th>\n",
              "      <th>sTos</th>\n",
              "      <th>dTos</th>\n",
              "      <th>TotPkts</th>\n",
              "      <th>TotBytes</th>\n",
              "      <th>SrcBytes</th>\n",
              "      <th>Label</th>\n",
              "    </tr>\n",
              "  </thead>\n",
              "  <tbody>\n",
              "    <tr>\n",
              "      <th>0</th>\n",
              "      <td>2011/08/10 09:46:53.047277</td>\n",
              "      <td>3550.182373</td>\n",
              "      <td>udp</td>\n",
              "      <td>212.50.71.179</td>\n",
              "      <td>39678</td>\n",
              "      <td>&lt;-&gt;</td>\n",
              "      <td>147.32.84.229</td>\n",
              "      <td>13363</td>\n",
              "      <td>CON</td>\n",
              "      <td>0.0</td>\n",
              "      <td>0.0</td>\n",
              "      <td>12</td>\n",
              "      <td>875</td>\n",
              "      <td>413</td>\n",
              "      <td>flow=Background-UDP-Established</td>\n",
              "    </tr>\n",
              "    <tr>\n",
              "      <th>1</th>\n",
              "      <td>2011/08/10 09:46:53.048843</td>\n",
              "      <td>0.000883</td>\n",
              "      <td>udp</td>\n",
              "      <td>84.13.246.132</td>\n",
              "      <td>28431</td>\n",
              "      <td>&lt;-&gt;</td>\n",
              "      <td>147.32.84.229</td>\n",
              "      <td>13363</td>\n",
              "      <td>CON</td>\n",
              "      <td>0.0</td>\n",
              "      <td>0.0</td>\n",
              "      <td>2</td>\n",
              "      <td>135</td>\n",
              "      <td>75</td>\n",
              "      <td>flow=Background-UDP-Established</td>\n",
              "    </tr>\n",
              "    <tr>\n",
              "      <th>2</th>\n",
              "      <td>2011/08/10 09:46:53.049895</td>\n",
              "      <td>0.000326</td>\n",
              "      <td>tcp</td>\n",
              "      <td>217.163.21.35</td>\n",
              "      <td>80</td>\n",
              "      <td>&lt;?&gt;</td>\n",
              "      <td>147.32.86.194</td>\n",
              "      <td>2063</td>\n",
              "      <td>FA_A</td>\n",
              "      <td>0.0</td>\n",
              "      <td>0.0</td>\n",
              "      <td>2</td>\n",
              "      <td>120</td>\n",
              "      <td>60</td>\n",
              "      <td>flow=Background</td>\n",
              "    </tr>\n",
              "    <tr>\n",
              "      <th>3</th>\n",
              "      <td>2011/08/10 09:46:53.053771</td>\n",
              "      <td>0.056966</td>\n",
              "      <td>tcp</td>\n",
              "      <td>83.3.77.74</td>\n",
              "      <td>32882</td>\n",
              "      <td>&lt;?&gt;</td>\n",
              "      <td>147.32.85.5</td>\n",
              "      <td>21857</td>\n",
              "      <td>FA_FA</td>\n",
              "      <td>0.0</td>\n",
              "      <td>0.0</td>\n",
              "      <td>3</td>\n",
              "      <td>180</td>\n",
              "      <td>120</td>\n",
              "      <td>flow=Background</td>\n",
              "    </tr>\n",
              "    <tr>\n",
              "      <th>4</th>\n",
              "      <td>2011/08/10 09:46:53.053937</td>\n",
              "      <td>3427.768066</td>\n",
              "      <td>udp</td>\n",
              "      <td>74.89.223.204</td>\n",
              "      <td>21278</td>\n",
              "      <td>&lt;-&gt;</td>\n",
              "      <td>147.32.84.229</td>\n",
              "      <td>13363</td>\n",
              "      <td>CON</td>\n",
              "      <td>0.0</td>\n",
              "      <td>0.0</td>\n",
              "      <td>42</td>\n",
              "      <td>2856</td>\n",
              "      <td>1596</td>\n",
              "      <td>flow=Background-UDP-Established</td>\n",
              "    </tr>\n",
              "  </tbody>\n",
              "</table>\n",
              "</div>"
            ],
            "text/plain": [
              "                    StartTime  ...                            Label\n",
              "0  2011/08/10 09:46:53.047277  ...  flow=Background-UDP-Established\n",
              "1  2011/08/10 09:46:53.048843  ...  flow=Background-UDP-Established\n",
              "2  2011/08/10 09:46:53.049895  ...                  flow=Background\n",
              "3  2011/08/10 09:46:53.053771  ...                  flow=Background\n",
              "4  2011/08/10 09:46:53.053937  ...  flow=Background-UDP-Established\n",
              "\n",
              "[5 rows x 15 columns]"
            ]
          },
          "metadata": {},
          "execution_count": 5
        }
      ]
    },
    {
      "cell_type": "markdown",
      "metadata": {
        "id": "75adbdd5"
      },
      "source": [
        "### Converting o/p into 3 labels :background-0 botnet-1 and Normal-2"
      ],
      "id": "75adbdd5"
    },
    {
      "cell_type": "code",
      "metadata": {
        "colab": {
          "base_uri": "https://localhost:8080/"
        },
        "id": "00ff8fd7",
        "outputId": "c18ddd83-e8a8-4d10-a582-7a9a824e4558"
      },
      "source": [
        "def Label_op(value):\n",
        "    new_val = (value.split(\"=\",1))[1]\n",
        "    if \"Background\" in new_val:\n",
        "        return 0\n",
        "    elif \"Botnet\" in new_val:\n",
        "        return 1\n",
        "    else:\n",
        "        return 2\n",
        "    \n",
        "#background-0 botnet-1 and Normal-2\n",
        "ctu_data[\"Final-Labels\"] = ctu_data.Label.apply(Label_op)\n",
        "ctu_data[\"Final-Labels\"].value_counts()"
      ],
      "id": "00ff8fd7",
      "execution_count": null,
      "outputs": [
        {
          "output_type": "execute_result",
          "data": {
            "text/plain": [
              "0    2753288\n",
              "1      40961\n",
              "2      30387\n",
              "Name: Final-Labels, dtype: int64"
            ]
          },
          "metadata": {},
          "execution_count": 5
        }
      ]
    },
    {
      "cell_type": "code",
      "metadata": {
        "id": "rLbNpI85nTe3"
      },
      "source": [
        "ctu_data.drop(['Label','Dir'],axis=1,inplace=True)"
      ],
      "id": "rLbNpI85nTe3",
      "execution_count": null,
      "outputs": []
    },
    {
      "cell_type": "code",
      "metadata": {
        "colab": {
          "base_uri": "https://localhost:8080/",
          "height": 483
        },
        "id": "052a0efe",
        "outputId": "aab52d03-af60-46ff-cc41-c37af06fc67b"
      },
      "source": [
        "#finding missing values \n",
        "missing_counts = ctu_data.isnull().sum().sort_values(ascending=False)\n",
        "missing_percent = ((ctu_data.isnull().sum()*100)/ctu_data.shape[0]).sort_values(ascending=False)\n",
        "missing_df = pd.concat([missing_counts,missing_percent],axis=1,keys=['Counts','Percent'])\n",
        "missing_df"
      ],
      "id": "052a0efe",
      "execution_count": null,
      "outputs": [
        {
          "output_type": "execute_result",
          "data": {
            "text/html": [
              "<div>\n",
              "<style scoped>\n",
              "    .dataframe tbody tr th:only-of-type {\n",
              "        vertical-align: middle;\n",
              "    }\n",
              "\n",
              "    .dataframe tbody tr th {\n",
              "        vertical-align: top;\n",
              "    }\n",
              "\n",
              "    .dataframe thead th {\n",
              "        text-align: right;\n",
              "    }\n",
              "</style>\n",
              "<table border=\"1\" class=\"dataframe\">\n",
              "  <thead>\n",
              "    <tr style=\"text-align: right;\">\n",
              "      <th></th>\n",
              "      <th>Counts</th>\n",
              "      <th>Percent</th>\n",
              "    </tr>\n",
              "  </thead>\n",
              "  <tbody>\n",
              "    <tr>\n",
              "      <th>dTos</th>\n",
              "      <td>195190</td>\n",
              "      <td>6.910271</td>\n",
              "    </tr>\n",
              "    <tr>\n",
              "      <th>sTos</th>\n",
              "      <td>10590</td>\n",
              "      <td>0.374916</td>\n",
              "    </tr>\n",
              "    <tr>\n",
              "      <th>Sport</th>\n",
              "      <td>9379</td>\n",
              "      <td>0.332043</td>\n",
              "    </tr>\n",
              "    <tr>\n",
              "      <th>Dport</th>\n",
              "      <td>4390</td>\n",
              "      <td>0.155418</td>\n",
              "    </tr>\n",
              "    <tr>\n",
              "      <th>State</th>\n",
              "      <td>1</td>\n",
              "      <td>0.000035</td>\n",
              "    </tr>\n",
              "    <tr>\n",
              "      <th>Final-Labels</th>\n",
              "      <td>0</td>\n",
              "      <td>0.000000</td>\n",
              "    </tr>\n",
              "    <tr>\n",
              "      <th>SrcBytes</th>\n",
              "      <td>0</td>\n",
              "      <td>0.000000</td>\n",
              "    </tr>\n",
              "    <tr>\n",
              "      <th>TotBytes</th>\n",
              "      <td>0</td>\n",
              "      <td>0.000000</td>\n",
              "    </tr>\n",
              "    <tr>\n",
              "      <th>TotPkts</th>\n",
              "      <td>0</td>\n",
              "      <td>0.000000</td>\n",
              "    </tr>\n",
              "    <tr>\n",
              "      <th>DstAddr</th>\n",
              "      <td>0</td>\n",
              "      <td>0.000000</td>\n",
              "    </tr>\n",
              "    <tr>\n",
              "      <th>SrcAddr</th>\n",
              "      <td>0</td>\n",
              "      <td>0.000000</td>\n",
              "    </tr>\n",
              "    <tr>\n",
              "      <th>Proto</th>\n",
              "      <td>0</td>\n",
              "      <td>0.000000</td>\n",
              "    </tr>\n",
              "    <tr>\n",
              "      <th>Dur</th>\n",
              "      <td>0</td>\n",
              "      <td>0.000000</td>\n",
              "    </tr>\n",
              "    <tr>\n",
              "      <th>StartTime</th>\n",
              "      <td>0</td>\n",
              "      <td>0.000000</td>\n",
              "    </tr>\n",
              "  </tbody>\n",
              "</table>\n",
              "</div>"
            ],
            "text/plain": [
              "              Counts   Percent\n",
              "dTos          195190  6.910271\n",
              "sTos           10590  0.374916\n",
              "Sport           9379  0.332043\n",
              "Dport           4390  0.155418\n",
              "State              1  0.000035\n",
              "Final-Labels       0  0.000000\n",
              "SrcBytes           0  0.000000\n",
              "TotBytes           0  0.000000\n",
              "TotPkts            0  0.000000\n",
              "DstAddr            0  0.000000\n",
              "SrcAddr            0  0.000000\n",
              "Proto              0  0.000000\n",
              "Dur                0  0.000000\n",
              "StartTime          0  0.000000"
            ]
          },
          "metadata": {},
          "execution_count": 16
        }
      ]
    },
    {
      "cell_type": "markdown",
      "metadata": {
        "id": "14ea0df4"
      },
      "source": [
        "## **Preprocessing**"
      ],
      "id": "14ea0df4"
    },
    {
      "cell_type": "code",
      "metadata": {
        "id": "rAQ7qZU_iDYp"
      },
      "source": [
        "#filling missing values and removing outliers\n",
        "def ctu_preprocessing(df):\n",
        "  #df.drop(['Label','Dir'],axis=1,inplace=True)\n",
        "  df['sTos'] = df['sTos'].fillna(df['sTos'].mean())\n",
        "  df['dTos'] = df['dTos'].fillna(df['dTos'].mean())\n",
        "  df['Dport'].fillna(df.groupby('Proto')['Dport'].apply(lambda x:x.mode())[0],inplace=True)\n",
        "  df['Sport'].fillna(df.groupby('Proto')['Sport'].apply(lambda x:x.mode())[0],inplace=True)\n",
        "  df[\"TotPkts\"] = df[\"TotPkts\"].clip(lower = df[\"TotPkts\"].quantile(0.15),upper = df[\"TotPkts\"].quantile(0.85)) \n",
        "  df[\"TotBytes\"] = df[\"TotBytes\"].clip(lower = df[\"TotBytes\"].quantile(0.15),upper = df[\"TotBytes\"].quantile(0.85)) \n",
        "  df[\"SrcBytes\"] = df[\"SrcBytes\"].clip(lower = df[\"SrcBytes\"].quantile(0.15),upper = df[\"SrcBytes\"].quantile(0.85)) \n",
        "  return df"
      ],
      "id": "rAQ7qZU_iDYp",
      "execution_count": null,
      "outputs": []
    },
    {
      "cell_type": "code",
      "metadata": {
        "id": "RZnlXb41iG9z"
      },
      "source": [
        "ctu_data = ctu_preprocessing(ctu_data)"
      ],
      "id": "RZnlXb41iG9z",
      "execution_count": null,
      "outputs": []
    },
    {
      "cell_type": "markdown",
      "metadata": {
        "id": "c0543e15"
      },
      "source": [
        "REMOVING PROTOCOLS WITH LESS THAN 100 VALUES (NOT CONVERTED USING LABEL ENCODER)"
      ],
      "id": "c0543e15"
    },
    {
      "cell_type": "code",
      "metadata": {
        "colab": {
          "base_uri": "https://localhost:8080/"
        },
        "id": "6a69e320",
        "outputId": "db384440-3cfc-4606-824d-f50f4240f13a"
      },
      "source": [
        "protocols_del = ['ipv6','udt','esp','pim','rarp','unas','ipx/spx']\n",
        "#temp_df = ctu_data[ctu_data.Proto in protocols_del]\n",
        "index = ctu_data[((ctu_data.Proto =='ipv6')| (ctu_data.Proto =='udt')|(ctu_data.Proto == 'esp') | (ctu_data.Proto == 'pim')|(ctu_data.Proto == 'rarp')|(ctu_data.Proto == 'unas')|(ctu_data.Proto =='ipx/spx')|(ctu_data.Proto == 'ipv6-icmp'))].index\n",
        "ctu_data.drop(index,inplace=True)\n",
        "ctu_data.Proto.value_counts()"
      ],
      "id": "6a69e320",
      "execution_count": null,
      "outputs": [
        {
          "output_type": "execute_result",
          "data": {
            "text/plain": [
              "udp     2270083\n",
              "tcp      507557\n",
              "icmp      39694\n",
              "rtp        2570\n",
              "rtcp       2339\n",
              "igmp       1803\n",
              "arp         477\n",
              "Name: Proto, dtype: int64"
            ]
          },
          "metadata": {},
          "execution_count": 9
        }
      ]
    },
    {
      "cell_type": "markdown",
      "metadata": {
        "id": "Lmwx9sqHZGg_"
      },
      "source": [
        "After removing outliers boxplot diagram"
      ],
      "id": "Lmwx9sqHZGg_"
    },
    {
      "cell_type": "code",
      "metadata": {
        "colab": {
          "base_uri": "https://localhost:8080/",
          "height": 350
        },
        "id": "dICe4dSsWg6o",
        "outputId": "cd5839c2-b738-445e-b6f9-2172a0d74301"
      },
      "source": [
        "sns.boxplot(ctu_data.TotPkts)"
      ],
      "id": "dICe4dSsWg6o",
      "execution_count": null,
      "outputs": [
        {
          "output_type": "stream",
          "text": [
            "/usr/local/lib/python3.7/dist-packages/seaborn/_decorators.py:43: FutureWarning: Pass the following variable as a keyword arg: x. From version 0.12, the only valid positional argument will be `data`, and passing other arguments without an explicit keyword will result in an error or misinterpretation.\n",
            "  FutureWarning\n"
          ],
          "name": "stderr"
        },
        {
          "output_type": "execute_result",
          "data": {
            "text/plain": [
              "<matplotlib.axes._subplots.AxesSubplot at 0x7f7d5eb71b90>"
            ]
          },
          "metadata": {},
          "execution_count": 13
        },
        {
          "output_type": "display_data",
          "data": {
            "image/png": "[encoded data removed]",
            "text/plain": [
              "<Figure size 432x288 with 1 Axes>"
            ]
          },
          "metadata": {
            "needs_background": "light"
          }
        }
      ]
    },
    {
      "cell_type": "code",
      "metadata": {
        "colab": {
          "base_uri": "https://localhost:8080/",
          "height": 350
        },
        "id": "PaKrQSc7XblB",
        "outputId": "fc432cb7-c48e-426a-93d6-90fe31a710a4"
      },
      "source": [
        "sns.boxplot(ctu_data['TotBytes'])"
      ],
      "id": "PaKrQSc7XblB",
      "execution_count": null,
      "outputs": [
        {
          "output_type": "stream",
          "text": [
            "/usr/local/lib/python3.7/dist-packages/seaborn/_decorators.py:43: FutureWarning: Pass the following variable as a keyword arg: x. From version 0.12, the only valid positional argument will be `data`, and passing other arguments without an explicit keyword will result in an error or misinterpretation.\n",
            "  FutureWarning\n"
          ],
          "name": "stderr"
        },
        {
          "output_type": "execute_result",
          "data": {
            "text/plain": [
              "<matplotlib.axes._subplots.AxesSubplot at 0x7f7d5eb87950>"
            ]
          },
          "metadata": {},
          "execution_count": 14
        },
        {
          "output_type": "display_data",
          "data": {
            "image/png": "[encoded data removed]",
            "text/plain": [
              "<Figure size 432x288 with 1 Axes>"
            ]
          },
          "metadata": {
            "needs_background": "light"
          }
        }
      ]
    },
    {
      "cell_type": "markdown",
      "metadata": {
        "id": "bf4fed80"
      },
      "source": [
        "## Time window code"
      ],
      "id": "bf4fed80"
    },
    {
      "cell_type": "code",
      "metadata": {
        "id": "QNBJT6iueq8e"
      },
      "source": [
        "def RU(df):\n",
        "    if df.shape[0] == 1:\n",
        "        return 1.0\n",
        "    else:\n",
        "        proba = df.value_counts()/df.shape[0]\n",
        "        h = proba*np.log10(proba)\n",
        "        return -h.sum()/np.log10(df.shape[0])"
      ],
      "id": "QNBJT6iueq8e",
      "execution_count": null,
      "outputs": []
    },
    {
      "cell_type": "code",
      "metadata": {
        "colab": {
          "base_uri": "https://localhost:8080/",
          "height": 204
        },
        "id": "7TjLDeL8BkMV",
        "outputId": "4449d48e-4d69-4c17-f143-7dfe0ac9b65d"
      },
      "source": [
        "ctu_data.head()"
      ],
      "id": "7TjLDeL8BkMV",
      "execution_count": null,
      "outputs": [
        {
          "output_type": "execute_result",
          "data": {
            "text/html": [
              "<div>\n",
              "<style scoped>\n",
              "    .dataframe tbody tr th:only-of-type {\n",
              "        vertical-align: middle;\n",
              "    }\n",
              "\n",
              "    .dataframe tbody tr th {\n",
              "        vertical-align: top;\n",
              "    }\n",
              "\n",
              "    .dataframe thead th {\n",
              "        text-align: right;\n",
              "    }\n",
              "</style>\n",
              "<table border=\"1\" class=\"dataframe\">\n",
              "  <thead>\n",
              "    <tr style=\"text-align: right;\">\n",
              "      <th></th>\n",
              "      <th>Dur</th>\n",
              "      <th>Proto</th>\n",
              "      <th>SrcAddr</th>\n",
              "      <th>Sport</th>\n",
              "      <th>DstAddr</th>\n",
              "      <th>Dport</th>\n",
              "      <th>State</th>\n",
              "      <th>sTos</th>\n",
              "      <th>dTos</th>\n",
              "      <th>TotPkts</th>\n",
              "      <th>TotBytes</th>\n",
              "      <th>SrcBytes</th>\n",
              "      <th>Final-Labels</th>\n",
              "      <th>StartTime_new</th>\n",
              "      <th>Window_lower</th>\n",
              "      <th>Window_upper_excl</th>\n",
              "    </tr>\n",
              "  </thead>\n",
              "  <tbody>\n",
              "    <tr>\n",
              "      <th>0</th>\n",
              "      <td>3550.182373</td>\n",
              "      <td>udp</td>\n",
              "      <td>212.50.71.179</td>\n",
              "      <td>39678</td>\n",
              "      <td>147.32.84.229</td>\n",
              "      <td>13363</td>\n",
              "      <td>CON</td>\n",
              "      <td>0.0</td>\n",
              "      <td>0.0</td>\n",
              "      <td>10</td>\n",
              "      <td>875</td>\n",
              "      <td>413</td>\n",
              "      <td>0</td>\n",
              "      <td>1.312970e+09</td>\n",
              "      <td>0.0</td>\n",
              "      <td>1.000000</td>\n",
              "    </tr>\n",
              "    <tr>\n",
              "      <th>1</th>\n",
              "      <td>0.000883</td>\n",
              "      <td>udp</td>\n",
              "      <td>84.13.246.132</td>\n",
              "      <td>28431</td>\n",
              "      <td>147.32.84.229</td>\n",
              "      <td>13363</td>\n",
              "      <td>CON</td>\n",
              "      <td>0.0</td>\n",
              "      <td>0.0</td>\n",
              "      <td>2</td>\n",
              "      <td>142</td>\n",
              "      <td>75</td>\n",
              "      <td>0</td>\n",
              "      <td>1.312970e+09</td>\n",
              "      <td>0.0</td>\n",
              "      <td>1.000026</td>\n",
              "    </tr>\n",
              "    <tr>\n",
              "      <th>2</th>\n",
              "      <td>0.000326</td>\n",
              "      <td>tcp</td>\n",
              "      <td>217.163.21.35</td>\n",
              "      <td>80</td>\n",
              "      <td>147.32.86.194</td>\n",
              "      <td>2063</td>\n",
              "      <td>FA_A</td>\n",
              "      <td>0.0</td>\n",
              "      <td>0.0</td>\n",
              "      <td>2</td>\n",
              "      <td>142</td>\n",
              "      <td>75</td>\n",
              "      <td>0</td>\n",
              "      <td>1.312970e+09</td>\n",
              "      <td>0.0</td>\n",
              "      <td>1.000044</td>\n",
              "    </tr>\n",
              "    <tr>\n",
              "      <th>3</th>\n",
              "      <td>0.056966</td>\n",
              "      <td>tcp</td>\n",
              "      <td>83.3.77.74</td>\n",
              "      <td>32882</td>\n",
              "      <td>147.32.85.5</td>\n",
              "      <td>21857</td>\n",
              "      <td>FA_FA</td>\n",
              "      <td>0.0</td>\n",
              "      <td>0.0</td>\n",
              "      <td>3</td>\n",
              "      <td>180</td>\n",
              "      <td>120</td>\n",
              "      <td>0</td>\n",
              "      <td>1.312970e+09</td>\n",
              "      <td>0.0</td>\n",
              "      <td>1.000108</td>\n",
              "    </tr>\n",
              "    <tr>\n",
              "      <th>4</th>\n",
              "      <td>3427.768066</td>\n",
              "      <td>udp</td>\n",
              "      <td>74.89.223.204</td>\n",
              "      <td>21278</td>\n",
              "      <td>147.32.84.229</td>\n",
              "      <td>13363</td>\n",
              "      <td>CON</td>\n",
              "      <td>0.0</td>\n",
              "      <td>0.0</td>\n",
              "      <td>10</td>\n",
              "      <td>1430</td>\n",
              "      <td>733</td>\n",
              "      <td>0</td>\n",
              "      <td>1.312970e+09</td>\n",
              "      <td>0.0</td>\n",
              "      <td>1.000111</td>\n",
              "    </tr>\n",
              "  </tbody>\n",
              "</table>\n",
              "</div>"
            ],
            "text/plain": [
              "           Dur Proto  ... Window_lower Window_upper_excl\n",
              "0  3550.182373   udp  ...          0.0          1.000000\n",
              "1     0.000883   udp  ...          0.0          1.000026\n",
              "2     0.000326   tcp  ...          0.0          1.000044\n",
              "3     0.056966   tcp  ...          0.0          1.000108\n",
              "4  3427.768066   udp  ...          0.0          1.000111\n",
              "\n",
              "[5 rows x 16 columns]"
            ]
          },
          "metadata": {},
          "execution_count": 21
        }
      ]
    },
    {
      "cell_type": "code",
      "metadata": {
        "id": "RyaRfGjom_Xm"
      },
      "source": [
        "def create_time_window(df):\n",
        "  df['StartTime_new'] = pd.to_datetime(df['StartTime']).astype(np.int64)*(1e-9)\n",
        "  start_time = df['StartTime_new'].min()\n",
        "  window_width = 120\n",
        "  window_stride = 60 \n",
        "  df['Window_lower'] = (df['StartTime_new']-start_time-window_width)/window_stride+1\n",
        "  df['Window_lower'].clip(lower=0,inplace=True)\n",
        "  df['Window_upper_excl'] = (df['StartTime_new']-start_time)/window_stride+1\n",
        "  df.drop('StartTime',inplace=True,axis=1)\n",
        "  df = df.astype({\"Window_lower\": int, \"Window_upper_excl\": int})\n",
        "\n",
        "  nb_windows = df['Window_upper_excl'].max()\n",
        "  print(nb_windows)\n",
        "  df.drop('StartTime_new', axis=1, inplace=True)\n",
        "  X_nids = pd.DataFrame()\n",
        "  for i in range(0,nb_windows):       #range is supposed to be nb_windows\n",
        "    gb = df.loc[(df['Window_lower'] <= i) & (df['Window_upper_excl'] > i)].groupby('SrcAddr')\n",
        "    X_nids = X_nids.append(gb.size().to_frame(name='counts').join(gb.agg({'Sport':['nunique',RU],\n",
        "                                                          'Dport':['nunique',RU],\n",
        "                                                         'Proto':['nunique',RU],\n",
        "                                                         'Dur':['sum','mean','std','max','median'],\n",
        "                                                         'TotPkts':['sum','mean','std','max','median'],\n",
        "                                                         'SrcBytes':['sum','mean','std','max','median'],\n",
        "                                                         'Final-Labels':lambda x: x.mode()[0]})).reset_index().assign(window_id=i))\n",
        "  return X_nids\n"
      ],
      "id": "RyaRfGjom_Xm",
      "execution_count": null,
      "outputs": []
    },
    {
      "cell_type": "code",
      "metadata": {
        "id": "_NyKVCpjaw_G"
      },
      "source": [
        "X = pd.DataFrame()\n",
        "X = create_time_window(ctu_data)"
      ],
      "id": "_NyKVCpjaw_G",
      "execution_count": null,
      "outputs": []
    },
    {
      "cell_type": "code",
      "metadata": {
        "colab": {
          "base_uri": "https://localhost:8080/"
        },
        "id": "fl13sslWZ9ed",
        "outputId": "6ca1f911-5b0c-4258-b5cc-65c4647054b4"
      },
      "source": [
        "X.shape"
      ],
      "id": "fl13sslWZ9ed",
      "execution_count": null,
      "outputs": [
        {
          "output_type": "execute_result",
          "data": {
            "text/plain": [
              "(2226533, 25)"
            ]
          },
          "metadata": {},
          "execution_count": 44
        }
      ]
    },
    {
      "cell_type": "code",
      "metadata": {
        "id": "TKAxU4a8CBCY"
      },
      "source": [
        "X.fillna(0,inplace=True)"
      ],
      "id": "TKAxU4a8CBCY",
      "execution_count": null,
      "outputs": []
    },
    {
      "cell_type": "code",
      "metadata": {
        "colab": {
          "base_uri": "https://localhost:8080/",
          "height": 401
        },
        "id": "bVO6ovwf8Do0",
        "outputId": "e906149e-ff28-469f-aeea-b4e7df2d0233"
      },
      "source": [
        "(X.loc[X.counts == 1]).head(10)\n"
      ],
      "id": "bVO6ovwf8Do0",
      "execution_count": null,
      "outputs": [
        {
          "output_type": "execute_result",
          "data": {
            "text/html": [
              "<div>\n",
              "<style scoped>\n",
              "    .dataframe tbody tr th:only-of-type {\n",
              "        vertical-align: middle;\n",
              "    }\n",
              "\n",
              "    .dataframe tbody tr th {\n",
              "        vertical-align: top;\n",
              "    }\n",
              "\n",
              "    .dataframe thead th {\n",
              "        text-align: right;\n",
              "    }\n",
              "</style>\n",
              "<table border=\"1\" class=\"dataframe\">\n",
              "  <thead>\n",
              "    <tr style=\"text-align: right;\">\n",
              "      <th></th>\n",
              "      <th>SrcAddr</th>\n",
              "      <th>counts</th>\n",
              "      <th>(Sport, nunique)</th>\n",
              "      <th>(Sport, RU)</th>\n",
              "      <th>(DstAddr, nunique)</th>\n",
              "      <th>(DstAddr, RU)</th>\n",
              "      <th>(Dport, nunique)</th>\n",
              "      <th>(Dport, RU)</th>\n",
              "      <th>(Proto, nunique)</th>\n",
              "      <th>(Proto, RU)</th>\n",
              "      <th>(Dur, sum)</th>\n",
              "      <th>(Dur, mean)</th>\n",
              "      <th>(Dur, std)</th>\n",
              "      <th>(Dur, max)</th>\n",
              "      <th>(Dur, median)</th>\n",
              "      <th>(TotPkts, sum)</th>\n",
              "      <th>(TotPkts, mean)</th>\n",
              "      <th>(TotPkts, std)</th>\n",
              "      <th>(TotPkts, max)</th>\n",
              "      <th>(TotPkts, median)</th>\n",
              "      <th>(SrcBytes, sum)</th>\n",
              "      <th>(SrcBytes, mean)</th>\n",
              "      <th>(SrcBytes, std)</th>\n",
              "      <th>(SrcBytes, max)</th>\n",
              "      <th>(SrcBytes, median)</th>\n",
              "      <th>(Final-Labels, &lt;lambda&gt;)</th>\n",
              "      <th>window_id</th>\n",
              "    </tr>\n",
              "  </thead>\n",
              "  <tbody>\n",
              "    <tr>\n",
              "      <th>0</th>\n",
              "      <td>0.0.0.0</td>\n",
              "      <td>1</td>\n",
              "      <td>1</td>\n",
              "      <td>1.0</td>\n",
              "      <td>1</td>\n",
              "      <td>1.0</td>\n",
              "      <td>1</td>\n",
              "      <td>1.0</td>\n",
              "      <td>1</td>\n",
              "      <td>1.0</td>\n",
              "      <td>3592.177734</td>\n",
              "      <td>3592.177734</td>\n",
              "      <td>NaN</td>\n",
              "      <td>3592.177734</td>\n",
              "      <td>3592.177734</td>\n",
              "      <td>10</td>\n",
              "      <td>10.0</td>\n",
              "      <td>NaN</td>\n",
              "      <td>10</td>\n",
              "      <td>10.0</td>\n",
              "      <td>732</td>\n",
              "      <td>732.0</td>\n",
              "      <td>NaN</td>\n",
              "      <td>732</td>\n",
              "      <td>732.0</td>\n",
              "      <td>0</td>\n",
              "      <td>0</td>\n",
              "    </tr>\n",
              "    <tr>\n",
              "      <th>1</th>\n",
              "      <td>1.144.156.226</td>\n",
              "      <td>1</td>\n",
              "      <td>1</td>\n",
              "      <td>1.0</td>\n",
              "      <td>1</td>\n",
              "      <td>1.0</td>\n",
              "      <td>1</td>\n",
              "      <td>1.0</td>\n",
              "      <td>1</td>\n",
              "      <td>1.0</td>\n",
              "      <td>0.003020</td>\n",
              "      <td>0.003020</td>\n",
              "      <td>NaN</td>\n",
              "      <td>0.003020</td>\n",
              "      <td>0.003020</td>\n",
              "      <td>2</td>\n",
              "      <td>2.0</td>\n",
              "      <td>NaN</td>\n",
              "      <td>2</td>\n",
              "      <td>2.0</td>\n",
              "      <td>75</td>\n",
              "      <td>75.0</td>\n",
              "      <td>NaN</td>\n",
              "      <td>75</td>\n",
              "      <td>75.0</td>\n",
              "      <td>0</td>\n",
              "      <td>0</td>\n",
              "    </tr>\n",
              "    <tr>\n",
              "      <th>2</th>\n",
              "      <td>1.144.5.55</td>\n",
              "      <td>1</td>\n",
              "      <td>1</td>\n",
              "      <td>1.0</td>\n",
              "      <td>1</td>\n",
              "      <td>1.0</td>\n",
              "      <td>1</td>\n",
              "      <td>1.0</td>\n",
              "      <td>1</td>\n",
              "      <td>1.0</td>\n",
              "      <td>0.002826</td>\n",
              "      <td>0.002826</td>\n",
              "      <td>NaN</td>\n",
              "      <td>0.002826</td>\n",
              "      <td>0.002826</td>\n",
              "      <td>2</td>\n",
              "      <td>2.0</td>\n",
              "      <td>NaN</td>\n",
              "      <td>2</td>\n",
              "      <td>2.0</td>\n",
              "      <td>475</td>\n",
              "      <td>475.0</td>\n",
              "      <td>NaN</td>\n",
              "      <td>475</td>\n",
              "      <td>475.0</td>\n",
              "      <td>0</td>\n",
              "      <td>0</td>\n",
              "    </tr>\n",
              "    <tr>\n",
              "      <th>3</th>\n",
              "      <td>1.155.150.224</td>\n",
              "      <td>1</td>\n",
              "      <td>1</td>\n",
              "      <td>1.0</td>\n",
              "      <td>1</td>\n",
              "      <td>1.0</td>\n",
              "      <td>1</td>\n",
              "      <td>1.0</td>\n",
              "      <td>1</td>\n",
              "      <td>1.0</td>\n",
              "      <td>0.000879</td>\n",
              "      <td>0.000879</td>\n",
              "      <td>NaN</td>\n",
              "      <td>0.000879</td>\n",
              "      <td>0.000879</td>\n",
              "      <td>2</td>\n",
              "      <td>2.0</td>\n",
              "      <td>NaN</td>\n",
              "      <td>2</td>\n",
              "      <td>2.0</td>\n",
              "      <td>75</td>\n",
              "      <td>75.0</td>\n",
              "      <td>NaN</td>\n",
              "      <td>75</td>\n",
              "      <td>75.0</td>\n",
              "      <td>0</td>\n",
              "      <td>0</td>\n",
              "    </tr>\n",
              "    <tr>\n",
              "      <th>4</th>\n",
              "      <td>1.161.139.96</td>\n",
              "      <td>1</td>\n",
              "      <td>1</td>\n",
              "      <td>1.0</td>\n",
              "      <td>1</td>\n",
              "      <td>1.0</td>\n",
              "      <td>1</td>\n",
              "      <td>1.0</td>\n",
              "      <td>1</td>\n",
              "      <td>1.0</td>\n",
              "      <td>1509.379883</td>\n",
              "      <td>1509.379883</td>\n",
              "      <td>NaN</td>\n",
              "      <td>1509.379883</td>\n",
              "      <td>1509.379883</td>\n",
              "      <td>10</td>\n",
              "      <td>10.0</td>\n",
              "      <td>NaN</td>\n",
              "      <td>10</td>\n",
              "      <td>10.0</td>\n",
              "      <td>732</td>\n",
              "      <td>732.0</td>\n",
              "      <td>NaN</td>\n",
              "      <td>732</td>\n",
              "      <td>732.0</td>\n",
              "      <td>0</td>\n",
              "      <td>0</td>\n",
              "    </tr>\n",
              "    <tr>\n",
              "      <th>5</th>\n",
              "      <td>1.227.147.225</td>\n",
              "      <td>1</td>\n",
              "      <td>1</td>\n",
              "      <td>1.0</td>\n",
              "      <td>1</td>\n",
              "      <td>1.0</td>\n",
              "      <td>1</td>\n",
              "      <td>1.0</td>\n",
              "      <td>1</td>\n",
              "      <td>1.0</td>\n",
              "      <td>0.000000</td>\n",
              "      <td>0.000000</td>\n",
              "      <td>NaN</td>\n",
              "      <td>0.000000</td>\n",
              "      <td>0.000000</td>\n",
              "      <td>2</td>\n",
              "      <td>2.0</td>\n",
              "      <td>NaN</td>\n",
              "      <td>2</td>\n",
              "      <td>2.0</td>\n",
              "      <td>173</td>\n",
              "      <td>173.0</td>\n",
              "      <td>NaN</td>\n",
              "      <td>173</td>\n",
              "      <td>173.0</td>\n",
              "      <td>0</td>\n",
              "      <td>0</td>\n",
              "    </tr>\n",
              "    <tr>\n",
              "      <th>6</th>\n",
              "      <td>1.66.98.179</td>\n",
              "      <td>1</td>\n",
              "      <td>1</td>\n",
              "      <td>1.0</td>\n",
              "      <td>1</td>\n",
              "      <td>1.0</td>\n",
              "      <td>1</td>\n",
              "      <td>1.0</td>\n",
              "      <td>1</td>\n",
              "      <td>1.0</td>\n",
              "      <td>3341.880615</td>\n",
              "      <td>3341.880615</td>\n",
              "      <td>NaN</td>\n",
              "      <td>3341.880615</td>\n",
              "      <td>3341.880615</td>\n",
              "      <td>10</td>\n",
              "      <td>10.0</td>\n",
              "      <td>NaN</td>\n",
              "      <td>10</td>\n",
              "      <td>10.0</td>\n",
              "      <td>732</td>\n",
              "      <td>732.0</td>\n",
              "      <td>NaN</td>\n",
              "      <td>732</td>\n",
              "      <td>732.0</td>\n",
              "      <td>0</td>\n",
              "      <td>0</td>\n",
              "    </tr>\n",
              "    <tr>\n",
              "      <th>7</th>\n",
              "      <td>1.66.99.138</td>\n",
              "      <td>1</td>\n",
              "      <td>1</td>\n",
              "      <td>1.0</td>\n",
              "      <td>1</td>\n",
              "      <td>1.0</td>\n",
              "      <td>1</td>\n",
              "      <td>1.0</td>\n",
              "      <td>1</td>\n",
              "      <td>1.0</td>\n",
              "      <td>951.644653</td>\n",
              "      <td>951.644653</td>\n",
              "      <td>NaN</td>\n",
              "      <td>951.644653</td>\n",
              "      <td>951.644653</td>\n",
              "      <td>4</td>\n",
              "      <td>4.0</td>\n",
              "      <td>NaN</td>\n",
              "      <td>4</td>\n",
              "      <td>4.0</td>\n",
              "      <td>150</td>\n",
              "      <td>150.0</td>\n",
              "      <td>NaN</td>\n",
              "      <td>150</td>\n",
              "      <td>150.0</td>\n",
              "      <td>0</td>\n",
              "      <td>0</td>\n",
              "    </tr>\n",
              "    <tr>\n",
              "      <th>8</th>\n",
              "      <td>1.66.99.29</td>\n",
              "      <td>1</td>\n",
              "      <td>1</td>\n",
              "      <td>1.0</td>\n",
              "      <td>1</td>\n",
              "      <td>1.0</td>\n",
              "      <td>1</td>\n",
              "      <td>1.0</td>\n",
              "      <td>1</td>\n",
              "      <td>1.0</td>\n",
              "      <td>3565.326904</td>\n",
              "      <td>3565.326904</td>\n",
              "      <td>NaN</td>\n",
              "      <td>3565.326904</td>\n",
              "      <td>3565.326904</td>\n",
              "      <td>10</td>\n",
              "      <td>10.0</td>\n",
              "      <td>NaN</td>\n",
              "      <td>10</td>\n",
              "      <td>10.0</td>\n",
              "      <td>732</td>\n",
              "      <td>732.0</td>\n",
              "      <td>NaN</td>\n",
              "      <td>732</td>\n",
              "      <td>732.0</td>\n",
              "      <td>0</td>\n",
              "      <td>0</td>\n",
              "    </tr>\n",
              "    <tr>\n",
              "      <th>9</th>\n",
              "      <td>1.72.0.253</td>\n",
              "      <td>1</td>\n",
              "      <td>1</td>\n",
              "      <td>1.0</td>\n",
              "      <td>1</td>\n",
              "      <td>1.0</td>\n",
              "      <td>1</td>\n",
              "      <td>1.0</td>\n",
              "      <td>1</td>\n",
              "      <td>1.0</td>\n",
              "      <td>3408.692383</td>\n",
              "      <td>3408.692383</td>\n",
              "      <td>NaN</td>\n",
              "      <td>3408.692383</td>\n",
              "      <td>3408.692383</td>\n",
              "      <td>10</td>\n",
              "      <td>10.0</td>\n",
              "      <td>NaN</td>\n",
              "      <td>10</td>\n",
              "      <td>10.0</td>\n",
              "      <td>732</td>\n",
              "      <td>732.0</td>\n",
              "      <td>NaN</td>\n",
              "      <td>732</td>\n",
              "      <td>732.0</td>\n",
              "      <td>0</td>\n",
              "      <td>0</td>\n",
              "    </tr>\n",
              "  </tbody>\n",
              "</table>\n",
              "</div>"
            ],
            "text/plain": [
              "         SrcAddr  counts  ...  (Final-Labels, <lambda>)  window_id\n",
              "0        0.0.0.0       1  ...                         0          0\n",
              "1  1.144.156.226       1  ...                         0          0\n",
              "2     1.144.5.55       1  ...                         0          0\n",
              "3  1.155.150.224       1  ...                         0          0\n",
              "4   1.161.139.96       1  ...                         0          0\n",
              "5  1.227.147.225       1  ...                         0          0\n",
              "6    1.66.98.179       1  ...                         0          0\n",
              "7    1.66.99.138       1  ...                         0          0\n",
              "8     1.66.99.29       1  ...                         0          0\n",
              "9     1.72.0.253       1  ...                         0          0\n",
              "\n",
              "[10 rows x 27 columns]"
            ]
          },
          "metadata": {
            "tags": []
          },
          "execution_count": 26
        }
      ]
    },
    {
      "cell_type": "code",
      "metadata": {
        "id": "0d344482",
        "outputId": "24160add-d8be-4ac9-ebfc-4bc6ae82dda6"
      },
      "source": [
        "plt.figure(figsize=(14,12))\n",
        "\n",
        "# plot heatmap set the title\n",
        "colormap = plt.cm.RdBu\n",
        "sns.heatmap(X.corr(),linewidths=0.1,vmax=1.0, \n",
        "            square=False, cmap=colormap, linecolor='white', annot=False)\n",
        "plt.title('Pearson Correlation of All Features', y=1.05, size=14)"
      ],
      "id": "0d344482",
      "execution_count": null,
      "outputs": [
        {
          "output_type": "execute_result",
          "data": {
            "text/plain": [
              "Text(0.5, 1.05, 'Pearson Correlation of All Features')"
            ]
          },
          "metadata": {
            "tags": []
          },
          "execution_count": 112
        },
        {
          "output_type": "display_data",
          "data": {
            "image/png": "[encoded data removed]",
            "text/plain": [
              "<Figure size 1008x864 with 2 Axes>"
            ]
          },
          "metadata": {
            "tags": []
          }
        }
      ]
    },
    {
      "cell_type": "markdown",
      "source": [
        "Feature Correlation with Label"
      ],
      "metadata": {
        "id": "xuYL4QMpmqfl"
      },
      "id": "xuYL4QMpmqfl"
    },
    {
      "cell_type": "code",
      "metadata": {
        "colab": {
          "base_uri": "https://localhost:8080/",
          "height": 855
        },
        "id": "55a25d66",
        "outputId": "b4b0c7da-05fc-4956-a0f8-bbf1674f5fcc"
      },
      "source": [
        "correlations = pd.DataFrame(X.corr())\n",
        "correlations = pd.DataFrame(correlations['Final-Labels', '<lambda>']).reset_index()\n",
        "correlations.columns = [\"Feature\", \"Correlation with Label\"]\n",
        "correlations = (correlations[correlations[\"Feature\"] != \"'Final-Labels', '<lambda>'\"]\n",
        "                .sort_values(by=\"Correlation with Label\", ascending=True))\n",
        "display(correlations)"
      ],
      "id": "55a25d66",
      "execution_count": null,
      "outputs": [
        {
          "output_type": "display_data",
          "data": {
            "text/html": [
              "<div>\n",
              "<style scoped>\n",
              "    .dataframe tbody tr th:only-of-type {\n",
              "        vertical-align: middle;\n",
              "    }\n",
              "\n",
              "    .dataframe tbody tr th {\n",
              "        vertical-align: top;\n",
              "    }\n",
              "\n",
              "    .dataframe thead th {\n",
              "        text-align: right;\n",
              "    }\n",
              "</style>\n",
              "<table border=\"1\" class=\"dataframe\">\n",
              "  <thead>\n",
              "    <tr style=\"text-align: right;\">\n",
              "      <th></th>\n",
              "      <th>Feature</th>\n",
              "      <th>Correlation with Label</th>\n",
              "    </tr>\n",
              "  </thead>\n",
              "  <tbody>\n",
              "    <tr>\n",
              "      <th>6</th>\n",
              "      <td>(Dport, RU)</td>\n",
              "      <td>-0.097747</td>\n",
              "    </tr>\n",
              "    <tr>\n",
              "      <th>8</th>\n",
              "      <td>(Proto, RU)</td>\n",
              "      <td>-0.092552</td>\n",
              "    </tr>\n",
              "    <tr>\n",
              "      <th>4</th>\n",
              "      <td>(DstAddr, RU)</td>\n",
              "      <td>-0.071466</td>\n",
              "    </tr>\n",
              "    <tr>\n",
              "      <th>11</th>\n",
              "      <td>(Dur, std)</td>\n",
              "      <td>-0.022923</td>\n",
              "    </tr>\n",
              "    <tr>\n",
              "      <th>2</th>\n",
              "      <td>(Sport, RU)</td>\n",
              "      <td>-0.017196</td>\n",
              "    </tr>\n",
              "    <tr>\n",
              "      <th>13</th>\n",
              "      <td>(Dur, median)</td>\n",
              "      <td>-0.011371</td>\n",
              "    </tr>\n",
              "    <tr>\n",
              "      <th>10</th>\n",
              "      <td>(Dur, mean)</td>\n",
              "      <td>-0.010590</td>\n",
              "    </tr>\n",
              "    <tr>\n",
              "      <th>21</th>\n",
              "      <td>(SrcBytes, std)</td>\n",
              "      <td>-0.000702</td>\n",
              "    </tr>\n",
              "    <tr>\n",
              "      <th>12</th>\n",
              "      <td>(Dur, max)</td>\n",
              "      <td>-0.000674</td>\n",
              "    </tr>\n",
              "    <tr>\n",
              "      <th>18</th>\n",
              "      <td>(TotPkts, median)</td>\n",
              "      <td>-0.000111</td>\n",
              "    </tr>\n",
              "    <tr>\n",
              "      <th>16</th>\n",
              "      <td>(TotPkts, std)</td>\n",
              "      <td>-0.000071</td>\n",
              "    </tr>\n",
              "    <tr>\n",
              "      <th>23</th>\n",
              "      <td>(SrcBytes, median)</td>\n",
              "      <td>-0.000047</td>\n",
              "    </tr>\n",
              "    <tr>\n",
              "      <th>20</th>\n",
              "      <td>(SrcBytes, mean)</td>\n",
              "      <td>-0.000017</td>\n",
              "    </tr>\n",
              "    <tr>\n",
              "      <th>22</th>\n",
              "      <td>(SrcBytes, max)</td>\n",
              "      <td>0.000335</td>\n",
              "    </tr>\n",
              "    <tr>\n",
              "      <th>15</th>\n",
              "      <td>(TotPkts, mean)</td>\n",
              "      <td>0.000412</td>\n",
              "    </tr>\n",
              "    <tr>\n",
              "      <th>5</th>\n",
              "      <td>(Dport, nunique)</td>\n",
              "      <td>0.000613</td>\n",
              "    </tr>\n",
              "    <tr>\n",
              "      <th>19</th>\n",
              "      <td>(SrcBytes, sum)</td>\n",
              "      <td>0.000806</td>\n",
              "    </tr>\n",
              "    <tr>\n",
              "      <th>25</th>\n",
              "      <td>window_id</td>\n",
              "      <td>0.001142</td>\n",
              "    </tr>\n",
              "    <tr>\n",
              "      <th>9</th>\n",
              "      <td>(Dur, sum)</td>\n",
              "      <td>0.001270</td>\n",
              "    </tr>\n",
              "    <tr>\n",
              "      <th>17</th>\n",
              "      <td>(TotPkts, max)</td>\n",
              "      <td>0.004850</td>\n",
              "    </tr>\n",
              "    <tr>\n",
              "      <th>14</th>\n",
              "      <td>(TotPkts, sum)</td>\n",
              "      <td>0.007050</td>\n",
              "    </tr>\n",
              "    <tr>\n",
              "      <th>0</th>\n",
              "      <td>counts</td>\n",
              "      <td>0.025563</td>\n",
              "    </tr>\n",
              "    <tr>\n",
              "      <th>3</th>\n",
              "      <td>(DstAddr, nunique)</td>\n",
              "      <td>0.032044</td>\n",
              "    </tr>\n",
              "    <tr>\n",
              "      <th>1</th>\n",
              "      <td>(Sport, nunique)</td>\n",
              "      <td>0.032325</td>\n",
              "    </tr>\n",
              "    <tr>\n",
              "      <th>7</th>\n",
              "      <td>(Proto, nunique)</td>\n",
              "      <td>0.134995</td>\n",
              "    </tr>\n",
              "    <tr>\n",
              "      <th>24</th>\n",
              "      <td>(Final-Labels, &lt;lambda&gt;)</td>\n",
              "      <td>1.000000</td>\n",
              "    </tr>\n",
              "  </tbody>\n",
              "</table>\n",
              "</div>"
            ],
            "text/plain": [
              "                     Feature  Correlation with Label\n",
              "6                (Dport, RU)               -0.097747\n",
              "8                (Proto, RU)               -0.092552\n",
              "4              (DstAddr, RU)               -0.071466\n",
              "11                (Dur, std)               -0.022923\n",
              "2                (Sport, RU)               -0.017196\n",
              "13             (Dur, median)               -0.011371\n",
              "10               (Dur, mean)               -0.010590\n",
              "21           (SrcBytes, std)               -0.000702\n",
              "12                (Dur, max)               -0.000674\n",
              "18         (TotPkts, median)               -0.000111\n",
              "16            (TotPkts, std)               -0.000071\n",
              "23        (SrcBytes, median)               -0.000047\n",
              "20          (SrcBytes, mean)               -0.000017\n",
              "22           (SrcBytes, max)                0.000335\n",
              "15           (TotPkts, mean)                0.000412\n",
              "5           (Dport, nunique)                0.000613\n",
              "19           (SrcBytes, sum)                0.000806\n",
              "25                 window_id                0.001142\n",
              "9                 (Dur, sum)                0.001270\n",
              "17            (TotPkts, max)                0.004850\n",
              "14            (TotPkts, sum)                0.007050\n",
              "0                     counts                0.025563\n",
              "3         (DstAddr, nunique)                0.032044\n",
              "1           (Sport, nunique)                0.032325\n",
              "7           (Proto, nunique)                0.134995\n",
              "24  (Final-Labels, <lambda>)                1.000000"
            ]
          },
          "metadata": {
            "tags": []
          }
        }
      ]
    },
    {
      "cell_type": "code",
      "metadata": {
        "id": "fMFJGBzTbBh7"
      },
      "source": [
        "y = X['Final-Labels', '<lambda>']"
      ],
      "id": "fMFJGBzTbBh7",
      "execution_count": null,
      "outputs": []
    },
    {
      "cell_type": "code",
      "metadata": {
        "id": "90271ed6"
      },
      "source": [
        "X1 = X.iloc[:,2:23]"
      ],
      "id": "90271ed6",
      "execution_count": null,
      "outputs": []
    },
    {
      "cell_type": "markdown",
      "metadata": {
        "id": "edcb1569"
      },
      "source": [
        "# Training model"
      ],
      "id": "edcb1569"
    },
    {
      "cell_type": "markdown",
      "source": [
        "Splitting dataset into 80% training and 20% validation."
      ],
      "metadata": {
        "id": "nV01QvqlkZAa"
      },
      "id": "nV01QvqlkZAa"
    },
    {
      "cell_type": "code",
      "metadata": {
        "id": "01ad3a09"
      },
      "source": [
        "X_train, X_valid, y_train, y_valid = train_test_split(X1, y, test_size=0.2, random_state=1)"
      ],
      "id": "01ad3a09",
      "execution_count": null,
      "outputs": []
    },
    {
      "cell_type": "code",
      "metadata": {
        "colab": {
          "base_uri": "https://localhost:8080/"
        },
        "id": "c4c2761c",
        "outputId": "bdca4110-8a50-4459-b4b4-08eabb64dca2"
      },
      "source": [
        "X_valid.shape"
      ],
      "id": "c4c2761c",
      "execution_count": null,
      "outputs": [
        {
          "output_type": "execute_result",
          "data": {
            "text/plain": [
              "(445307, 21)"
            ]
          },
          "metadata": {},
          "execution_count": 17
        }
      ]
    },
    {
      "cell_type": "code",
      "metadata": {
        "id": "7d82b5dd"
      },
      "source": [
        "from sklearn.metrics import accuracy_score\n",
        "def fit_evaluate_model(model, X_train, y_train, X_valid, Y_valid):\n",
        "    model.fit(X_train, y_train)\n",
        "    y_predicted = model.predict(X_valid)\n",
        "    return accuracy_score(y_valid, y_predicted),y_predicted"
      ],
      "id": "7d82b5dd",
      "execution_count": null,
      "outputs": []
    },
    {
      "cell_type": "code",
      "metadata": {
        "colab": {
          "base_uri": "https://localhost:8080/"
        },
        "id": "4b597885",
        "outputId": "6b465172-cff9-42a0-cf2b-6d525adee20b"
      },
      "source": [
        "rf_classifier = RandomForestClassifier()\n",
        "rf_accuracy,y_predicted = fit_evaluate_model(rf_classifier, X_train, y_train, X_valid, y_valid)\n",
        "print(\"Number of correct predictions made out of all predictions are:\", rf_accuracy)"
      ],
      "id": "4b597885",
      "execution_count": null,
      "outputs": [
        {
          "output_type": "stream",
          "text": [
            "Number of correct predictions made out of all predictions are: 0.9997844183900096\n"
          ],
          "name": "stdout"
        }
      ]
    },
    {
      "cell_type": "code",
      "metadata": {
        "id": "ogRAaJO4f1nV"
      },
      "source": [
        "from sklearn.metrics import classification_report\n",
        "def print_results(y_predicted,y_valid):\n",
        "  print('Confusion Matrix')\n",
        "  print(confusion_matrix(y_valid, y_predicted))\n",
        "  target_names = ['Background', 'Botnet','Foreground']\n",
        "  print(classification_report(y_valid, y_predicted, target_names=target_names))\n",
        "  return\n",
        "  "
      ],
      "id": "ogRAaJO4f1nV",
      "execution_count": null,
      "outputs": []
    },
    {
      "cell_type": "markdown",
      "source": [
        "Confusion Matrix and Classification Report for Random Forest\n"
      ],
      "metadata": {
        "id": "K_-i53Yfkxjq"
      },
      "id": "K_-i53Yfkxjq"
    },
    {
      "cell_type": "code",
      "metadata": {
        "id": "GatT9GAggi36",
        "colab": {
          "base_uri": "https://localhost:8080/"
        },
        "outputId": "87735181-f96e-42dd-cfdf-82fb9db7771d"
      },
      "source": [
        "print_results(y_predicted, y_valid)"
      ],
      "id": "GatT9GAggi36",
      "execution_count": null,
      "outputs": [
        {
          "output_type": "stream",
          "text": [
            "Confusion Matrix\n",
            "[[445028      0     17]\n",
            " [     1     51      0]\n",
            " [    78      0    132]]\n",
            "              precision    recall  f1-score   support\n",
            "\n",
            "  Background       1.00      1.00      1.00    445045\n",
            "      Botnet       1.00      0.98      0.99        52\n",
            "  Foreground       0.89      0.63      0.74       210\n",
            "\n",
            "    accuracy                           1.00    445307\n",
            "   macro avg       0.96      0.87      0.91    445307\n",
            "weighted avg       1.00      1.00      1.00    445307\n",
            "\n"
          ],
          "name": "stdout"
        }
      ]
    },
    {
      "cell_type": "markdown",
      "metadata": {
        "id": "5BCMKPKMfKG1"
      },
      "source": [
        "Random Forest Model trained with class weights"
      ],
      "id": "5BCMKPKMfKG1"
    },
    {
      "cell_type": "code",
      "metadata": {
        "colab": {
          "base_uri": "https://localhost:8080/"
        },
        "id": "pYb-PP7bdNoW",
        "outputId": "40767eff-181e-4738-ab2a-825ecd4a480e"
      },
      "source": [
        "model = RandomForestClassifier(n_estimators=10, class_weight='balanced_subsample')\n",
        "rf_accuracy,y_predicted = fit_evaluate_model(model, X_train, y_train, X_valid, y_valid)\n",
        "print(\"Number of correct predictions made out of all predictions are:\", rf_accuracy)\n"
      ],
      "id": "pYb-PP7bdNoW",
      "execution_count": null,
      "outputs": [
        {
          "output_type": "stream",
          "name": "stdout",
          "text": [
            "Number of correct predictions made out of all predictions are: 0.9997237860621998\n"
          ]
        }
      ]
    },
    {
      "cell_type": "code",
      "metadata": {
        "colab": {
          "base_uri": "https://localhost:8080/"
        },
        "id": "_3bsY23WmL0W",
        "outputId": "9a8a1ae5-70e4-4814-a37d-1498d7664a3f"
      },
      "source": [
        "print_results(y_predicted, y_valid)"
      ],
      "id": "_3bsY23WmL0W",
      "execution_count": null,
      "outputs": [
        {
          "output_type": "stream",
          "name": "stdout",
          "text": [
            "Confusion Matrix\n",
            "[[445001      0     44]\n",
            " [     3     49      0]\n",
            " [    76      0    134]]\n",
            "              precision    recall  f1-score   support\n",
            "\n",
            "  Background       1.00      1.00      1.00    445045\n",
            "      Botnet       1.00      0.94      0.97        52\n",
            "  Foreground       0.75      0.64      0.69       210\n",
            "\n",
            "    accuracy                           1.00    445307\n",
            "   macro avg       0.92      0.86      0.89    445307\n",
            "weighted avg       1.00      1.00      1.00    445307\n",
            "\n"
          ]
        }
      ]
    },
    {
      "cell_type": "markdown",
      "source": [
        "Pickle to store weights"
      ],
      "metadata": {
        "id": "0o6AtPy3WDRb"
      },
      "id": "0o6AtPy3WDRb"
    },
    {
      "cell_type": "code",
      "metadata": {
        "id": "mzgyWzoDjGpK"
      },
      "source": [
        "import pickle\n",
        "filename = 'finalized_model.sav'\n",
        "pickle.dump(model, open(filename, 'wb'))"
      ],
      "id": "mzgyWzoDjGpK",
      "execution_count": null,
      "outputs": []
    },
    {
      "cell_type": "code",
      "metadata": {
        "colab": {
          "base_uri": "https://localhost:8080/"
        },
        "id": "7IPZYEMbmzWB",
        "outputId": "5b18ec9e-6028-4443-89b9-cef05523004d"
      },
      "source": [
        "loaded_model = pickle.load(open(filename, 'rb'))\n",
        "y_predicted1 = loaded_model.predict(X_valid)\n",
        "print_results(y_predicted1, y_valid)"
      ],
      "id": "7IPZYEMbmzWB",
      "execution_count": null,
      "outputs": [
        {
          "output_type": "stream",
          "name": "stdout",
          "text": [
            "Confusion Matrix\n",
            "[[445001      0     44]\n",
            " [     3     49      0]\n",
            " [    76      0    134]]\n",
            "              precision    recall  f1-score   support\n",
            "\n",
            "  Background       1.00      1.00      1.00    445045\n",
            "      Botnet       1.00      0.94      0.97        52\n",
            "  Foreground       0.75      0.64      0.69       210\n",
            "\n",
            "    accuracy                           1.00    445307\n",
            "   macro avg       0.92      0.86      0.89    445307\n",
            "weighted avg       1.00      1.00      1.00    445307\n",
            "\n"
          ]
        }
      ]
    },
    {
      "cell_type": "markdown",
      "metadata": {
        "id": "GG7tUuhQdent"
      },
      "source": [
        "Parameter tuning for random trees"
      ],
      "id": "GG7tUuhQdent"
    },
    {
      "cell_type": "code",
      "metadata": {
        "id": "FQUWq-9UdjAG"
      },
      "source": [
        "n_estimators = [50, 100, 300, 500, 1000]\n",
        "\n",
        "# The minimum number of samples required to be at a leaf node, default value is 1.\n",
        "min_samples_leaf = [1, 2, 4, 6, 8]\n",
        "\n",
        "# The number of features to consider when looking for the best split, default value is auto.\n",
        "max_features = ['auto', 'sqrt', 'log2', None] \n",
        "\n",
        "# Define the grid of hyperparameters to search\n",
        "hyperparameter_grid = {'n_estimators': n_estimators,\n",
        "                       'min_samples_leaf': min_samples_leaf,\n",
        "                       'max_features': max_features}"
      ],
      "id": "FQUWq-9UdjAG",
      "execution_count": null,
      "outputs": []
    },
    {
      "cell_type": "code",
      "metadata": {
        "colab": {
          "base_uri": "https://localhost:8080/"
        },
        "id": "dqXoLipWdvO7",
        "outputId": "af6816f2-5788-467d-bb4f-180d910d7059"
      },
      "source": [
        "from sklearn.model_selection import RandomizedSearchCV\n",
        "tuned_model = RandomForestClassifier()\n",
        "\n",
        "# create Randomized search object\n",
        "random_cv = RandomizedSearchCV(estimator=tuned_model,\n",
        "                               param_distributions=hyperparameter_grid,\n",
        "                               cv=4, n_iter=15, \n",
        "                               scoring = 'accuracy',\n",
        "                               n_jobs = -1, verbose = 1, \n",
        "                               return_train_score = True, \n",
        "                               )\n",
        "random_cv.fit(X_train_tune, y_train_tune)"
      ],
      "id": "dqXoLipWdvO7",
      "execution_count": null,
      "outputs": [
        {
          "name": "stdout",
          "output_type": "stream",
          "text": [
            "Fitting 4 folds for each of 15 candidates, totalling 60 fits\n"
          ]
        },
        {
          "data": {
            "text/plain": [
              "RandomizedSearchCV(cv=4, estimator=RandomForestClassifier(), n_iter=15,\n",
              "                   n_jobs=-1,\n",
              "                   param_distributions={'max_features': ['auto', 'sqrt', 'log2',\n",
              "                                                         None],\n",
              "                                        'min_samples_leaf': [1, 2, 4, 8],\n",
              "                                        'n_estimators': [100, 300, 500, 1000]},\n",
              "                   return_train_score=True, scoring='accuracy', verbose=1)"
            ]
          },
          "execution_count": 30,
          "metadata": {},
          "output_type": "execute_result"
        }
      ]
    },
    {
      "cell_type": "code",
      "metadata": {
        "id": "Sh7gF98IU9AY",
        "outputId": "add4b966-7475-4744-8f1a-83df0b400255"
      },
      "source": [
        "random_forest_tuned = RandomForestClassifier(n_estimators = 1000,min_samples_leaf = 1,max_features='sqrt')\n",
        "rf_accuracy,y_predicted = fit_evaluate_model(random_forest_tuned,X_train, y_train, X_valid, y_valid)\n",
        "print(\"Number of correct predictions made out of all predictions are:\", rf_accuracy)"
      ],
      "id": "Sh7gF98IU9AY",
      "execution_count": null,
      "outputs": [
        {
          "name": "stdout",
          "output_type": "stream",
          "text": [
            "Number of correct predictions made out of all predictions are: 0.9997821727482389\n"
          ]
        }
      ]
    },
    {
      "cell_type": "code",
      "metadata": {
        "id": "cae04244",
        "outputId": "daa4145e-b9df-40d3-d279-5e0780b32a57"
      },
      "source": [
        "print_results(y_predicted, y_valid)"
      ],
      "id": "cae04244",
      "execution_count": null,
      "outputs": [
        {
          "name": "stdout",
          "output_type": "stream",
          "text": [
            "Confusion Matrix\n",
            "[[445029      0     16]\n",
            " [     1     51      0]\n",
            " [    80      0    130]]\n",
            "Classification Report\n",
            "              precision    recall  f1-score   support\n",
            "\n",
            "  Background       1.00      1.00      1.00    445045\n",
            "      Botnet       1.00      0.98      0.99        52\n",
            "      Normal       0.89      0.62      0.73       210\n",
            "\n",
            "    accuracy                           1.00    445307\n",
            "   macro avg       0.96      0.87      0.91    445307\n",
            "weighted avg       1.00      1.00      1.00    445307\n",
            "\n"
          ]
        }
      ]
    },
    {
      "cell_type": "markdown",
      "metadata": {
        "id": "5y9IXl92FZe6"
      },
      "source": [
        "Extra Trees Classifier"
      ],
      "id": "5y9IXl92FZe6"
    },
    {
      "cell_type": "code",
      "metadata": {
        "id": "d1068d5a",
        "outputId": "11722bb8-5a2c-407e-be23-eb24f0360a74"
      },
      "source": [
        "xrf_classifier = ExtraTreesClassifier()\n",
        "xrf_accuracy = fit_evaluate_model(xrf_classifier, X_train, y_train, X_valid, y_valid)\n",
        "print(\"Number of correct predictions made out of all predictions are:\", xrf_accuracy)"
      ],
      "id": "d1068d5a",
      "execution_count": null,
      "outputs": [
        {
          "output_type": "stream",
          "text": [
            "Number of correct predictions made out of all predictions are: (0.9998113660912584, array([0, 0, 0, ..., 0, 0, 0]))\n"
          ],
          "name": "stdout"
        }
      ]
    },
    {
      "cell_type": "markdown",
      "metadata": {
        "id": "UEFFrxDN34cN"
      },
      "source": [
        "XGB Classifier"
      ],
      "id": "UEFFrxDN34cN"
    },
    {
      "cell_type": "code",
      "metadata": {
        "colab": {
          "base_uri": "https://localhost:8080/"
        },
        "id": "Sz1kQs5VgUh2",
        "outputId": "a3ce9788-b8f2-47c8-f492-2df6a837ebc8"
      },
      "source": [
        "xgb_classifier = XGBClassifier()\n",
        "xgb_accuracy,y_predicted = fit_evaluate_model(xgb_classifier, X_train, y_train, X_valid, y_valid)\n",
        "print(\"Number of correct predictions made out of all predictions are:\", xgb_accuracy)"
      ],
      "id": "Sz1kQs5VgUh2",
      "execution_count": null,
      "outputs": [
        {
          "output_type": "stream",
          "text": [
            "Number of correct predictions made out of all predictions are: 0.9996811188685558\n"
          ],
          "name": "stdout"
        }
      ]
    },
    {
      "cell_type": "code",
      "metadata": {
        "colab": {
          "base_uri": "https://localhost:8080/"
        },
        "id": "Y_Wb6vOti0KS",
        "outputId": "5eb32154-ef77-4041-c6bf-05dd93801928"
      },
      "source": [
        "print_results(y_predicted, y_valid)"
      ],
      "id": "Y_Wb6vOti0KS",
      "execution_count": null,
      "outputs": [
        {
          "output_type": "stream",
          "text": [
            "Confusion Matrix\n",
            "[[445029      0     16]\n",
            " [     1     51      0]\n",
            " [   125      0     85]]\n",
            "Classification Report\n",
            "              precision    recall  f1-score   support\n",
            "\n",
            "  Background       1.00      1.00      1.00    445045\n",
            "      Botnet       1.00      0.98      0.99        52\n",
            "      Normal       0.84      0.40      0.55       210\n",
            "\n",
            "    accuracy                           1.00    445307\n",
            "   macro avg       0.95      0.80      0.85    445307\n",
            "weighted avg       1.00      1.00      1.00    445307\n",
            "\n"
          ],
          "name": "stdout"
        }
      ]
    },
    {
      "cell_type": "markdown",
      "metadata": {
        "id": "mAFkYcSUg7YY"
      },
      "source": [
        "Class weights with XGB"
      ],
      "id": "mAFkYcSUg7YY"
    },
    {
      "cell_type": "code",
      "metadata": {
        "colab": {
          "base_uri": "https://localhost:8080/"
        },
        "id": "zSvxeS1g5eus",
        "outputId": "d2ac32c1-e4dc-4eda-9e19-f21ece34386b"
      },
      "source": [
        "xgb_classifier = XGBClassifier(class_weight='balanced_subsample')\n",
        "xgb_accuracy,y_predicted = fit_evaluate_model(xgb_classifier, X_train, y_train, X_valid, y_valid)\n",
        "print(\"Number of correct predictions made out of all predictions are:\", xgb_accuracy)"
      ],
      "id": "zSvxeS1g5eus",
      "execution_count": null,
      "outputs": [
        {
          "output_type": "stream",
          "text": [
            "Number of correct predictions made out of all predictions are: 0.9996811188685558\n"
          ],
          "name": "stdout"
        }
      ]
    },
    {
      "cell_type": "code",
      "metadata": {
        "colab": {
          "base_uri": "https://localhost:8080/"
        },
        "id": "001Au-bW9G3Y",
        "outputId": "fc43d55d-8d3f-4ab5-e927-18919b6bb2e4"
      },
      "source": [
        "print_results(y_predicted, y_valid)"
      ],
      "id": "001Au-bW9G3Y",
      "execution_count": null,
      "outputs": [
        {
          "output_type": "stream",
          "text": [
            "Confusion Matrix\n",
            "[[445029      0     16]\n",
            " [     1     51      0]\n",
            " [   125      0     85]]\n",
            "Classification Report\n",
            "              precision    recall  f1-score   support\n",
            "\n",
            "  Background       1.00      1.00      1.00    445045\n",
            "      Botnet       1.00      0.98      0.99        52\n",
            "      Normal       0.84      0.40      0.55       210\n",
            "\n",
            "    accuracy                           1.00    445307\n",
            "   macro avg       0.95      0.80      0.85    445307\n",
            "weighted avg       1.00      1.00      1.00    445307\n",
            "\n"
          ],
          "name": "stdout"
        }
      ]
    },
    {
      "cell_type": "markdown",
      "metadata": {
        "id": "nRM44l49PLmp"
      },
      "source": [
        "# Testing model with a different dataset of botnet - Virut"
      ],
      "id": "nRM44l49PLmp"
    },
    {
      "cell_type": "code",
      "metadata": {
        "id": "eDKgVigumrGA"
      },
      "source": [
        "virut_data = pd.read_csv('/content/drive/MyDrive/netflow_botnet/malware43.csv')"
      ],
      "id": "eDKgVigumrGA",
      "execution_count": null,
      "outputs": []
    },
    {
      "cell_type": "code",
      "metadata": {
        "colab": {
          "base_uri": "https://localhost:8080/"
        },
        "id": "7bTvqp0oPz2l",
        "outputId": "8d27986f-49de-428c-d1dd-b85cd0a33766"
      },
      "source": [
        "#for virut\n",
        "virut_data[\"Final-Labels\"] = virut_data.Label.apply(Label_op)\n",
        "virut_data[\"Final-Labels\"].value_counts()"
      ],
      "id": "7bTvqp0oPz2l",
      "execution_count": null,
      "outputs": [
        {
          "output_type": "execute_result",
          "data": {
            "text/plain": [
              "0    1778061\n",
              "1      20941\n",
              "2       9120\n",
              "Name: Final-Labels, dtype: int64"
            ]
          },
          "metadata": {},
          "execution_count": 52
        }
      ]
    },
    {
      "cell_type": "code",
      "metadata": {
        "id": "bJ9do5fVY36k"
      },
      "source": [
        "virut_data = ctu_preprocessing(virut_data)\n"
      ],
      "id": "bJ9do5fVY36k",
      "execution_count": null,
      "outputs": []
    },
    {
      "cell_type": "code",
      "metadata": {
        "id": "9hYYFm_Cywuh"
      },
      "source": [
        "protocols_del = ['ipv6','udt','esp','pim','rarp','unas','ipx/spx','gre']\n",
        "#temp_df = ctu_data[ctu_data.Proto in protocols_del]\n",
        "index = virut_data[((virut_data.Proto =='ipv6')| (virut_data.Proto =='udt')|(virut_data.Proto == 'esp') | (virut_data.Proto == 'pim')|(virut_data.Proto == 'rarp')|(virut_data.Proto == 'unas')|(virut_data.Proto =='ipx/spx')|(virut_data.Proto == 'ipv6-icmp'))].index\n",
        "virut_data.drop(index,inplace=True)"
      ],
      "id": "9hYYFm_Cywuh",
      "execution_count": null,
      "outputs": []
    },
    {
      "cell_type": "code",
      "metadata": {
        "id": "1MgrBe24yE-5"
      },
      "source": [
        "X_test = pd.DataFrame()\n",
        "X_test = create_time_window(virut_data)"
      ],
      "id": "1MgrBe24yE-5",
      "execution_count": null,
      "outputs": []
    },
    {
      "cell_type": "code",
      "metadata": {
        "id": "dVOtl9jBj6tj"
      },
      "source": [
        "y_test = X['Final-Labels', '<lambda>']\n",
        "X_test = X.iloc[:,2:23]"
      ],
      "id": "dVOtl9jBj6tj",
      "execution_count": null,
      "outputs": []
    },
    {
      "cell_type": "code",
      "metadata": {
        "id": "Oo4wovoHm6Pp"
      },
      "source": [
        "X_test.fillna(0,inplace=True)"
      ],
      "id": "Oo4wovoHm6Pp",
      "execution_count": null,
      "outputs": []
    },
    {
      "cell_type": "code",
      "metadata": {
        "id": "F-PxZI0VWuwO"
      },
      "source": [
        "y_test_predicted = model.predict(X_test)"
      ],
      "id": "F-PxZI0VWuwO",
      "execution_count": null,
      "outputs": []
    },
    {
      "cell_type": "code",
      "metadata": {
        "colab": {
          "base_uri": "https://localhost:8080/"
        },
        "id": "EHJP8sHobtSh",
        "outputId": "534210e1-983e-41d7-8e51-a4bb35448efa"
      },
      "source": [
        "print_results(y_test_predicted,y_test)"
      ],
      "id": "EHJP8sHobtSh",
      "execution_count": null,
      "outputs": [
        {
          "output_type": "stream",
          "text": [
            "Confusion Matrix\n",
            "[[2224638       0     577]\n",
            " [      3     283       0]\n",
            " [    121       0     911]]\n",
            "              precision    recall  f1-score   support\n",
            "\n",
            "  Background       1.00      1.00      1.00   2225215\n",
            "      Botnet       1.00      0.99      0.99       286\n",
            "  Foreground       0.61      0.88      0.72      1032\n",
            "\n",
            "    accuracy                           1.00   2226533\n",
            "   macro avg       0.87      0.96      0.91   2226533\n",
            "weighted avg       1.00      1.00      1.00   2226533\n",
            "\n"
          ],
          "name": "stdout"
        }
      ]
    }
  ]
}