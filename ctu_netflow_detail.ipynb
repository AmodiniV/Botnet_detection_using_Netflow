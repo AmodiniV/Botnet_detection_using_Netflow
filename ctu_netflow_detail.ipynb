{
  "nbformat": 4,
  "nbformat_minor": 5,
  "metadata": {
    "colab": {
      "name": "ctu-netflow-detail.ipynb",
      "provenance": [],
      "collapsed_sections": [
        "xtgRTv57_Suu",
        "14ea0df4",
        "bf4fed80",
        "0a7297f8"
      ]
    },
    "kernelspec": {
      "display_name": "Python 3",
      "language": "python",
      "name": "python3"
    },
    "language_info": {
      "codemirror_mode": {
        "name": "ipython",
        "version": 3
      },
      "file_extension": ".py",
      "mimetype": "text/x-python",
      "name": "python",
      "nbconvert_exporter": "python",
      "pygments_lexer": "ipython3",
      "version": "3.7.3"
    }
  },
  "cells": [
    {
      "cell_type": "code",
      "metadata": {
        "id": "6fb0502e"
      },
      "source": [
        "import pandas as pd\n",
        "import numpy as np\n",
        "import collections\n",
        "import matplotlib.pyplot as plt\n",
        "from sklearn import datasets\n",
        "import seaborn as sns\n",
        "sns.set_style('whitegrid')\n",
        "from collections import Counter\n",
        "from sklearn import preprocessing\n",
        "%matplotlib inline\n",
        "from sklearn.ensemble import RandomForestRegressor, RandomForestClassifier\n",
        "from sklearn.metrics import roc_auc_score\n",
        "from sklearn.metrics import classification_report, confusion_matrix\n",
        "#from mlxtend.feature_selection import SequentialFeatureSelector\n",
        "from sklearn.model_selection import train_test_split, RandomizedSearchCV, GridSearchCV\n",
        "from sklearn.ensemble import RandomForestClassifier, ExtraTreesClassifier\n",
        "from xgboost import XGBClassifier\n"
      ],
      "id": "6fb0502e",
      "execution_count": null,
      "outputs": []
    },
    {
      "cell_type": "code",
      "metadata": {
        "colab": {
          "base_uri": "https://localhost:8080/"
        },
        "id": "fAoFXYVB9JJc",
        "outputId": "2b892511-a004-40fe-954a-aba1b6b0adb3"
      },
      "source": [
        "from google.colab import drive\n",
        "drive.mount('/content/drive')\n",
        "%cd /content/drive/MyDrive/netflow_botnet\n"
      ],
      "id": "fAoFXYVB9JJc",
      "execution_count": null,
      "outputs": [
        {
          "output_type": "stream",
          "name": "stdout",
          "text": [
            "Mounted at /content/drive\n",
            "/content/drive/MyDrive/netflow_botnet\n"
          ]
        }
      ]
    },
    {
      "cell_type": "code",
      "metadata": {
        "id": "b66dec42"
      },
      "source": [
        "ctu_data = pd.read_csv('/content/drive/MyDrive/netflow_botnet/capture20110810.csv')"
      ],
      "id": "b66dec42",
      "execution_count": null,
      "outputs": []
    },
    {
      "cell_type": "code",
      "source": [
        "ctu_data.head()"
      ],
      "metadata": {
        "colab": {
          "base_uri": "https://localhost:8080/",
          "height": 206
        },
        "id": "953jCWwBfgfP",
        "outputId": "9766e294-5ff4-4719-883c-db305d014e25"
      },
      "id": "953jCWwBfgfP",
      "execution_count": null,
      "outputs": [
        {
          "output_type": "execute_result",
          "data": {
            "text/html": [
              "\n",
              "  <div id=\"df-effb221f-298b-453d-9b9d-d99fa03a3612\">\n",
              "    <div class=\"colab-df-container\">\n",
              "      <div>\n",
              "<style scoped>\n",
              "    .dataframe tbody tr th:only-of-type {\n",
              "        vertical-align: middle;\n",
              "    }\n",
              "\n",
              "    .dataframe tbody tr th {\n",
              "        vertical-align: top;\n",
              "    }\n",
              "\n",
              "    .dataframe thead th {\n",
              "        text-align: right;\n",
              "    }\n",
              "</style>\n",
              "<table border=\"1\" class=\"dataframe\">\n",
              "  <thead>\n",
              "    <tr style=\"text-align: right;\">\n",
              "      <th></th>\n",
              "      <th>StartTime</th>\n",
              "      <th>Dur</th>\n",
              "      <th>Proto</th>\n",
              "      <th>SrcAddr</th>\n",
              "      <th>Sport</th>\n",
              "      <th>Dir</th>\n",
              "      <th>DstAddr</th>\n",
              "      <th>Dport</th>\n",
              "      <th>State</th>\n",
              "      <th>sTos</th>\n",
              "      <th>dTos</th>\n",
              "      <th>TotPkts</th>\n",
              "      <th>TotBytes</th>\n",
              "      <th>SrcBytes</th>\n",
              "      <th>Label</th>\n",
              "    </tr>\n",
              "  </thead>\n",
              "  <tbody>\n",
              "    <tr>\n",
              "      <th>0</th>\n",
              "      <td>2011/08/10 09:46:53.047277</td>\n",
              "      <td>3550.182373</td>\n",
              "      <td>udp</td>\n",
              "      <td>212.50.71.179</td>\n",
              "      <td>39678</td>\n",
              "      <td>&lt;-&gt;</td>\n",
              "      <td>147.32.84.229</td>\n",
              "      <td>13363</td>\n",
              "      <td>CON</td>\n",
              "      <td>0.0</td>\n",
              "      <td>0.0</td>\n",
              "      <td>12</td>\n",
              "      <td>875</td>\n",
              "      <td>413</td>\n",
              "      <td>flow=Background-UDP-Established</td>\n",
              "    </tr>\n",
              "    <tr>\n",
              "      <th>1</th>\n",
              "      <td>2011/08/10 09:46:53.048843</td>\n",
              "      <td>0.000883</td>\n",
              "      <td>udp</td>\n",
              "      <td>84.13.246.132</td>\n",
              "      <td>28431</td>\n",
              "      <td>&lt;-&gt;</td>\n",
              "      <td>147.32.84.229</td>\n",
              "      <td>13363</td>\n",
              "      <td>CON</td>\n",
              "      <td>0.0</td>\n",
              "      <td>0.0</td>\n",
              "      <td>2</td>\n",
              "      <td>135</td>\n",
              "      <td>75</td>\n",
              "      <td>flow=Background-UDP-Established</td>\n",
              "    </tr>\n",
              "    <tr>\n",
              "      <th>2</th>\n",
              "      <td>2011/08/10 09:46:53.049895</td>\n",
              "      <td>0.000326</td>\n",
              "      <td>tcp</td>\n",
              "      <td>217.163.21.35</td>\n",
              "      <td>80</td>\n",
              "      <td>&lt;?&gt;</td>\n",
              "      <td>147.32.86.194</td>\n",
              "      <td>2063</td>\n",
              "      <td>FA_A</td>\n",
              "      <td>0.0</td>\n",
              "      <td>0.0</td>\n",
              "      <td>2</td>\n",
              "      <td>120</td>\n",
              "      <td>60</td>\n",
              "      <td>flow=Background</td>\n",
              "    </tr>\n",
              "    <tr>\n",
              "      <th>3</th>\n",
              "      <td>2011/08/10 09:46:53.053771</td>\n",
              "      <td>0.056966</td>\n",
              "      <td>tcp</td>\n",
              "      <td>83.3.77.74</td>\n",
              "      <td>32882</td>\n",
              "      <td>&lt;?&gt;</td>\n",
              "      <td>147.32.85.5</td>\n",
              "      <td>21857</td>\n",
              "      <td>FA_FA</td>\n",
              "      <td>0.0</td>\n",
              "      <td>0.0</td>\n",
              "      <td>3</td>\n",
              "      <td>180</td>\n",
              "      <td>120</td>\n",
              "      <td>flow=Background</td>\n",
              "    </tr>\n",
              "    <tr>\n",
              "      <th>4</th>\n",
              "      <td>2011/08/10 09:46:53.053937</td>\n",
              "      <td>3427.768066</td>\n",
              "      <td>udp</td>\n",
              "      <td>74.89.223.204</td>\n",
              "      <td>21278</td>\n",
              "      <td>&lt;-&gt;</td>\n",
              "      <td>147.32.84.229</td>\n",
              "      <td>13363</td>\n",
              "      <td>CON</td>\n",
              "      <td>0.0</td>\n",
              "      <td>0.0</td>\n",
              "      <td>42</td>\n",
              "      <td>2856</td>\n",
              "      <td>1596</td>\n",
              "      <td>flow=Background-UDP-Established</td>\n",
              "    </tr>\n",
              "  </tbody>\n",
              "</table>\n",
              "</div>\n",
              "      <button class=\"colab-df-convert\" onclick=\"convertToInteractive('df-effb221f-298b-453d-9b9d-d99fa03a3612')\"\n",
              "              title=\"Convert this dataframe to an interactive table.\"\n",
              "              style=\"display:none;\">\n",
              "        \n",
              "  <svg xmlns=\"http://www.w3.org/2000/svg\" height=\"24px\"viewBox=\"0 0 24 24\"\n",
              "       width=\"24px\">\n",
              "    <path d=\"M0 0h24v24H0V0z\" fill=\"none\"/>\n",
              "    <path d=\"M18.56 5.44l.94 2.06.94-2.06 2.06-.94-2.06-.94-.94-2.06-.94 2.06-2.06.94zm-11 1L8.5 8.5l.94-2.06 2.06-.94-2.06-.94L8.5 2.5l-.94 2.06-2.06.94zm10 10l.94 2.06.94-2.06 2.06-.94-2.06-.94-.94-2.06-.94 2.06-2.06.94z\"/><path d=\"M17.41 7.96l-1.37-1.37c-.4-.4-.92-.59-1.43-.59-.52 0-1.04.2-1.43.59L10.3 9.45l-7.72 7.72c-.78.78-.78 2.05 0 2.83L4 21.41c.39.39.9.59 1.41.59.51 0 1.02-.2 1.41-.59l7.78-7.78 2.81-2.81c.8-.78.8-2.07 0-2.86zM5.41 20L4 18.59l7.72-7.72 1.47 1.35L5.41 20z\"/>\n",
              "  </svg>\n",
              "      </button>\n",
              "      \n",
              "  <style>\n",
              "    .colab-df-container {\n",
              "      display:flex;\n",
              "      flex-wrap:wrap;\n",
              "      gap: 12px;\n",
              "    }\n",
              "\n",
              "    .colab-df-convert {\n",
              "      background-color: #E8F0FE;\n",
              "      border: none;\n",
              "      border-radius: 50%;\n",
              "      cursor: pointer;\n",
              "      display: none;\n",
              "      fill: #1967D2;\n",
              "      height: 32px;\n",
              "      padding: 0 0 0 0;\n",
              "      width: 32px;\n",
              "    }\n",
              "\n",
              "    .colab-df-convert:hover {\n",
              "      background-color: #E2EBFA;\n",
              "      box-shadow: 0px 1px 2px rgba(60, 64, 67, 0.3), 0px 1px 3px 1px rgba(60, 64, 67, 0.15);\n",
              "      fill: #174EA6;\n",
              "    }\n",
              "\n",
              "    [theme=dark] .colab-df-convert {\n",
              "      background-color: #3B4455;\n",
              "      fill: #D2E3FC;\n",
              "    }\n",
              "\n",
              "    [theme=dark] .colab-df-convert:hover {\n",
              "      background-color: #434B5C;\n",
              "      box-shadow: 0px 1px 3px 1px rgba(0, 0, 0, 0.15);\n",
              "      filter: drop-shadow(0px 1px 2px rgba(0, 0, 0, 0.3));\n",
              "      fill: #FFFFFF;\n",
              "    }\n",
              "  </style>\n",
              "\n",
              "      <script>\n",
              "        const buttonEl =\n",
              "          document.querySelector('#df-effb221f-298b-453d-9b9d-d99fa03a3612 button.colab-df-convert');\n",
              "        buttonEl.style.display =\n",
              "          google.colab.kernel.accessAllowed ? 'block' : 'none';\n",
              "\n",
              "        async function convertToInteractive(key) {\n",
              "          const element = document.querySelector('#df-effb221f-298b-453d-9b9d-d99fa03a3612');\n",
              "          const dataTable =\n",
              "            await google.colab.kernel.invokeFunction('convertToInteractive',\n",
              "                                                     [key], {});\n",
              "          if (!dataTable) return;\n",
              "\n",
              "          const docLinkHtml = 'Like what you see? Visit the ' +\n",
              "            '<a target=\"_blank\" href=https://colab.research.google.com/notebooks/data_table.ipynb>data table notebook</a>'\n",
              "            + ' to learn more about interactive tables.';\n",
              "          element.innerHTML = '';\n",
              "          dataTable['output_type'] = 'display_data';\n",
              "          await google.colab.output.renderOutput(dataTable, element);\n",
              "          const docLink = document.createElement('div');\n",
              "          docLink.innerHTML = docLinkHtml;\n",
              "          element.appendChild(docLink);\n",
              "        }\n",
              "      </script>\n",
              "    </div>\n",
              "  </div>\n",
              "  "
            ],
            "text/plain": [
              "                    StartTime  ...                            Label\n",
              "0  2011/08/10 09:46:53.047277  ...  flow=Background-UDP-Established\n",
              "1  2011/08/10 09:46:53.048843  ...  flow=Background-UDP-Established\n",
              "2  2011/08/10 09:46:53.049895  ...                  flow=Background\n",
              "3  2011/08/10 09:46:53.053771  ...                  flow=Background\n",
              "4  2011/08/10 09:46:53.053937  ...  flow=Background-UDP-Established\n",
              "\n",
              "[5 rows x 15 columns]"
            ]
          },
          "metadata": {},
          "execution_count": 71
        }
      ]
    },
    {
      "cell_type": "markdown",
      "metadata": {
        "id": "43c5ef40"
      },
      "source": [
        "### EDA"
      ],
      "id": "43c5ef40"
    },
    {
      "cell_type": "code",
      "metadata": {
        "colab": {
          "base_uri": "https://localhost:8080/"
        },
        "id": "9ad43bc8",
        "scrolled": true,
        "outputId": "377ab055-2c41-4119-a83f-63c989b617b5"
      },
      "source": [
        "ctu_data.shape"
      ],
      "id": "9ad43bc8",
      "execution_count": null,
      "outputs": [
        {
          "output_type": "execute_result",
          "data": {
            "text/plain": [
              "(2824636, 15)"
            ]
          },
          "metadata": {},
          "execution_count": 4
        }
      ]
    },
    {
      "cell_type": "code",
      "metadata": {
        "id": "0d6ece94",
        "colab": {
          "base_uri": "https://localhost:8080/"
        },
        "outputId": "2d46bb11-80c8-4d9f-e6e8-71a6f8020242"
      },
      "source": [
        "ctu_data['Label'].value_counts()"
      ],
      "id": "0d6ece94",
      "execution_count": null,
      "outputs": [
        {
          "output_type": "execute_result",
          "data": {
            "text/plain": [
              "flow=Background-UDP-Established                                            1169677\n",
              "flow=To-Background-UDP-CVUT-DNS-Server                                      941706\n",
              "flow=Background-TCP-Established                                             223543\n",
              "flow=Background-Established-cmpgw-CVUT                                      137257\n",
              "flow=Background-TCP-Attempt                                                 105438\n",
              "                                                                            ...   \n",
              "flow=From-Botnet-V42-TCP-Established-HTTP-Binary-Download-Custom-Port-5          1\n",
              "flow=From-Botnet-V42-TCP-Established-HTTP-Ad-60                                  1\n",
              "flow=From-Botnet-V42-TCP-Established-HTTP-Ad-49                                  1\n",
              "flow=From-Botnet-V42-TCP-HTTP-Not-Encrypted-Down-2                               1\n",
              "flow=From-Botnet-V42-TCP-Established-HTTP-Adobe-4                                1\n",
              "Name: Label, Length: 113, dtype: int64"
            ]
          },
          "metadata": {},
          "execution_count": 5
        }
      ]
    },
    {
      "cell_type": "code",
      "metadata": {
        "id": "8516ab16"
      },
      "source": [
        "ctu_data.info()"
      ],
      "id": "8516ab16",
      "execution_count": null,
      "outputs": []
    },
    {
      "cell_type": "code",
      "metadata": {
        "id": "cb2f6a72"
      },
      "source": [
        "ctu_data[\"Label\"]"
      ],
      "id": "cb2f6a72",
      "execution_count": null,
      "outputs": []
    },
    {
      "cell_type": "code",
      "metadata": {
        "id": "d1e05521"
      },
      "source": [
        "no_of_label = ctu_data.Label.unique()\n",
        "print(len(no_of_label))"
      ],
      "id": "d1e05521",
      "execution_count": null,
      "outputs": []
    },
    {
      "cell_type": "markdown",
      "source": [
        "Converting o/p into 3 labels :background-0 botnet-1 and Normal-2"
      ],
      "metadata": {
        "id": "Y64XZMIPMnvl"
      },
      "id": "Y64XZMIPMnvl"
    },
    {
      "cell_type": "code",
      "metadata": {
        "colab": {
          "base_uri": "https://localhost:8080/"
        },
        "id": "00ff8fd7",
        "outputId": "3666665d-0941-4018-aa2a-14c18db1b1fc"
      },
      "source": [
        "def Label_op(value):\n",
        "    new_val = (value.split(\"=\",1))[1]\n",
        "    if \"Background\" in new_val:\n",
        "        return 0\n",
        "    elif \"Botnet\" in new_val:\n",
        "        return 1\n",
        "    else:\n",
        "        return 2\n",
        "    \n",
        "#background-0 botnet-1 and Normal-2\n",
        "ctu_data[\"Final-Labels\"] = ctu_data.Label.apply(Label_op)\n",
        "ctu_data[\"Final-Labels\"].value_counts()"
      ],
      "id": "00ff8fd7",
      "execution_count": null,
      "outputs": [
        {
          "output_type": "execute_result",
          "data": {
            "text/plain": [
              "0    2753288\n",
              "1      40961\n",
              "2      30387\n",
              "Name: Final-Labels, dtype: int64"
            ]
          },
          "metadata": {},
          "execution_count": 4
        }
      ]
    },
    {
      "cell_type": "code",
      "metadata": {
        "id": "rLbNpI85nTe3"
      },
      "source": [
        "ctu_data.drop(['Label','Dir'],axis=1,inplace=True)"
      ],
      "id": "rLbNpI85nTe3",
      "execution_count": null,
      "outputs": []
    },
    {
      "cell_type": "markdown",
      "metadata": {
        "id": "xtgRTv57_Suu"
      },
      "source": [
        "## EDA"
      ],
      "id": "xtgRTv57_Suu"
    },
    {
      "cell_type": "markdown",
      "metadata": {
        "id": "svcxrQIybw8W"
      },
      "source": [
        "Nan values correlations "
      ],
      "id": "svcxrQIybw8W"
    },
    {
      "cell_type": "code",
      "metadata": {
        "colab": {
          "base_uri": "https://localhost:8080/",
          "height": 546
        },
        "id": "t-KY64JT_PhH",
        "outputId": "3bf6bf70-52a7-4cf3-a7ee-b7956fa0e597"
      },
      "source": [
        "nan_df = ctu_data[ctu_data.isnull().any(axis=1)]\n",
        "nan_df.head(10)"
      ],
      "id": "t-KY64JT_PhH",
      "execution_count": null,
      "outputs": [
        {
          "output_type": "execute_result",
          "data": {
            "text/html": [
              "<div>\n",
              "<style scoped>\n",
              "    .dataframe tbody tr th:only-of-type {\n",
              "        vertical-align: middle;\n",
              "    }\n",
              "\n",
              "    .dataframe tbody tr th {\n",
              "        vertical-align: top;\n",
              "    }\n",
              "\n",
              "    .dataframe thead th {\n",
              "        text-align: right;\n",
              "    }\n",
              "</style>\n",
              "<table border=\"1\" class=\"dataframe\">\n",
              "  <thead>\n",
              "    <tr style=\"text-align: right;\">\n",
              "      <th></th>\n",
              "      <th>StartTime</th>\n",
              "      <th>Dur</th>\n",
              "      <th>Proto</th>\n",
              "      <th>SrcAddr</th>\n",
              "      <th>Sport</th>\n",
              "      <th>Dir</th>\n",
              "      <th>DstAddr</th>\n",
              "      <th>Dport</th>\n",
              "      <th>State</th>\n",
              "      <th>sTos</th>\n",
              "      <th>dTos</th>\n",
              "      <th>TotPkts</th>\n",
              "      <th>TotBytes</th>\n",
              "      <th>SrcBytes</th>\n",
              "      <th>Label</th>\n",
              "      <th>Final-Labels</th>\n",
              "    </tr>\n",
              "  </thead>\n",
              "  <tbody>\n",
              "    <tr>\n",
              "      <th>24</th>\n",
              "      <td>2011/08/10 09:46:53.107669</td>\n",
              "      <td>0.000000</td>\n",
              "      <td>tcp</td>\n",
              "      <td>199.59.148.20</td>\n",
              "      <td>443</td>\n",
              "      <td>?&gt;</td>\n",
              "      <td>147.32.84.184</td>\n",
              "      <td>51855</td>\n",
              "      <td>A_</td>\n",
              "      <td>0.0</td>\n",
              "      <td>NaN</td>\n",
              "      <td>1</td>\n",
              "      <td>60</td>\n",
              "      <td>60</td>\n",
              "      <td>flow=Background</td>\n",
              "      <td>0</td>\n",
              "    </tr>\n",
              "    <tr>\n",
              "      <th>32</th>\n",
              "      <td>2011/08/10 09:46:53.132734</td>\n",
              "      <td>619.352722</td>\n",
              "      <td>udp</td>\n",
              "      <td>147.32.84.229</td>\n",
              "      <td>13363</td>\n",
              "      <td>-&gt;</td>\n",
              "      <td>31.9.113.254</td>\n",
              "      <td>23320</td>\n",
              "      <td>INT</td>\n",
              "      <td>0.0</td>\n",
              "      <td>NaN</td>\n",
              "      <td>4</td>\n",
              "      <td>568</td>\n",
              "      <td>568</td>\n",
              "      <td>flow=Background-UDP-Attempt</td>\n",
              "      <td>0</td>\n",
              "    </tr>\n",
              "    <tr>\n",
              "      <th>36</th>\n",
              "      <td>2011/08/10 09:46:53.138034</td>\n",
              "      <td>12.067851</td>\n",
              "      <td>tcp</td>\n",
              "      <td>178.236.4.29</td>\n",
              "      <td>80</td>\n",
              "      <td>?&gt;</td>\n",
              "      <td>147.32.86.141</td>\n",
              "      <td>2019</td>\n",
              "      <td>FA_</td>\n",
              "      <td>0.0</td>\n",
              "      <td>NaN</td>\n",
              "      <td>3</td>\n",
              "      <td>180</td>\n",
              "      <td>180</td>\n",
              "      <td>flow=Background</td>\n",
              "      <td>0</td>\n",
              "    </tr>\n",
              "    <tr>\n",
              "      <th>49</th>\n",
              "      <td>2011/08/10 09:46:53.160043</td>\n",
              "      <td>0.000000</td>\n",
              "      <td>udp</td>\n",
              "      <td>147.32.80.9</td>\n",
              "      <td>53</td>\n",
              "      <td>-&gt;</td>\n",
              "      <td>147.32.86.111</td>\n",
              "      <td>54230</td>\n",
              "      <td>INT</td>\n",
              "      <td>0.0</td>\n",
              "      <td>NaN</td>\n",
              "      <td>1</td>\n",
              "      <td>141</td>\n",
              "      <td>141</td>\n",
              "      <td>flow=From-Normal-V42-UDP-CVUT-DNS-Server</td>\n",
              "      <td>2</td>\n",
              "    </tr>\n",
              "    <tr>\n",
              "      <th>52</th>\n",
              "      <td>2011/08/10 09:46:53.171249</td>\n",
              "      <td>12.067648</td>\n",
              "      <td>tcp</td>\n",
              "      <td>178.236.4.29</td>\n",
              "      <td>80</td>\n",
              "      <td>?&gt;</td>\n",
              "      <td>147.32.86.141</td>\n",
              "      <td>2017</td>\n",
              "      <td>FA_</td>\n",
              "      <td>0.0</td>\n",
              "      <td>NaN</td>\n",
              "      <td>3</td>\n",
              "      <td>180</td>\n",
              "      <td>180</td>\n",
              "      <td>flow=Background</td>\n",
              "      <td>0</td>\n",
              "    </tr>\n",
              "    <tr>\n",
              "      <th>53</th>\n",
              "      <td>2011/08/10 09:46:53.174949</td>\n",
              "      <td>12.067688</td>\n",
              "      <td>tcp</td>\n",
              "      <td>178.236.4.29</td>\n",
              "      <td>80</td>\n",
              "      <td>?&gt;</td>\n",
              "      <td>147.32.86.141</td>\n",
              "      <td>2016</td>\n",
              "      <td>FA_</td>\n",
              "      <td>0.0</td>\n",
              "      <td>NaN</td>\n",
              "      <td>3</td>\n",
              "      <td>180</td>\n",
              "      <td>180</td>\n",
              "      <td>flow=Background</td>\n",
              "      <td>0</td>\n",
              "    </tr>\n",
              "    <tr>\n",
              "      <th>56</th>\n",
              "      <td>2011/08/10 09:46:53.176116</td>\n",
              "      <td>25.455866</td>\n",
              "      <td>udp</td>\n",
              "      <td>147.32.84.229</td>\n",
              "      <td>13363</td>\n",
              "      <td>-&gt;</td>\n",
              "      <td>118.168.132.221</td>\n",
              "      <td>53663</td>\n",
              "      <td>INT</td>\n",
              "      <td>0.0</td>\n",
              "      <td>NaN</td>\n",
              "      <td>5</td>\n",
              "      <td>370</td>\n",
              "      <td>370</td>\n",
              "      <td>flow=Background-UDP-Attempt</td>\n",
              "      <td>0</td>\n",
              "    </tr>\n",
              "    <tr>\n",
              "      <th>115</th>\n",
              "      <td>2011/08/10 09:46:53.374594</td>\n",
              "      <td>6.035027</td>\n",
              "      <td>tcp</td>\n",
              "      <td>147.32.84.59</td>\n",
              "      <td>2289</td>\n",
              "      <td>-&gt;</td>\n",
              "      <td>151.64.186.190</td>\n",
              "      <td>6881</td>\n",
              "      <td>S_</td>\n",
              "      <td>0.0</td>\n",
              "      <td>NaN</td>\n",
              "      <td>2</td>\n",
              "      <td>124</td>\n",
              "      <td>124</td>\n",
              "      <td>flow=Background-Attempt-cmpgw-CVUT</td>\n",
              "      <td>0</td>\n",
              "    </tr>\n",
              "    <tr>\n",
              "      <th>119</th>\n",
              "      <td>2011/08/10 09:46:53.387846</td>\n",
              "      <td>3581.035645</td>\n",
              "      <td>pim</td>\n",
              "      <td>147.32.87.1</td>\n",
              "      <td>NaN</td>\n",
              "      <td>-&gt;</td>\n",
              "      <td>224.0.0.13</td>\n",
              "      <td>NaN</td>\n",
              "      <td>INT</td>\n",
              "      <td>0.0</td>\n",
              "      <td>NaN</td>\n",
              "      <td>182</td>\n",
              "      <td>13584</td>\n",
              "      <td>13584</td>\n",
              "      <td>flow=Background</td>\n",
              "      <td>0</td>\n",
              "    </tr>\n",
              "    <tr>\n",
              "      <th>136</th>\n",
              "      <td>2011/08/10 09:46:53.465909</td>\n",
              "      <td>724.939331</td>\n",
              "      <td>udp</td>\n",
              "      <td>147.32.84.229</td>\n",
              "      <td>13363</td>\n",
              "      <td>-&gt;</td>\n",
              "      <td>212.178.10.94</td>\n",
              "      <td>50239</td>\n",
              "      <td>INT</td>\n",
              "      <td>0.0</td>\n",
              "      <td>NaN</td>\n",
              "      <td>4</td>\n",
              "      <td>596</td>\n",
              "      <td>596</td>\n",
              "      <td>flow=Background-UDP-Attempt</td>\n",
              "      <td>0</td>\n",
              "    </tr>\n",
              "  </tbody>\n",
              "</table>\n",
              "</div>"
            ],
            "text/plain": [
              "                      StartTime  ...  Final-Labels\n",
              "24   2011/08/10 09:46:53.107669  ...             0\n",
              "32   2011/08/10 09:46:53.132734  ...             0\n",
              "36   2011/08/10 09:46:53.138034  ...             0\n",
              "49   2011/08/10 09:46:53.160043  ...             2\n",
              "52   2011/08/10 09:46:53.171249  ...             0\n",
              "53   2011/08/10 09:46:53.174949  ...             0\n",
              "56   2011/08/10 09:46:53.176116  ...             0\n",
              "115  2011/08/10 09:46:53.374594  ...             0\n",
              "119  2011/08/10 09:46:53.387846  ...             0\n",
              "136  2011/08/10 09:46:53.465909  ...             0\n",
              "\n",
              "[10 rows x 16 columns]"
            ]
          },
          "metadata": {},
          "execution_count": 18
        }
      ]
    },
    {
      "cell_type": "code",
      "metadata": {
        "colab": {
          "base_uri": "https://localhost:8080/"
        },
        "id": "sn9J8p5uJ4SD",
        "outputId": "bd157b04-bc8f-4e9c-bf86-f105e7242540"
      },
      "source": [
        "ctu_data.loc[ctu_data[\"Final-Labels\"] == 1].shape[0]/ctu_data.shape[0]*100"
      ],
      "id": "sn9J8p5uJ4SD",
      "execution_count": null,
      "outputs": [
        {
          "output_type": "execute_result",
          "data": {
            "text/plain": [
              "1.4501337517471278"
            ]
          },
          "metadata": {},
          "execution_count": 23
        }
      ]
    },
    {
      "cell_type": "code",
      "metadata": {
        "colab": {
          "base_uri": "https://localhost:8080/"
        },
        "id": "q5sqiDim_sLw",
        "outputId": "a912630e-36da-40e7-e4c2-cb221c002a64"
      },
      "source": [
        "nan_df['Final-Labels'].value_counts()"
      ],
      "id": "q5sqiDim_sLw",
      "execution_count": null,
      "outputs": [
        {
          "output_type": "execute_result",
          "data": {
            "text/plain": [
              "0    192287\n",
              "1     12835\n",
              "2       174\n",
              "Name: Final-Labels, dtype: int64"
            ]
          },
          "metadata": {},
          "execution_count": 9
        }
      ]
    },
    {
      "cell_type": "code",
      "metadata": {
        "colab": {
          "base_uri": "https://localhost:8080/"
        },
        "id": "fw2w4pfYEiDG",
        "outputId": "134ee7dd-0ac5-4972-f61b-0bd98eadf254"
      },
      "source": [
        "nan_df.shape[0]/ctu_data.shape[0]"
      ],
      "id": "fw2w4pfYEiDG",
      "execution_count": null,
      "outputs": [
        {
          "output_type": "execute_result",
          "data": {
            "text/plain": [
              "0.07268051529471407"
            ]
          },
          "metadata": {},
          "execution_count": 17
        }
      ]
    },
    {
      "cell_type": "code",
      "metadata": {
        "colab": {
          "base_uri": "https://localhost:8080/"
        },
        "id": "gsvjVFIyGW47",
        "outputId": "c1686872-4a0e-42f8-f673-3ed1e2c9f698"
      },
      "source": [
        "nan_df.loc[nan_df[\"Final-Labels\"] == 1].shape[0]"
      ],
      "id": "gsvjVFIyGW47",
      "execution_count": null,
      "outputs": [
        {
          "output_type": "execute_result",
          "data": {
            "text/plain": [
              "12835"
            ]
          },
          "metadata": {},
          "execution_count": 22
        }
      ]
    },
    {
      "cell_type": "code",
      "metadata": {
        "colab": {
          "base_uri": "https://localhost:8080/"
        },
        "id": "4AD_BOj2E-Tz",
        "outputId": "a404d90a-7fa5-4f9b-deb6-ceffdc6ab7cf"
      },
      "source": [
        "nan_df.loc[nan_df[\"Final-Labels\"] == 1].shape[0]/ctu_data.shape[0]*100"
      ],
      "id": "4AD_BOj2E-Tz",
      "execution_count": null,
      "outputs": [
        {
          "output_type": "execute_result",
          "data": {
            "text/plain": [
              "0.4543948317588532"
            ]
          },
          "metadata": {},
          "execution_count": 21
        }
      ]
    },
    {
      "cell_type": "code",
      "metadata": {
        "colab": {
          "base_uri": "https://localhost:8080/"
        },
        "id": "2_hTadJUDGtP",
        "outputId": "32d43e2a-fafc-479d-cabc-7a70a4e6e0e1"
      },
      "source": [
        "(nan_df['Final-Labels'].value_counts()/ctu_data['Final-Labels'].value_counts()) *100"
      ],
      "id": "2_hTadJUDGtP",
      "execution_count": null,
      "outputs": [
        {
          "output_type": "execute_result",
          "data": {
            "text/plain": [
              "0     6.983904\n",
              "1    31.334684\n",
              "2     0.572613\n",
              "Name: Final-Labels, dtype: float64"
            ]
          },
          "metadata": {},
          "execution_count": 12
        }
      ]
    },
    {
      "cell_type": "code",
      "metadata": {
        "colab": {
          "base_uri": "https://localhost:8080/"
        },
        "id": "L1tSIvXGDl2B",
        "outputId": "d60c8397-7d96-4e3c-a89a-b5c8e76b839c"
      },
      "source": [
        "nan_df['Proto'].value_counts()"
      ],
      "id": "L1tSIvXGDl2B",
      "execution_count": null,
      "outputs": [
        {
          "output_type": "execute_result",
          "data": {
            "text/plain": [
              "udp          84447\n",
              "tcp          80221\n",
              "icmp         38153\n",
              "igmp          1803\n",
              "arp            477\n",
              "rtcp            83\n",
              "ipv6-icmp       58\n",
              "ipx/spx         13\n",
              "esp             10\n",
              "ipv6            10\n",
              "rtp              8\n",
              "pim              7\n",
              "rarp             4\n",
              "unas             1\n",
              "udt              1\n",
              "Name: Proto, dtype: int64"
            ]
          },
          "metadata": {},
          "execution_count": 14
        }
      ]
    },
    {
      "cell_type": "code",
      "metadata": {
        "colab": {
          "base_uri": "https://localhost:8080/"
        },
        "id": "2KUvojmxENvo",
        "outputId": "42d9ad0d-b4fc-4d2e-c14c-a078505755f8"
      },
      "source": [
        "ctu_data['Proto'].value_counts()"
      ],
      "id": "2KUvojmxENvo",
      "execution_count": null,
      "outputs": [
        {
          "output_type": "execute_result",
          "data": {
            "text/plain": [
              "udp          2270083\n",
              "tcp           507557\n",
              "icmp           39694\n",
              "rtp             2570\n",
              "rtcp            2339\n",
              "igmp            1803\n",
              "arp              477\n",
              "ipv6-icmp         58\n",
              "ipx/spx           13\n",
              "esp               10\n",
              "udt               10\n",
              "ipv6              10\n",
              "pim                7\n",
              "rarp               4\n",
              "unas               1\n",
              "Name: Proto, dtype: int64"
            ]
          },
          "metadata": {},
          "execution_count": 15
        }
      ]
    },
    {
      "cell_type": "code",
      "metadata": {
        "colab": {
          "base_uri": "https://localhost:8080/"
        },
        "id": "xFZJBhmtAGVA",
        "outputId": "24441813-ebb3-4212-a0c0-870bdfe00ee0"
      },
      "source": [
        "(nan_df['Proto'].value_counts()/ctu_data['Proto'].value_counts())*100"
      ],
      "id": "xFZJBhmtAGVA",
      "execution_count": null,
      "outputs": [
        {
          "output_type": "execute_result",
          "data": {
            "text/plain": [
              "arp          100.000000\n",
              "esp          100.000000\n",
              "icmp          96.117801\n",
              "igmp         100.000000\n",
              "ipv6         100.000000\n",
              "ipv6-icmp    100.000000\n",
              "ipx/spx      100.000000\n",
              "pim          100.000000\n",
              "rarp         100.000000\n",
              "rtcp           3.548525\n",
              "rtp            0.311284\n",
              "tcp           15.805318\n",
              "udp            3.719996\n",
              "udt           10.000000\n",
              "unas         100.000000\n",
              "Name: Proto, dtype: float64"
            ]
          },
          "metadata": {},
          "execution_count": 13
        }
      ]
    },
    {
      "cell_type": "code",
      "metadata": {
        "id": "nyS2cgcvCzCw"
      },
      "source": [
        "nan_df['Proto']"
      ],
      "id": "nyS2cgcvCzCw",
      "execution_count": null,
      "outputs": []
    },
    {
      "cell_type": "markdown",
      "source": [
        "Relation b/w botnet records and protocols"
      ],
      "metadata": {
        "id": "Elw-3r3VMyPI"
      },
      "id": "Elw-3r3VMyPI"
    },
    {
      "cell_type": "code",
      "metadata": {
        "colab": {
          "base_uri": "https://localhost:8080/",
          "height": 401
        },
        "id": "78ZHWBYJGFrK",
        "outputId": "3198ef19-d7e6-4aed-a11c-d6ce5c46c6f4"
      },
      "source": [
        "botnet_df = ctu_data.loc[ctu_data[\"Final-Labels\"] == 1]\n",
        "print(botnet_df.Proto.value_counts())\n",
        "plt.hist(botnet_df.Proto,histtype = 'bar',rwidth = 0.8)"
      ],
      "id": "78ZHWBYJGFrK",
      "execution_count": null,
      "outputs": [
        {
          "output_type": "stream",
          "text": [
            "udp     29203\n",
            "tcp     11756\n",
            "icmp        2\n",
            "Name: Proto, dtype: int64\n"
          ],
          "name": "stdout"
        },
        {
          "output_type": "execute_result",
          "data": {
            "text/plain": [
              "(array([2.9203e+04, 0.0000e+00, 0.0000e+00, 0.0000e+00, 0.0000e+00,\n",
              "        1.1756e+04, 0.0000e+00, 0.0000e+00, 0.0000e+00, 2.0000e+00]),\n",
              " array([0. , 0.2, 0.4, 0.6, 0.8, 1. , 1.2, 1.4, 1.6, 1.8, 2. ]),\n",
              " <a list of 10 Patch objects>)"
            ]
          },
          "metadata": {
            "tags": []
          },
          "execution_count": 8
        },
        {
          "output_type": "display_data",
          "data": {
            "image/png": "[encoded data removed]",
            "text/plain": [
              "<Figure size 432x288 with 1 Axes>"
            ]
          },
          "metadata": {
            "tags": [],
            "needs_background": "light"
          }
        }
      ]
    },
    {
      "cell_type": "markdown",
      "source": [
        "Relation b/w background records and protocols"
      ],
      "metadata": {
        "id": "lMK2-h5BM24_"
      },
      "id": "lMK2-h5BM24_"
    },
    {
      "cell_type": "code",
      "metadata": {
        "colab": {
          "base_uri": "https://localhost:8080/",
          "height": 633
        },
        "id": "XiH98zrjmAmV",
        "outputId": "ec1ddc0d-8f77-4d2e-e4cc-1be6b60b7e7a"
      },
      "source": [
        "background_df = ctu_data.loc[ctu_data[\"Final-Labels\"] == 0]\n",
        "print(background_df.Proto.value_counts())\n",
        "plt.hist(background_df.Proto,histtype = 'bar',rwidth = 0.8)"
      ],
      "id": "XiH98zrjmAmV",
      "execution_count": null,
      "outputs": [
        {
          "output_type": "stream",
          "text": [
            "udp          2219883\n",
            "tcp           486459\n",
            "icmp           39657\n",
            "rtp             2570\n",
            "rtcp            2339\n",
            "igmp            1803\n",
            "arp              464\n",
            "ipv6-icmp         58\n",
            "ipx/spx           13\n",
            "esp               10\n",
            "ipv6              10\n",
            "udt               10\n",
            "pim                7\n",
            "rarp               4\n",
            "unas               1\n",
            "Name: Proto, dtype: int64\n"
          ],
          "name": "stdout"
        },
        {
          "output_type": "execute_result",
          "data": {
            "text/plain": [
              "(array([2.706342e+06, 2.570000e+03, 3.966400e+04, 4.640000e+02,\n",
              "        1.300000e+01, 4.142000e+03, 5.800000e+01, 2.000000e+01,\n",
              "        1.000000e+01, 5.000000e+00]),\n",
              " array([ 0. ,  1.4,  2.8,  4.2,  5.6,  7. ,  8.4,  9.8, 11.2, 12.6, 14. ]),\n",
              " <a list of 10 Patch objects>)"
            ]
          },
          "metadata": {
            "tags": []
          },
          "execution_count": 9
        },
        {
          "output_type": "display_data",
          "data": {
            "image/png": "[encoded data removed]",
            "text/plain": [
              "<Figure size 432x288 with 1 Axes>"
            ]
          },
          "metadata": {
            "tags": [],
            "needs_background": "light"
          }
        }
      ]
    },
    {
      "cell_type": "markdown",
      "source": [
        "Relation b/w sport and botnet"
      ],
      "metadata": {
        "id": "YIr_4D0MM7Nb"
      },
      "id": "YIr_4D0MM7Nb"
    },
    {
      "cell_type": "code",
      "metadata": {
        "colab": {
          "base_uri": "https://localhost:8080/",
          "height": 469
        },
        "id": "uoES462ZnWAj",
        "outputId": "b5cbcf83-1b96-4e17-da4c-55dc7f5ae328"
      },
      "source": [
        "plt.hist(botnet_df.Sport,histtype = 'bar',rwidth = 0.8)\n",
        "print(botnet_df.Sport.value_counts())"
      ],
      "id": "uoES462ZnWAj",
      "execution_count": null,
      "outputs": [
        {
          "output_type": "stream",
          "text": [
            "2077    16116\n",
            "2079    12427\n",
            "1025      239\n",
            "1291      225\n",
            "1303      201\n",
            "        ...  \n",
            "2843        1\n",
            "2790        1\n",
            "2327        1\n",
            "1192        1\n",
            "2301        1\n",
            "Name: Sport, Length: 3975, dtype: int64\n"
          ],
          "name": "stdout"
        },
        {
          "output_type": "display_data",
          "data": {
            "image/png": "[encoded data removed]",
            "text/plain": [
              "<Figure size 432x288 with 1 Axes>"
            ]
          },
          "metadata": {
            "tags": []
          }
        }
      ]
    },
    {
      "cell_type": "code",
      "metadata": {
        "colab": {
          "base_uri": "https://localhost:8080/"
        },
        "id": "YwFbnjhmtpv_",
        "outputId": "0a6beec9-e690-4304-dea3-f20a202436c2"
      },
      "source": [
        "#plt.hist(np.int(background_df.Sport),histtype = 'bar',rwidth = 0.8)\n",
        "print(background_df.Sport.value_counts())"
      ],
      "id": "YwFbnjhmtpv_",
      "execution_count": null,
      "outputs": [
        {
          "output_type": "stream",
          "text": [
            "13363     143098\n",
            "0x0303     23559\n",
            "12200      11115\n",
            "80          5880\n",
            "35155       5282\n",
            "           ...  \n",
            "799            1\n",
            "481            1\n",
            "951            1\n",
            "85             1\n",
            "222            1\n",
            "Name: Sport, Length: 64734, dtype: int64\n"
          ],
          "name": "stdout"
        }
      ]
    },
    {
      "cell_type": "markdown",
      "source": [
        "Relation between Src Addr, Botnet and Background traffic"
      ],
      "metadata": {
        "id": "HOOfoA1SNBC0"
      },
      "id": "HOOfoA1SNBC0"
    },
    {
      "cell_type": "code",
      "metadata": {
        "colab": {
          "base_uri": "https://localhost:8080/"
        },
        "id": "20jGZ3dDKmXH",
        "outputId": "de3f39de-1fb6-4b03-8659-9a1973b83faa"
      },
      "source": [
        "botnet_df.SrcAddr.value_counts()"
      ],
      "id": "20jGZ3dDKmXH",
      "execution_count": null,
      "outputs": [
        {
          "output_type": "execute_result",
          "data": {
            "text/plain": [
              "147.32.84.165    40961\n",
              "Name: SrcAddr, dtype: int64"
            ]
          },
          "metadata": {
            "tags": []
          },
          "execution_count": 11
        }
      ]
    },
    {
      "cell_type": "code",
      "metadata": {
        "colab": {
          "base_uri": "https://localhost:8080/"
        },
        "id": "4zuxYS8gK43B",
        "outputId": "c943fbdc-dd33-4f64-ff66-ded64f1023d2"
      },
      "source": [
        "background_df.SrcAddr.value_counts()"
      ],
      "id": "4zuxYS8gK43B",
      "execution_count": null,
      "outputs": [
        {
          "output_type": "execute_result",
          "data": {
            "text/plain": [
              "147.32.84.138     530299\n",
              "147.32.84.59      263081\n",
              "147.32.84.229     143712\n",
              "70.37.98.60        64001\n",
              "147.32.85.25       44863\n",
              "                   ...  \n",
              "95.29.83.9             1\n",
              "119.230.59.137         1\n",
              "76.205.154.224         1\n",
              "84.139.101.96          1\n",
              "201.24.72.242          1\n",
              "Name: SrcAddr, Length: 542087, dtype: int64"
            ]
          },
          "metadata": {
            "tags": []
          },
          "execution_count": 12
        }
      ]
    },
    {
      "cell_type": "code",
      "metadata": {
        "colab": {
          "base_uri": "https://localhost:8080/",
          "height": 204
        },
        "id": "qxhTqfyHK_QL",
        "outputId": "16cd843f-9f54-4f62-991e-5c3f65f2fe08"
      },
      "source": [
        "background_df.head()"
      ],
      "id": "qxhTqfyHK_QL",
      "execution_count": null,
      "outputs": [
        {
          "output_type": "execute_result",
          "data": {
            "text/html": [
              "<div>\n",
              "<style scoped>\n",
              "    .dataframe tbody tr th:only-of-type {\n",
              "        vertical-align: middle;\n",
              "    }\n",
              "\n",
              "    .dataframe tbody tr th {\n",
              "        vertical-align: top;\n",
              "    }\n",
              "\n",
              "    .dataframe thead th {\n",
              "        text-align: right;\n",
              "    }\n",
              "</style>\n",
              "<table border=\"1\" class=\"dataframe\">\n",
              "  <thead>\n",
              "    <tr style=\"text-align: right;\">\n",
              "      <th></th>\n",
              "      <th>StartTime</th>\n",
              "      <th>Dur</th>\n",
              "      <th>Proto</th>\n",
              "      <th>SrcAddr</th>\n",
              "      <th>Sport</th>\n",
              "      <th>DstAddr</th>\n",
              "      <th>Dport</th>\n",
              "      <th>State</th>\n",
              "      <th>sTos</th>\n",
              "      <th>dTos</th>\n",
              "      <th>TotPkts</th>\n",
              "      <th>TotBytes</th>\n",
              "      <th>SrcBytes</th>\n",
              "      <th>Final-Labels</th>\n",
              "    </tr>\n",
              "  </thead>\n",
              "  <tbody>\n",
              "    <tr>\n",
              "      <th>0</th>\n",
              "      <td>2011/08/10 09:46:53.047277</td>\n",
              "      <td>3550.182373</td>\n",
              "      <td>udp</td>\n",
              "      <td>212.50.71.179</td>\n",
              "      <td>39678</td>\n",
              "      <td>147.32.84.229</td>\n",
              "      <td>13363</td>\n",
              "      <td>CON</td>\n",
              "      <td>0.0</td>\n",
              "      <td>0.0</td>\n",
              "      <td>12</td>\n",
              "      <td>875</td>\n",
              "      <td>413</td>\n",
              "      <td>0</td>\n",
              "    </tr>\n",
              "    <tr>\n",
              "      <th>1</th>\n",
              "      <td>2011/08/10 09:46:53.048843</td>\n",
              "      <td>0.000883</td>\n",
              "      <td>udp</td>\n",
              "      <td>84.13.246.132</td>\n",
              "      <td>28431</td>\n",
              "      <td>147.32.84.229</td>\n",
              "      <td>13363</td>\n",
              "      <td>CON</td>\n",
              "      <td>0.0</td>\n",
              "      <td>0.0</td>\n",
              "      <td>2</td>\n",
              "      <td>135</td>\n",
              "      <td>75</td>\n",
              "      <td>0</td>\n",
              "    </tr>\n",
              "    <tr>\n",
              "      <th>2</th>\n",
              "      <td>2011/08/10 09:46:53.049895</td>\n",
              "      <td>0.000326</td>\n",
              "      <td>tcp</td>\n",
              "      <td>217.163.21.35</td>\n",
              "      <td>80</td>\n",
              "      <td>147.32.86.194</td>\n",
              "      <td>2063</td>\n",
              "      <td>FA_A</td>\n",
              "      <td>0.0</td>\n",
              "      <td>0.0</td>\n",
              "      <td>2</td>\n",
              "      <td>120</td>\n",
              "      <td>60</td>\n",
              "      <td>0</td>\n",
              "    </tr>\n",
              "    <tr>\n",
              "      <th>3</th>\n",
              "      <td>2011/08/10 09:46:53.053771</td>\n",
              "      <td>0.056966</td>\n",
              "      <td>tcp</td>\n",
              "      <td>83.3.77.74</td>\n",
              "      <td>32882</td>\n",
              "      <td>147.32.85.5</td>\n",
              "      <td>21857</td>\n",
              "      <td>FA_FA</td>\n",
              "      <td>0.0</td>\n",
              "      <td>0.0</td>\n",
              "      <td>3</td>\n",
              "      <td>180</td>\n",
              "      <td>120</td>\n",
              "      <td>0</td>\n",
              "    </tr>\n",
              "    <tr>\n",
              "      <th>4</th>\n",
              "      <td>2011/08/10 09:46:53.053937</td>\n",
              "      <td>3427.768066</td>\n",
              "      <td>udp</td>\n",
              "      <td>74.89.223.204</td>\n",
              "      <td>21278</td>\n",
              "      <td>147.32.84.229</td>\n",
              "      <td>13363</td>\n",
              "      <td>CON</td>\n",
              "      <td>0.0</td>\n",
              "      <td>0.0</td>\n",
              "      <td>42</td>\n",
              "      <td>2856</td>\n",
              "      <td>1596</td>\n",
              "      <td>0</td>\n",
              "    </tr>\n",
              "  </tbody>\n",
              "</table>\n",
              "</div>"
            ],
            "text/plain": [
              "                    StartTime          Dur  ... SrcBytes Final-Labels\n",
              "0  2011/08/10 09:46:53.047277  3550.182373  ...      413            0\n",
              "1  2011/08/10 09:46:53.048843     0.000883  ...       75            0\n",
              "2  2011/08/10 09:46:53.049895     0.000326  ...       60            0\n",
              "3  2011/08/10 09:46:53.053771     0.056966  ...      120            0\n",
              "4  2011/08/10 09:46:53.053937  3427.768066  ...     1596            0\n",
              "\n",
              "[5 rows x 14 columns]"
            ]
          },
          "metadata": {
            "tags": []
          },
          "execution_count": 17
        }
      ]
    },
    {
      "cell_type": "code",
      "metadata": {
        "colab": {
          "base_uri": "https://localhost:8080/"
        },
        "id": "ROSsQ1slNIHC",
        "outputId": "7f97861f-84fc-4621-cfd9-ca510564c404"
      },
      "source": [
        "background_df.loc[background_df['SrcAddr']==\"95.29.83.9\"].value_counts()"
      ],
      "id": "ROSsQ1slNIHC",
      "execution_count": null,
      "outputs": [
        {
          "output_type": "execute_result",
          "data": {
            "text/plain": [
              "StartTime                   Dur       Proto  SrcAddr     Sport  DstAddr        Dport  State  sTos  dTos  TotPkts  TotBytes  SrcBytes  Final-Labels\n",
              "2011/08/10 15:36:56.793895  0.000842  udp    95.29.83.9  57969  147.32.84.229  13363  CON    0.0   0.0   2        161       100       0               1\n",
              "dtype: int64"
            ]
          },
          "metadata": {
            "tags": []
          },
          "execution_count": 22
        }
      ]
    },
    {
      "cell_type": "code",
      "metadata": {
        "colab": {
          "base_uri": "https://localhost:8080/",
          "height": 547
        },
        "id": "QC-dPl_Vvoic",
        "outputId": "feacdf2f-6930-4d0c-d583-20f552bd06a5"
      },
      "source": [
        "#after removing outliers botnet TotBytes\n",
        "sns.boxplot(botnet_df.TotBytes)\n",
        "print(botnet_df.TotBytes.value_counts())"
      ],
      "id": "QC-dPl_Vvoic",
      "execution_count": null,
      "outputs": [
        {
          "output_type": "stream",
          "text": [
            "/usr/local/lib/python3.7/dist-packages/seaborn/_decorators.py:43: FutureWarning: Pass the following variable as a keyword arg: x. From version 0.12, the only valid positional argument will be `data`, and passing other arguments without an explicit keyword will result in an error or misinterpretation.\n",
            "  FutureWarning\n"
          ],
          "name": "stderr"
        },
        {
          "output_type": "stream",
          "text": [
            "186     8990\n",
            "142     5804\n",
            "1430    1230\n",
            "218      653\n",
            "150      520\n",
            "        ... \n",
            "888        1\n",
            "531        1\n",
            "167        1\n",
            "1414       1\n",
            "498        1\n",
            "Name: TotBytes, Length: 602, dtype: int64\n"
          ],
          "name": "stdout"
        },
        {
          "output_type": "display_data",
          "data": {
            "image/png": "[encoded data removed]",
            "text/plain": [
              "<Figure size 432x288 with 1 Axes>"
            ]
          },
          "metadata": {
            "tags": []
          }
        }
      ]
    },
    {
      "cell_type": "code",
      "metadata": {
        "colab": {
          "base_uri": "https://localhost:8080/",
          "height": 352
        },
        "id": "9SNj847BaT_r",
        "outputId": "ab0e250e-fda6-4218-a4f4-d47bca6451be"
      },
      "source": [
        "#after removing outliers TotBytes for Background data\n",
        "sns.boxplot(background_df['TotBytes'])"
      ],
      "id": "9SNj847BaT_r",
      "execution_count": null,
      "outputs": [
        {
          "output_type": "stream",
          "text": [
            "/usr/local/lib/python3.7/dist-packages/seaborn/_decorators.py:43: FutureWarning: Pass the following variable as a keyword arg: x. From version 0.12, the only valid positional argument will be `data`, and passing other arguments without an explicit keyword will result in an error or misinterpretation.\n",
            "  FutureWarning\n"
          ],
          "name": "stderr"
        },
        {
          "output_type": "execute_result",
          "data": {
            "text/plain": [
              "<matplotlib.axes._subplots.AxesSubplot at 0x7f60ca6483d0>"
            ]
          },
          "metadata": {
            "tags": []
          },
          "execution_count": 20
        },
        {
          "output_type": "display_data",
          "data": {
            "image/png": "[encoded data removed]",
            "text/plain": [
              "<Figure size 432x288 with 1 Axes>"
            ]
          },
          "metadata": {
            "tags": []
          }
        }
      ]
    },
    {
      "cell_type": "markdown",
      "source": [
        "Plotting Totbytes together for botnet and background"
      ],
      "metadata": {
        "id": "eT8VJzF-NLf3"
      },
      "id": "eT8VJzF-NLf3"
    },
    {
      "cell_type": "code",
      "metadata": {
        "colab": {
          "base_uri": "https://localhost:8080/",
          "height": 275
        },
        "id": "F9jfCAMiavdS",
        "outputId": "05532717-8f79-4a63-eca2-38f616b02d40"
      },
      "source": [
        "plt.hist(background_df['TotBytes'],label='background')\n",
        "plt.hist(botnet_df['TotBytes'],label='botnet')\n",
        "plt.legend(loc='upper right')\n",
        "plt.show()\n",
        "\n"
      ],
      "id": "F9jfCAMiavdS",
      "execution_count": null,
      "outputs": [
        {
          "output_type": "display_data",
          "data": {
            "image/png": "[encoded data removed]",
            "text/plain": [
              "<Figure size 432x288 with 1 Axes>"
            ]
          },
          "metadata": {
            "tags": []
          }
        }
      ]
    },
    {
      "cell_type": "code",
      "metadata": {
        "colab": {
          "base_uri": "https://localhost:8080/",
          "height": 353
        },
        "id": "XWor3OvvdSd6",
        "outputId": "3c87408a-166c-46fe-9f6f-63d134d259f8"
      },
      "source": [
        "plt.hist(botnet_df['TotBytes'],label='botnet')"
      ],
      "id": "XWor3OvvdSd6",
      "execution_count": null,
      "outputs": [
        {
          "output_type": "execute_result",
          "data": {
            "text/plain": [
              "(array([3.1469e+04, 4.6780e+03, 1.3430e+03, 1.8580e+03, 5.0000e+00,\n",
              "        5.0000e+01, 1.0600e+02, 7.3000e+01, 7.9000e+01, 1.3000e+03]),\n",
              " array([ 142. ,  270.8,  399.6,  528.4,  657.2,  786. ,  914.8, 1043.6,\n",
              "        1172.4, 1301.2, 1430. ]),\n",
              " <a list of 10 Patch objects>)"
            ]
          },
          "metadata": {
            "tags": []
          },
          "execution_count": 26
        },
        {
          "output_type": "display_data",
          "data": {
            "image/png": "[encoded data removed]",
            "text/plain": [
              "<Figure size 432x288 with 1 Axes>"
            ]
          },
          "metadata": {
            "tags": []
          }
        }
      ]
    },
    {
      "cell_type": "markdown",
      "source": [
        "Plotting Totpkts for both background and botnet"
      ],
      "metadata": {
        "id": "jel5E91yNSE8"
      },
      "id": "jel5E91yNSE8"
    },
    {
      "cell_type": "code",
      "metadata": {
        "colab": {
          "base_uri": "https://localhost:8080/",
          "height": 275
        },
        "id": "eD1ypqbXerjX",
        "outputId": "d98624db-757c-40c6-d3a9-38b25348b53b"
      },
      "source": [
        "plt.hist(background_df['TotPkts'],label='background')\n",
        "plt.hist(botnet_df['TotPkts'],label='botnet')\n",
        "plt.legend(loc='upper right')\n",
        "plt.show()"
      ],
      "id": "eD1ypqbXerjX",
      "execution_count": null,
      "outputs": [
        {
          "output_type": "display_data",
          "data": {
            "image/png": "[encoded data removed]",
            "text/plain": [
              "<Figure size 432x288 with 1 Axes>"
            ]
          },
          "metadata": {
            "tags": []
          }
        }
      ]
    },
    {
      "cell_type": "code",
      "metadata": {
        "colab": {
          "base_uri": "https://localhost:8080/",
          "height": 352
        },
        "id": "S3lpkBLsY2Hm",
        "outputId": "5462a38f-be8b-4de4-eab5-9774040d05a1"
      },
      "source": [
        "sns.boxplot(ctu_data['SrcBytes'])"
      ],
      "id": "S3lpkBLsY2Hm",
      "execution_count": null,
      "outputs": [
        {
          "output_type": "stream",
          "text": [
            "/usr/local/lib/python3.7/dist-packages/seaborn/_decorators.py:43: FutureWarning: Pass the following variable as a keyword arg: x. From version 0.12, the only valid positional argument will be `data`, and passing other arguments without an explicit keyword will result in an error or misinterpretation.\n",
            "  FutureWarning\n"
          ],
          "name": "stderr"
        },
        {
          "output_type": "execute_result",
          "data": {
            "text/plain": [
              "<matplotlib.axes._subplots.AxesSubplot at 0x7f60d000a790>"
            ]
          },
          "metadata": {
            "tags": []
          },
          "execution_count": 17
        },
        {
          "output_type": "display_data",
          "data": {
            "image/png": "[encoded data removed]",
            "text/plain": [
              "<Figure size 432x288 with 1 Axes>"
            ]
          },
          "metadata": {
            "tags": []
          }
        }
      ]
    },
    {
      "cell_type": "markdown",
      "source": [
        "Missing values and percentages"
      ],
      "metadata": {
        "id": "8Zm6i6pKNYrz"
      },
      "id": "8Zm6i6pKNYrz"
    },
    {
      "cell_type": "code",
      "metadata": {
        "colab": {
          "base_uri": "https://localhost:8080/",
          "height": 483
        },
        "id": "052a0efe",
        "outputId": "aab52d03-af60-46ff-cc41-c37af06fc67b"
      },
      "source": [
        "missing_counts = ctu_data.isnull().sum().sort_values(ascending=False)\n",
        "missing_percent = ((ctu_data.isnull().sum()*100)/ctu_data.shape[0]).sort_values(ascending=False)\n",
        "missing_df = pd.concat([missing_counts,missing_percent],axis=1,keys=['Counts','Percent'])\n",
        "missing_df"
      ],
      "id": "052a0efe",
      "execution_count": null,
      "outputs": [
        {
          "output_type": "execute_result",
          "data": {
            "text/html": [
              "<div>\n",
              "<style scoped>\n",
              "    .dataframe tbody tr th:only-of-type {\n",
              "        vertical-align: middle;\n",
              "    }\n",
              "\n",
              "    .dataframe tbody tr th {\n",
              "        vertical-align: top;\n",
              "    }\n",
              "\n",
              "    .dataframe thead th {\n",
              "        text-align: right;\n",
              "    }\n",
              "</style>\n",
              "<table border=\"1\" class=\"dataframe\">\n",
              "  <thead>\n",
              "    <tr style=\"text-align: right;\">\n",
              "      <th></th>\n",
              "      <th>Counts</th>\n",
              "      <th>Percent</th>\n",
              "    </tr>\n",
              "  </thead>\n",
              "  <tbody>\n",
              "    <tr>\n",
              "      <th>dTos</th>\n",
              "      <td>195190</td>\n",
              "      <td>6.910271</td>\n",
              "    </tr>\n",
              "    <tr>\n",
              "      <th>sTos</th>\n",
              "      <td>10590</td>\n",
              "      <td>0.374916</td>\n",
              "    </tr>\n",
              "    <tr>\n",
              "      <th>Sport</th>\n",
              "      <td>9379</td>\n",
              "      <td>0.332043</td>\n",
              "    </tr>\n",
              "    <tr>\n",
              "      <th>Dport</th>\n",
              "      <td>4390</td>\n",
              "      <td>0.155418</td>\n",
              "    </tr>\n",
              "    <tr>\n",
              "      <th>State</th>\n",
              "      <td>1</td>\n",
              "      <td>0.000035</td>\n",
              "    </tr>\n",
              "    <tr>\n",
              "      <th>Final-Labels</th>\n",
              "      <td>0</td>\n",
              "      <td>0.000000</td>\n",
              "    </tr>\n",
              "    <tr>\n",
              "      <th>SrcBytes</th>\n",
              "      <td>0</td>\n",
              "      <td>0.000000</td>\n",
              "    </tr>\n",
              "    <tr>\n",
              "      <th>TotBytes</th>\n",
              "      <td>0</td>\n",
              "      <td>0.000000</td>\n",
              "    </tr>\n",
              "    <tr>\n",
              "      <th>TotPkts</th>\n",
              "      <td>0</td>\n",
              "      <td>0.000000</td>\n",
              "    </tr>\n",
              "    <tr>\n",
              "      <th>DstAddr</th>\n",
              "      <td>0</td>\n",
              "      <td>0.000000</td>\n",
              "    </tr>\n",
              "    <tr>\n",
              "      <th>SrcAddr</th>\n",
              "      <td>0</td>\n",
              "      <td>0.000000</td>\n",
              "    </tr>\n",
              "    <tr>\n",
              "      <th>Proto</th>\n",
              "      <td>0</td>\n",
              "      <td>0.000000</td>\n",
              "    </tr>\n",
              "    <tr>\n",
              "      <th>Dur</th>\n",
              "      <td>0</td>\n",
              "      <td>0.000000</td>\n",
              "    </tr>\n",
              "    <tr>\n",
              "      <th>StartTime</th>\n",
              "      <td>0</td>\n",
              "      <td>0.000000</td>\n",
              "    </tr>\n",
              "  </tbody>\n",
              "</table>\n",
              "</div>"
            ],
            "text/plain": [
              "              Counts   Percent\n",
              "dTos          195190  6.910271\n",
              "sTos           10590  0.374916\n",
              "Sport           9379  0.332043\n",
              "Dport           4390  0.155418\n",
              "State              1  0.000035\n",
              "Final-Labels       0  0.000000\n",
              "SrcBytes           0  0.000000\n",
              "TotBytes           0  0.000000\n",
              "TotPkts            0  0.000000\n",
              "DstAddr            0  0.000000\n",
              "SrcAddr            0  0.000000\n",
              "Proto              0  0.000000\n",
              "Dur                0  0.000000\n",
              "StartTime          0  0.000000"
            ]
          },
          "metadata": {},
          "execution_count": 16
        }
      ]
    },
    {
      "cell_type": "code",
      "metadata": {
        "colab": {
          "base_uri": "https://localhost:8080/",
          "height": 382
        },
        "id": "d8bbb40c",
        "outputId": "0b40c884-2bbc-451a-d011-43a5a00732da"
      },
      "source": [
        "plt.hist(ctu_data['Dur'])"
      ],
      "id": "d8bbb40c",
      "execution_count": null,
      "outputs": [
        {
          "output_type": "execute_result",
          "data": {
            "text/plain": [
              "(array([2332053.,   33476.,   21007.,   32188.,   23350.,   48240.,\n",
              "          67834.,   51508.,  127196.,   87671.]),\n",
              " array([   0.       ,  360.0031006,  720.0062012, 1080.0093018,\n",
              "        1440.0124024, 1800.015503 , 2160.0186036, 2520.0217042,\n",
              "        2880.0248048, 3240.0279054, 3600.031006 ]),\n",
              " <a list of 10 Patch objects>)"
            ]
          },
          "metadata": {
            "tags": []
          },
          "execution_count": 28
        },
        {
          "output_type": "display_data",
          "data": {
            "image/png": "[encoded data removed]",
            "text/plain": [
              "<Figure size 432x288 with 1 Axes>"
            ]
          },
          "metadata": {
            "tags": []
          }
        }
      ]
    },
    {
      "cell_type": "code",
      "metadata": {
        "id": "876c7bdd",
        "outputId": "7cc2f694-5e4a-4f22-860f-a1293d499149"
      },
      "source": [
        "ctu_data.Dur.value_counts()"
      ],
      "id": "876c7bdd",
      "execution_count": null,
      "outputs": [
        {
          "output_type": "execute_result",
          "data": {
            "text/plain": [
              "0.000000       79150\n",
              "0.000252        4651\n",
              "0.000246        4648\n",
              "0.000251        4628\n",
              "0.000242        4618\n",
              "               ...  \n",
              "2525.936768        1\n",
              "24.709543          1\n",
              "2721.057373        1\n",
              "1836.412476        1\n",
              "1881.653320        1\n",
              "Name: Dur, Length: 1073189, dtype: int64"
            ]
          },
          "metadata": {
            "tags": []
          },
          "execution_count": 18
        }
      ]
    },
    {
      "cell_type": "code",
      "metadata": {
        "id": "4ed5deb7",
        "outputId": "135100ff-f860-49d5-f66a-0d10cdf70ee7"
      },
      "source": [
        "ctu_data.Proto.value_counts()"
      ],
      "id": "4ed5deb7",
      "execution_count": null,
      "outputs": [
        {
          "output_type": "execute_result",
          "data": {
            "text/plain": [
              "udp          2270083\n",
              "tcp           507557\n",
              "icmp           39694\n",
              "rtp             2570\n",
              "rtcp            2339\n",
              "igmp            1803\n",
              "arp              477\n",
              "ipv6-icmp         58\n",
              "ipx/spx           13\n",
              "ipv6              10\n",
              "udt               10\n",
              "esp               10\n",
              "pim                7\n",
              "rarp               4\n",
              "unas               1\n",
              "Name: Proto, dtype: int64"
            ]
          },
          "metadata": {
            "tags": []
          },
          "execution_count": 20
        }
      ]
    },
    {
      "cell_type": "code",
      "metadata": {
        "id": "dfa8a02e",
        "outputId": "5a565fbd-80ca-47de-8fd9-481f7d2c4d95"
      },
      "source": [
        "num_of_pro = ctu_data.Proto.unique()\n",
        "print(num_of_pro)\n",
        "print(len(num_of_pro))"
      ],
      "id": "dfa8a02e",
      "execution_count": null,
      "outputs": [
        {
          "output_type": "stream",
          "text": [
            "['udp' 'tcp' 'rtp' 'pim' 'icmp' 'arp' 'ipx/spx' 'rtcp' 'igmp' 'ipv6-icmp'\n",
            " 'ipv6' 'udt' 'esp' 'unas' 'rarp']\n",
            "15\n"
          ],
          "name": "stdout"
        }
      ]
    },
    {
      "cell_type": "code",
      "metadata": {
        "id": "293c7db0",
        "outputId": "36588e13-a22f-42a5-fe59-a552393227ab"
      },
      "source": [
        "len(ctu_data.sTos.unique())"
      ],
      "id": "293c7db0",
      "execution_count": null,
      "outputs": [
        {
          "output_type": "execute_result",
          "data": {
            "text/plain": [
              "6"
            ]
          },
          "metadata": {
            "tags": []
          },
          "execution_count": 19
        }
      ]
    },
    {
      "cell_type": "code",
      "metadata": {
        "id": "26694ecf",
        "outputId": "aa6e30bf-2005-4204-a1bb-b1e8e3a616e7"
      },
      "source": [
        "ctu_data.sTos.value_counts()"
      ],
      "id": "26694ecf",
      "execution_count": null,
      "outputs": [
        {
          "output_type": "execute_result",
          "data": {
            "text/plain": [
              "0.0      2810723\n",
              "2.0         1351\n",
              "3.0          964\n",
              "1.0          632\n",
              "192.0        376\n",
              "Name: sTos, dtype: int64"
            ]
          },
          "metadata": {
            "tags": []
          },
          "execution_count": 20
        }
      ]
    },
    {
      "cell_type": "markdown",
      "source": [
        "Plotting correlation between columns before extracting fields"
      ],
      "metadata": {
        "id": "xh9Shp4TNlfg"
      },
      "id": "xh9Shp4TNlfg"
    },
    {
      "cell_type": "code",
      "metadata": {
        "id": "56412a9a",
        "outputId": "95f1eec6-e017-4803-b93b-0ab05af920a7"
      },
      "source": [
        "sns.heatmap(ctu_data.corr())\n",
        "plt.show()"
      ],
      "id": "56412a9a",
      "execution_count": null,
      "outputs": [
        {
          "output_type": "display_data",
          "data": {
            "image/png": "[encoded data removed]",
            "text/plain": [
              "<Figure size 432x288 with 2 Axes>"
            ]
          },
          "metadata": {
            "tags": []
          }
        }
      ]
    },
    {
      "cell_type": "markdown",
      "metadata": {
        "id": "14ea0df4"
      },
      "source": [
        "## **Preprocessing**"
      ],
      "id": "14ea0df4"
    },
    {
      "cell_type": "markdown",
      "source": [
        "Filling missing values"
      ],
      "metadata": {
        "id": "9IDA6uU-Nv8H"
      },
      "id": "9IDA6uU-Nv8H"
    },
    {
      "cell_type": "code",
      "metadata": {
        "id": "94bdcdf3"
      },
      "source": [
        "ctu_data['sTos'] = ctu_data['sTos'].fillna(ctu_data['sTos'].mean())"
      ],
      "id": "94bdcdf3",
      "execution_count": null,
      "outputs": []
    },
    {
      "cell_type": "code",
      "metadata": {
        "id": "a7ae6c5d"
      },
      "source": [
        "ctu_data['dTos'] = ctu_data['dTos'].fillna(ctu_data['dTos'].mean())"
      ],
      "id": "a7ae6c5d",
      "execution_count": null,
      "outputs": []
    },
    {
      "cell_type": "code",
      "metadata": {
        "id": "8a297980"
      },
      "source": [
        "ctu_data['State'].dropna(inplace=True,axis=0)"
      ],
      "id": "8a297980",
      "execution_count": null,
      "outputs": []
    },
    {
      "cell_type": "code",
      "metadata": {
        "colab": {
          "base_uri": "https://localhost:8080/"
        },
        "id": "2gwybZrrfluB",
        "outputId": "12f61e29-c2f5-4d96-8943-d5f1e4ba33a5"
      },
      "source": [
        "ctu_data.groupby('Proto')['Dport'].count()"
      ],
      "id": "2gwybZrrfluB",
      "execution_count": null,
      "outputs": [
        {
          "output_type": "execute_result",
          "data": {
            "text/plain": [
              "Proto\n",
              "arp                0\n",
              "esp               10\n",
              "icmp           38377\n",
              "igmp               0\n",
              "ipv6               0\n",
              "ipv6-icmp          0\n",
              "ipx/spx            0\n",
              "pim                0\n",
              "rarp               0\n",
              "rtcp            2339\n",
              "rtp             2570\n",
              "tcp           506882\n",
              "udp          2270058\n",
              "udt               10\n",
              "unas               0\n",
              "Name: Dport, dtype: int64"
            ]
          },
          "metadata": {},
          "execution_count": 10
        }
      ]
    },
    {
      "cell_type": "code",
      "metadata": {
        "colab": {
          "base_uri": "https://localhost:8080/",
          "height": 406
        },
        "id": "Mk4Zo1JXEFX2",
        "outputId": "ff3a39b9-a251-4850-b4e9-7b88cf1df5dc"
      },
      "source": [
        "reln_srcip = ctu_data.groupby('Dport',as_index=False)['SrcAddr'].count()\n",
        "reln_srcip"
      ],
      "id": "Mk4Zo1JXEFX2",
      "execution_count": null,
      "outputs": [
        {
          "output_type": "execute_result",
          "data": {
            "text/html": [
              "<div>\n",
              "<style scoped>\n",
              "    .dataframe tbody tr th:only-of-type {\n",
              "        vertical-align: middle;\n",
              "    }\n",
              "\n",
              "    .dataframe tbody tr th {\n",
              "        vertical-align: top;\n",
              "    }\n",
              "\n",
              "    .dataframe thead th {\n",
              "        text-align: right;\n",
              "    }\n",
              "</style>\n",
              "<table border=\"1\" class=\"dataframe\">\n",
              "  <thead>\n",
              "    <tr style=\"text-align: right;\">\n",
              "      <th></th>\n",
              "      <th>Dport</th>\n",
              "      <th>SrcAddr</th>\n",
              "    </tr>\n",
              "  </thead>\n",
              "  <tbody>\n",
              "    <tr>\n",
              "      <th>0</th>\n",
              "      <td>0x0001</td>\n",
              "      <td>23</td>\n",
              "    </tr>\n",
              "    <tr>\n",
              "      <th>1</th>\n",
              "      <td>0x0002</td>\n",
              "      <td>4610</td>\n",
              "    </tr>\n",
              "    <tr>\n",
              "      <th>2</th>\n",
              "      <td>0x0003</td>\n",
              "      <td>96</td>\n",
              "    </tr>\n",
              "    <tr>\n",
              "      <th>3</th>\n",
              "      <td>0x0004</td>\n",
              "      <td>188</td>\n",
              "    </tr>\n",
              "    <tr>\n",
              "      <th>4</th>\n",
              "      <td>0x0005</td>\n",
              "      <td>5</td>\n",
              "    </tr>\n",
              "    <tr>\n",
              "      <th>...</th>\n",
              "      <td>...</td>\n",
              "      <td>...</td>\n",
              "    </tr>\n",
              "    <tr>\n",
              "      <th>73771</th>\n",
              "      <td>9995</td>\n",
              "      <td>9</td>\n",
              "    </tr>\n",
              "    <tr>\n",
              "      <th>73772</th>\n",
              "      <td>9996</td>\n",
              "      <td>2</td>\n",
              "    </tr>\n",
              "    <tr>\n",
              "      <th>73773</th>\n",
              "      <td>9997</td>\n",
              "      <td>7</td>\n",
              "    </tr>\n",
              "    <tr>\n",
              "      <th>73774</th>\n",
              "      <td>9998</td>\n",
              "      <td>5</td>\n",
              "    </tr>\n",
              "    <tr>\n",
              "      <th>73775</th>\n",
              "      <td>9999</td>\n",
              "      <td>5</td>\n",
              "    </tr>\n",
              "  </tbody>\n",
              "</table>\n",
              "<p>73776 rows × 2 columns</p>\n",
              "</div>"
            ],
            "text/plain": [
              "        Dport  SrcAddr\n",
              "0      0x0001       23\n",
              "1      0x0002     4610\n",
              "2      0x0003       96\n",
              "3      0x0004      188\n",
              "4      0x0005        5\n",
              "...       ...      ...\n",
              "73771    9995        9\n",
              "73772    9996        2\n",
              "73773    9997        7\n",
              "73774    9998        5\n",
              "73775    9999        5\n",
              "\n",
              "[73776 rows x 2 columns]"
            ]
          },
          "metadata": {
            "tags": []
          },
          "execution_count": 28
        }
      ]
    },
    {
      "cell_type": "code",
      "metadata": {
        "id": "7ae1b985"
      },
      "source": [
        "#filling dport based on dstip takes around 45mins to fill \n",
        "ctu_data['Dport'].fillna(ctu_data.groupby('DstAddr')['Dport'].apply(lambda x:x.mode())[0],inplace=True)\n",
        "ctu_data['Sport'].fillna(ctu_data.groupby('SrcAddr')['Sport'].apply(lambda x:x.mode())[0],inplace=True)"
      ],
      "id": "7ae1b985",
      "execution_count": null,
      "outputs": []
    },
    {
      "cell_type": "code",
      "metadata": {
        "id": "SSjy4kWDWVa3"
      },
      "source": [
        "#faster filling but less corelation b/w proto and ports\n",
        "ctu_data['Dport'].fillna(ctu_data.groupby('Proto')['Dport'].apply(lambda x:x.mode())[0],inplace=True)\n",
        "ctu_data['Sport'].fillna(ctu_data.groupby('Proto')['Sport'].apply(lambda x:x.mode())[0],inplace=True)"
      ],
      "id": "SSjy4kWDWVa3",
      "execution_count": null,
      "outputs": []
    },
    {
      "cell_type": "code",
      "metadata": {
        "colab": {
          "base_uri": "https://localhost:8080/"
        },
        "id": "6f35a4ba",
        "outputId": "4bbbd6d2-ce29-43c5-9c6c-2fb24ccd38f6"
      },
      "source": [
        "ctu_data.isnull().sum().sort_values(ascending=False)"
      ],
      "id": "6f35a4ba",
      "execution_count": null,
      "outputs": [
        {
          "output_type": "execute_result",
          "data": {
            "text/plain": [
              "State           1\n",
              "Final-Labels    0\n",
              "SrcBytes        0\n",
              "TotBytes        0\n",
              "TotPkts         0\n",
              "dTos            0\n",
              "sTos            0\n",
              "Dport           0\n",
              "DstAddr         0\n",
              "Sport           0\n",
              "SrcAddr         0\n",
              "Proto           0\n",
              "Dur             0\n",
              "StartTime       0\n",
              "dtype: int64"
            ]
          },
          "metadata": {},
          "execution_count": 21
        }
      ]
    },
    {
      "cell_type": "markdown",
      "metadata": {
        "id": "c0543e15"
      },
      "source": [
        "REMOVING PROTOCOLS WITH LESS THAN 100 VALUES (NOT CONVERTED USING LABEL ENCODER)"
      ],
      "id": "c0543e15"
    },
    {
      "cell_type": "code",
      "metadata": {
        "colab": {
          "base_uri": "https://localhost:8080/"
        },
        "id": "6a69e320",
        "outputId": "f2b633d5-1022-4562-c47a-3a3a3dc955d9"
      },
      "source": [
        "protocols_del = ['ipv6','udt','esp','pim','rarp','unas','ipx/spx']\n",
        "#temp_df = ctu_data[ctu_data.Proto in protocols_del]\n",
        "index = ctu_data[((ctu_data.Proto =='ipv6')| (ctu_data.Proto =='udt')|(ctu_data.Proto == 'esp') | (ctu_data.Proto == 'pim')|(ctu_data.Proto == 'rarp')|(ctu_data.Proto == 'unas')|(ctu_data.Proto =='ipx/spx')|(ctu_data.Proto == 'ipv6-icmp'))].index\n",
        "ctu_data.drop(index,inplace=True)\n",
        "ctu_data.Proto.value_counts()"
      ],
      "id": "6a69e320",
      "execution_count": null,
      "outputs": [
        {
          "output_type": "execute_result",
          "data": {
            "text/plain": [
              "udp     2270083\n",
              "tcp      507557\n",
              "icmp      39694\n",
              "rtp        2570\n",
              "rtcp       2339\n",
              "igmp       1803\n",
              "arp         477\n",
              "Name: Proto, dtype: int64"
            ]
          },
          "metadata": {},
          "execution_count": 11
        }
      ]
    },
    {
      "cell_type": "markdown",
      "metadata": {
        "id": "Lmwx9sqHZGg_"
      },
      "source": [
        "Removing outliers"
      ],
      "id": "Lmwx9sqHZGg_"
    },
    {
      "cell_type": "code",
      "metadata": {
        "id": "KI8P7VluWI3y"
      },
      "source": [
        "ctu_data[\"TotPkts\"] = ctu_data[\"TotPkts\"].clip(lower = ctu_data[\"TotPkts\"].quantile(0.15),upper = ctu_data[\"TotPkts\"].quantile(0.85)) "
      ],
      "id": "KI8P7VluWI3y",
      "execution_count": null,
      "outputs": []
    },
    {
      "cell_type": "code",
      "metadata": {
        "colab": {
          "base_uri": "https://localhost:8080/",
          "height": 352
        },
        "id": "dICe4dSsWg6o",
        "outputId": "685df323-fe08-4299-8f7e-578235ced2ae"
      },
      "source": [
        "sns.boxplot(ctu_data.TotPkts)"
      ],
      "id": "dICe4dSsWg6o",
      "execution_count": null,
      "outputs": [
        {
          "output_type": "stream",
          "text": [
            "/usr/local/lib/python3.7/dist-packages/seaborn/_decorators.py:43: FutureWarning: Pass the following variable as a keyword arg: x. From version 0.12, the only valid positional argument will be `data`, and passing other arguments without an explicit keyword will result in an error or misinterpretation.\n",
            "  FutureWarning\n"
          ],
          "name": "stderr"
        },
        {
          "output_type": "execute_result",
          "data": {
            "text/plain": [
              "<matplotlib.axes._subplots.AxesSubplot at 0x7f1ec7b59390>"
            ]
          },
          "metadata": {
            "tags": []
          },
          "execution_count": 18
        },
        {
          "output_type": "display_data",
          "data": {
            "image/png": "[encoded data removed]",
            "text/plain": [
              "<Figure size 432x288 with 1 Axes>"
            ]
          },
          "metadata": {
            "tags": []
          }
        }
      ]
    },
    {
      "cell_type": "code",
      "metadata": {
        "id": "NNjenfofXPmY"
      },
      "source": [
        "ctu_data[\"TotBytes\"] = ctu_data[\"TotBytes\"].clip(lower = ctu_data[\"TotBytes\"].quantile(0.15),upper = ctu_data[\"TotBytes\"].quantile(0.85)) "
      ],
      "id": "NNjenfofXPmY",
      "execution_count": null,
      "outputs": []
    },
    {
      "cell_type": "code",
      "metadata": {
        "colab": {
          "base_uri": "https://localhost:8080/",
          "height": 352
        },
        "id": "PaKrQSc7XblB",
        "outputId": "9ba54ad8-d761-45bd-b1bb-254c451e7071"
      },
      "source": [
        "sns.boxplot(ctu_data['TotBytes'])"
      ],
      "id": "PaKrQSc7XblB",
      "execution_count": null,
      "outputs": [
        {
          "output_type": "stream",
          "text": [
            "/usr/local/lib/python3.7/dist-packages/seaborn/_decorators.py:43: FutureWarning: Pass the following variable as a keyword arg: x. From version 0.12, the only valid positional argument will be `data`, and passing other arguments without an explicit keyword will result in an error or misinterpretation.\n",
            "  FutureWarning\n"
          ],
          "name": "stderr"
        },
        {
          "output_type": "execute_result",
          "data": {
            "text/plain": [
              "<matplotlib.axes._subplots.AxesSubplot at 0x7f60d008b650>"
            ]
          },
          "metadata": {
            "tags": []
          },
          "execution_count": 13
        },
        {
          "output_type": "display_data",
          "data": {
            "image/png": "[encoded data removed]",
            "text/plain": [
              "<Figure size 432x288 with 1 Axes>"
            ]
          },
          "metadata": {
            "tags": []
          }
        }
      ]
    },
    {
      "cell_type": "code",
      "metadata": {
        "id": "JGfISwcZZNHn"
      },
      "source": [
        "ctu_data[\"SrcBytes\"] = ctu_data[\"SrcBytes\"].clip(lower = ctu_data[\"SrcBytes\"].quantile(0.15),upper = ctu_data[\"SrcBytes\"].quantile(0.85)) "
      ],
      "id": "JGfISwcZZNHn",
      "execution_count": null,
      "outputs": []
    },
    {
      "cell_type": "code",
      "metadata": {
        "colab": {
          "base_uri": "https://localhost:8080/",
          "height": 352
        },
        "id": "exkPSq_LZssu",
        "outputId": "47169386-bad6-4e8f-a0a7-6f29ceaa815f"
      },
      "source": [
        "sns.boxplot(ctu_data['SrcBytes'])"
      ],
      "id": "exkPSq_LZssu",
      "execution_count": null,
      "outputs": [
        {
          "output_type": "stream",
          "text": [
            "/usr/local/lib/python3.7/dist-packages/seaborn/_decorators.py:43: FutureWarning: Pass the following variable as a keyword arg: x. From version 0.12, the only valid positional argument will be `data`, and passing other arguments without an explicit keyword will result in an error or misinterpretation.\n",
            "  FutureWarning\n"
          ],
          "name": "stderr"
        },
        {
          "output_type": "execute_result",
          "data": {
            "text/plain": [
              "<matplotlib.axes._subplots.AxesSubplot at 0x7f60ca5d2cd0>"
            ]
          },
          "metadata": {
            "tags": []
          },
          "execution_count": 19
        },
        {
          "output_type": "display_data",
          "data": {
            "image/png": "[encoded data removed]",
            "text/plain": [
              "<Figure size 432x288 with 1 Axes>"
            ]
          },
          "metadata": {
            "tags": []
          }
        }
      ]
    },
    {
      "cell_type": "markdown",
      "metadata": {
        "id": "bf4fed80"
      },
      "source": [
        "## Time window code"
      ],
      "id": "bf4fed80"
    },
    {
      "cell_type": "code",
      "metadata": {
        "colab": {
          "base_uri": "https://localhost:8080/"
        },
        "id": "vJMpuOTNOQ2Q",
        "outputId": "7d347929-b354-43f4-a4de-e616d6803c7c"
      },
      "source": [
        "print(pd.to_datetime(ctu_data['StartTime']).min())\n",
        "print(pd.to_datetime(ctu_data['StartTime']).max())"
      ],
      "id": "vJMpuOTNOQ2Q",
      "execution_count": null,
      "outputs": [
        {
          "output_type": "stream",
          "text": [
            "2011-08-10 09:46:53.047277\n",
            "2011-08-10 15:54:07.368340\n"
          ],
          "name": "stdout"
        }
      ]
    },
    {
      "cell_type": "code",
      "metadata": {
        "colab": {
          "base_uri": "https://localhost:8080/"
        },
        "id": "23cebe44",
        "outputId": "1a6fa8e3-3937-4ea2-c36d-9135e22ce0a2"
      },
      "source": [
        "ctu_data['StartTime_new'] = pd.to_datetime(ctu_data['StartTime']).astype(np.int64)*(1e-9)\n",
        "start_time = ctu_data['StartTime_new'].min()\n",
        "start_time\n"
      ],
      "id": "23cebe44",
      "execution_count": null,
      "outputs": [
        {
          "output_type": "stream",
          "name": "stderr",
          "text": [
            "/usr/local/lib/python3.7/dist-packages/ipykernel_launcher.py:1: FutureWarning: casting datetime64[ns] values to int64 with .astype(...) is deprecated and will raise in a future version. Use .view(...) instead.\n",
            "  \"\"\"Entry point for launching an IPython kernel.\n"
          ]
        },
        {
          "output_type": "execute_result",
          "data": {
            "text/plain": [
              "1312969613.0472772"
            ]
          },
          "metadata": {},
          "execution_count": 12
        }
      ]
    },
    {
      "cell_type": "code",
      "metadata": {
        "colab": {
          "base_uri": "https://localhost:8080/"
        },
        "id": "46f57c72",
        "outputId": "b2ab1f64-c0c6-4a82-a696-1174d2f933e1"
      },
      "source": [
        "window_width = 120 \n",
        "window_stride = 60 \n",
        "ctu_data['Window_lower'] = (ctu_data['StartTime_new']-start_time-window_width)/window_stride+1\n",
        "ctu_data['Window_lower'].clip(lower=0,inplace=True)\n",
        "ctu_data['Window_lower']"
      ],
      "id": "46f57c72",
      "execution_count": null,
      "outputs": [
        {
          "output_type": "execute_result",
          "data": {
            "text/plain": [
              "0            0.000000\n",
              "1            0.000000\n",
              "2            0.000000\n",
              "3            0.000000\n",
              "4            0.000000\n",
              "              ...    \n",
              "2824631    366.238419\n",
              "2824632    366.238443\n",
              "2824633    366.238500\n",
              "2824634    366.238659\n",
              "2824635    366.238684\n",
              "Name: Window_lower, Length: 2824523, dtype: float64"
            ]
          },
          "metadata": {},
          "execution_count": 13
        }
      ]
    },
    {
      "cell_type": "code",
      "metadata": {
        "colab": {
          "base_uri": "https://localhost:8080/"
        },
        "id": "9fad5f82",
        "outputId": "3d3d2660-90bc-4507-84b2-9bfac8a3db0e"
      },
      "source": [
        "ctu_data['Window_upper_excl'] = (ctu_data['StartTime_new']-start_time)/window_stride+1\n",
        "ctu_data['Window_upper_excl'] "
      ],
      "id": "9fad5f82",
      "execution_count": null,
      "outputs": [
        {
          "output_type": "execute_result",
          "data": {
            "text/plain": [
              "0            1.000000\n",
              "1            1.000026\n",
              "2            1.000044\n",
              "3            1.000108\n",
              "4            1.000111\n",
              "              ...    \n",
              "2824631    368.238419\n",
              "2824632    368.238443\n",
              "2824633    368.238500\n",
              "2824634    368.238659\n",
              "2824635    368.238684\n",
              "Name: Window_upper_excl, Length: 2824523, dtype: float64"
            ]
          },
          "metadata": {},
          "execution_count": 14
        }
      ]
    },
    {
      "cell_type": "code",
      "metadata": {
        "colab": {
          "base_uri": "https://localhost:8080/",
          "height": 206
        },
        "id": "adb7f45d",
        "outputId": "c4d5f8a3-21c4-4f05-e4f8-2d699caaea46"
      },
      "source": [
        "ctu_data.drop('StartTime',inplace=True,axis=1)\n",
        "ctu_data.head()"
      ],
      "id": "adb7f45d",
      "execution_count": null,
      "outputs": [
        {
          "output_type": "execute_result",
          "data": {
            "text/html": [
              "\n",
              "  <div id=\"df-43dc18b5-12e7-40e3-a05f-836b78efcaf5\">\n",
              "    <div class=\"colab-df-container\">\n",
              "      <div>\n",
              "<style scoped>\n",
              "    .dataframe tbody tr th:only-of-type {\n",
              "        vertical-align: middle;\n",
              "    }\n",
              "\n",
              "    .dataframe tbody tr th {\n",
              "        vertical-align: top;\n",
              "    }\n",
              "\n",
              "    .dataframe thead th {\n",
              "        text-align: right;\n",
              "    }\n",
              "</style>\n",
              "<table border=\"1\" class=\"dataframe\">\n",
              "  <thead>\n",
              "    <tr style=\"text-align: right;\">\n",
              "      <th></th>\n",
              "      <th>Dur</th>\n",
              "      <th>Proto</th>\n",
              "      <th>SrcAddr</th>\n",
              "      <th>Sport</th>\n",
              "      <th>DstAddr</th>\n",
              "      <th>Dport</th>\n",
              "      <th>State</th>\n",
              "      <th>sTos</th>\n",
              "      <th>dTos</th>\n",
              "      <th>TotPkts</th>\n",
              "      <th>TotBytes</th>\n",
              "      <th>SrcBytes</th>\n",
              "      <th>Final-Labels</th>\n",
              "      <th>StartTime_new</th>\n",
              "      <th>Window_lower</th>\n",
              "      <th>Window_upper_excl</th>\n",
              "    </tr>\n",
              "  </thead>\n",
              "  <tbody>\n",
              "    <tr>\n",
              "      <th>0</th>\n",
              "      <td>3550.182373</td>\n",
              "      <td>udp</td>\n",
              "      <td>212.50.71.179</td>\n",
              "      <td>39678</td>\n",
              "      <td>147.32.84.229</td>\n",
              "      <td>13363</td>\n",
              "      <td>CON</td>\n",
              "      <td>0.0</td>\n",
              "      <td>0.0</td>\n",
              "      <td>12</td>\n",
              "      <td>875</td>\n",
              "      <td>413</td>\n",
              "      <td>0</td>\n",
              "      <td>1.312970e+09</td>\n",
              "      <td>0.0</td>\n",
              "      <td>1.000000</td>\n",
              "    </tr>\n",
              "    <tr>\n",
              "      <th>1</th>\n",
              "      <td>0.000883</td>\n",
              "      <td>udp</td>\n",
              "      <td>84.13.246.132</td>\n",
              "      <td>28431</td>\n",
              "      <td>147.32.84.229</td>\n",
              "      <td>13363</td>\n",
              "      <td>CON</td>\n",
              "      <td>0.0</td>\n",
              "      <td>0.0</td>\n",
              "      <td>2</td>\n",
              "      <td>135</td>\n",
              "      <td>75</td>\n",
              "      <td>0</td>\n",
              "      <td>1.312970e+09</td>\n",
              "      <td>0.0</td>\n",
              "      <td>1.000026</td>\n",
              "    </tr>\n",
              "    <tr>\n",
              "      <th>2</th>\n",
              "      <td>0.000326</td>\n",
              "      <td>tcp</td>\n",
              "      <td>217.163.21.35</td>\n",
              "      <td>80</td>\n",
              "      <td>147.32.86.194</td>\n",
              "      <td>2063</td>\n",
              "      <td>FA_A</td>\n",
              "      <td>0.0</td>\n",
              "      <td>0.0</td>\n",
              "      <td>2</td>\n",
              "      <td>120</td>\n",
              "      <td>60</td>\n",
              "      <td>0</td>\n",
              "      <td>1.312970e+09</td>\n",
              "      <td>0.0</td>\n",
              "      <td>1.000044</td>\n",
              "    </tr>\n",
              "    <tr>\n",
              "      <th>3</th>\n",
              "      <td>0.056966</td>\n",
              "      <td>tcp</td>\n",
              "      <td>83.3.77.74</td>\n",
              "      <td>32882</td>\n",
              "      <td>147.32.85.5</td>\n",
              "      <td>21857</td>\n",
              "      <td>FA_FA</td>\n",
              "      <td>0.0</td>\n",
              "      <td>0.0</td>\n",
              "      <td>3</td>\n",
              "      <td>180</td>\n",
              "      <td>120</td>\n",
              "      <td>0</td>\n",
              "      <td>1.312970e+09</td>\n",
              "      <td>0.0</td>\n",
              "      <td>1.000108</td>\n",
              "    </tr>\n",
              "    <tr>\n",
              "      <th>4</th>\n",
              "      <td>3427.768066</td>\n",
              "      <td>udp</td>\n",
              "      <td>74.89.223.204</td>\n",
              "      <td>21278</td>\n",
              "      <td>147.32.84.229</td>\n",
              "      <td>13363</td>\n",
              "      <td>CON</td>\n",
              "      <td>0.0</td>\n",
              "      <td>0.0</td>\n",
              "      <td>42</td>\n",
              "      <td>2856</td>\n",
              "      <td>1596</td>\n",
              "      <td>0</td>\n",
              "      <td>1.312970e+09</td>\n",
              "      <td>0.0</td>\n",
              "      <td>1.000111</td>\n",
              "    </tr>\n",
              "  </tbody>\n",
              "</table>\n",
              "</div>\n",
              "      <button class=\"colab-df-convert\" onclick=\"convertToInteractive('df-43dc18b5-12e7-40e3-a05f-836b78efcaf5')\"\n",
              "              title=\"Convert this dataframe to an interactive table.\"\n",
              "              style=\"display:none;\">\n",
              "        \n",
              "  <svg xmlns=\"http://www.w3.org/2000/svg\" height=\"24px\"viewBox=\"0 0 24 24\"\n",
              "       width=\"24px\">\n",
              "    <path d=\"M0 0h24v24H0V0z\" fill=\"none\"/>\n",
              "    <path d=\"M18.56 5.44l.94 2.06.94-2.06 2.06-.94-2.06-.94-.94-2.06-.94 2.06-2.06.94zm-11 1L8.5 8.5l.94-2.06 2.06-.94-2.06-.94L8.5 2.5l-.94 2.06-2.06.94zm10 10l.94 2.06.94-2.06 2.06-.94-2.06-.94-.94-2.06-.94 2.06-2.06.94z\"/><path d=\"M17.41 7.96l-1.37-1.37c-.4-.4-.92-.59-1.43-.59-.52 0-1.04.2-1.43.59L10.3 9.45l-7.72 7.72c-.78.78-.78 2.05 0 2.83L4 21.41c.39.39.9.59 1.41.59.51 0 1.02-.2 1.41-.59l7.78-7.78 2.81-2.81c.8-.78.8-2.07 0-2.86zM5.41 20L4 18.59l7.72-7.72 1.47 1.35L5.41 20z\"/>\n",
              "  </svg>\n",
              "      </button>\n",
              "      \n",
              "  <style>\n",
              "    .colab-df-container {\n",
              "      display:flex;\n",
              "      flex-wrap:wrap;\n",
              "      gap: 12px;\n",
              "    }\n",
              "\n",
              "    .colab-df-convert {\n",
              "      background-color: #E8F0FE;\n",
              "      border: none;\n",
              "      border-radius: 50%;\n",
              "      cursor: pointer;\n",
              "      display: none;\n",
              "      fill: #1967D2;\n",
              "      height: 32px;\n",
              "      padding: 0 0 0 0;\n",
              "      width: 32px;\n",
              "    }\n",
              "\n",
              "    .colab-df-convert:hover {\n",
              "      background-color: #E2EBFA;\n",
              "      box-shadow: 0px 1px 2px rgba(60, 64, 67, 0.3), 0px 1px 3px 1px rgba(60, 64, 67, 0.15);\n",
              "      fill: #174EA6;\n",
              "    }\n",
              "\n",
              "    [theme=dark] .colab-df-convert {\n",
              "      background-color: #3B4455;\n",
              "      fill: #D2E3FC;\n",
              "    }\n",
              "\n",
              "    [theme=dark] .colab-df-convert:hover {\n",
              "      background-color: #434B5C;\n",
              "      box-shadow: 0px 1px 3px 1px rgba(0, 0, 0, 0.15);\n",
              "      filter: drop-shadow(0px 1px 2px rgba(0, 0, 0, 0.3));\n",
              "      fill: #FFFFFF;\n",
              "    }\n",
              "  </style>\n",
              "\n",
              "      <script>\n",
              "        const buttonEl =\n",
              "          document.querySelector('#df-43dc18b5-12e7-40e3-a05f-836b78efcaf5 button.colab-df-convert');\n",
              "        buttonEl.style.display =\n",
              "          google.colab.kernel.accessAllowed ? 'block' : 'none';\n",
              "\n",
              "        async function convertToInteractive(key) {\n",
              "          const element = document.querySelector('#df-43dc18b5-12e7-40e3-a05f-836b78efcaf5');\n",
              "          const dataTable =\n",
              "            await google.colab.kernel.invokeFunction('convertToInteractive',\n",
              "                                                     [key], {});\n",
              "          if (!dataTable) return;\n",
              "\n",
              "          const docLinkHtml = 'Like what you see? Visit the ' +\n",
              "            '<a target=\"_blank\" href=https://colab.research.google.com/notebooks/data_table.ipynb>data table notebook</a>'\n",
              "            + ' to learn more about interactive tables.';\n",
              "          element.innerHTML = '';\n",
              "          dataTable['output_type'] = 'display_data';\n",
              "          await google.colab.output.renderOutput(dataTable, element);\n",
              "          const docLink = document.createElement('div');\n",
              "          docLink.innerHTML = docLinkHtml;\n",
              "          element.appendChild(docLink);\n",
              "        }\n",
              "      </script>\n",
              "    </div>\n",
              "  </div>\n",
              "  "
            ],
            "text/plain": [
              "           Dur Proto  ... Window_lower Window_upper_excl\n",
              "0  3550.182373   udp  ...          0.0          1.000000\n",
              "1     0.000883   udp  ...          0.0          1.000026\n",
              "2     0.000326   tcp  ...          0.0          1.000044\n",
              "3     0.056966   tcp  ...          0.0          1.000108\n",
              "4  3427.768066   udp  ...          0.0          1.000111\n",
              "\n",
              "[5 rows x 16 columns]"
            ]
          },
          "metadata": {},
          "execution_count": 15
        }
      ]
    },
    {
      "cell_type": "code",
      "metadata": {
        "colab": {
          "base_uri": "https://localhost:8080/"
        },
        "id": "bfafe920",
        "outputId": "3aab09c6-2264-46d7-a276-ce57fd70758b"
      },
      "source": [
        "ctu_data = ctu_data.astype({\"Window_lower\": int, \"Window_upper_excl\": int})\n",
        "ctu_data.drop('StartTime_new', axis=1, inplace=True)\n",
        "nb_windows = ctu_data['Window_upper_excl'].max()\n",
        "print(nb_windows)"
      ],
      "id": "bfafe920",
      "execution_count": null,
      "outputs": [
        {
          "output_type": "stream",
          "name": "stdout",
          "text": [
            "368\n"
          ]
        }
      ]
    },
    {
      "cell_type": "code",
      "metadata": {
        "id": "632e1c40"
      },
      "source": [
        "#function for normalized subgroup entropy\n",
        "def RU(df):\n",
        "    if df.shape[0] == 1:\n",
        "        return 1.0\n",
        "    else:\n",
        "        proba = df.value_counts()/df.shape[0]\n",
        "        h = proba*np.log10(proba)\n",
        "        return -h.sum()/np.log10(df.shape[0])"
      ],
      "id": "632e1c40",
      "execution_count": null,
      "outputs": []
    },
    {
      "cell_type": "code",
      "metadata": {
        "id": "JzvempBt_peZ",
        "colab": {
          "base_uri": "https://localhost:8080/"
        },
        "outputId": "7be6b6cd-5e71-49b5-d6b5-efadbc29ec14"
      },
      "source": [
        "X = pd.DataFrame()\n",
        "for i in range(0,nb_windows):       #range is supposed to be nb_windows\n",
        "    gb = ctu_data.loc[(ctu_data['Window_lower'] <= i) & (ctu_data['Window_upper_excl'] > i)].groupby('SrcAddr')\n",
        "    X = X.append(gb.size().to_frame(name='counts').join(gb.agg({'Sport':['nunique',RU],\n",
        "                                                         #'DstAddr':['nunique',RU],\n",
        "                                                          'Dport':['nunique',RU],\n",
        "                                                         'Proto':['nunique',RU],\n",
        "                                                         'Dur':['sum','mean','std','max','median'],\n",
        "                                                         'TotPkts':['sum','mean','std','max','median'],\n",
        "                                                         'SrcBytes':['sum','mean','std','max','median'],\n",
        "                                                         'Final-Labels':lambda x: x.mode()[0]})).reset_index().assign(window_id=i))"
      ],
      "id": "JzvempBt_peZ",
      "execution_count": null,
      "outputs": [
        {
          "output_type": "stream",
          "name": "stderr",
          "text": [
            "/usr/local/lib/python3.7/dist-packages/pandas/core/frame.py:9138: FutureWarning: merging between different levels is deprecated and will be removed in a future version. (1 levels on the left,2 on the right)\n",
            "  sort=sort,\n"
          ]
        }
      ]
    },
    {
      "cell_type": "markdown",
      "metadata": {
        "id": "0a7297f8"
      },
      "source": [
        "## SOME EDA RELATED TO TIME WINDOW\n",
        "\n",
        "\n",
        "\n"
      ],
      "id": "0a7297f8"
    },
    {
      "cell_type": "code",
      "metadata": {
        "colab": {
          "base_uri": "https://localhost:8080/",
          "height": 305
        },
        "id": "90b484e2",
        "scrolled": true,
        "outputId": "4311b008-37b8-4d9b-de24-552f4a51505e"
      },
      "source": [
        "X.head()"
      ],
      "id": "90b484e2",
      "execution_count": null,
      "outputs": [
        {
          "output_type": "execute_result",
          "data": {
            "text/html": [
              "\n",
              "  <div id=\"df-2dbd66a1-0f4a-4302-bfb4-941351a3f841\">\n",
              "    <div class=\"colab-df-container\">\n",
              "      <div>\n",
              "<style scoped>\n",
              "    .dataframe tbody tr th:only-of-type {\n",
              "        vertical-align: middle;\n",
              "    }\n",
              "\n",
              "    .dataframe tbody tr th {\n",
              "        vertical-align: top;\n",
              "    }\n",
              "\n",
              "    .dataframe thead th {\n",
              "        text-align: right;\n",
              "    }\n",
              "</style>\n",
              "<table border=\"1\" class=\"dataframe\">\n",
              "  <thead>\n",
              "    <tr style=\"text-align: right;\">\n",
              "      <th></th>\n",
              "      <th>SrcAddr</th>\n",
              "      <th>counts</th>\n",
              "      <th>(Sport, nunique)</th>\n",
              "      <th>(Sport, RU)</th>\n",
              "      <th>(Dport, nunique)</th>\n",
              "      <th>(Dport, RU)</th>\n",
              "      <th>(Proto, nunique)</th>\n",
              "      <th>(Proto, RU)</th>\n",
              "      <th>(Dur, sum)</th>\n",
              "      <th>(Dur, mean)</th>\n",
              "      <th>(Dur, std)</th>\n",
              "      <th>(Dur, max)</th>\n",
              "      <th>(Dur, median)</th>\n",
              "      <th>(TotPkts, sum)</th>\n",
              "      <th>(TotPkts, mean)</th>\n",
              "      <th>(TotPkts, std)</th>\n",
              "      <th>(TotPkts, max)</th>\n",
              "      <th>(TotPkts, median)</th>\n",
              "      <th>(SrcBytes, sum)</th>\n",
              "      <th>(SrcBytes, mean)</th>\n",
              "      <th>(SrcBytes, std)</th>\n",
              "      <th>(SrcBytes, max)</th>\n",
              "      <th>(SrcBytes, median)</th>\n",
              "      <th>(Final-Labels, &lt;lambda&gt;)</th>\n",
              "      <th>window_id</th>\n",
              "    </tr>\n",
              "  </thead>\n",
              "  <tbody>\n",
              "    <tr>\n",
              "      <th>0</th>\n",
              "      <td>0.0.0.0</td>\n",
              "      <td>1</td>\n",
              "      <td>1</td>\n",
              "      <td>1.0</td>\n",
              "      <td>1</td>\n",
              "      <td>1.0</td>\n",
              "      <td>1</td>\n",
              "      <td>1.0</td>\n",
              "      <td>3592.177734</td>\n",
              "      <td>3592.177734</td>\n",
              "      <td>NaN</td>\n",
              "      <td>3592.177734</td>\n",
              "      <td>3592.177734</td>\n",
              "      <td>356</td>\n",
              "      <td>356.0</td>\n",
              "      <td>NaN</td>\n",
              "      <td>356</td>\n",
              "      <td>356.0</td>\n",
              "      <td>118034</td>\n",
              "      <td>118034.0</td>\n",
              "      <td>NaN</td>\n",
              "      <td>118034</td>\n",
              "      <td>118034.0</td>\n",
              "      <td>0</td>\n",
              "      <td>0</td>\n",
              "    </tr>\n",
              "    <tr>\n",
              "      <th>1</th>\n",
              "      <td>1.144.156.226</td>\n",
              "      <td>1</td>\n",
              "      <td>1</td>\n",
              "      <td>1.0</td>\n",
              "      <td>1</td>\n",
              "      <td>1.0</td>\n",
              "      <td>1</td>\n",
              "      <td>1.0</td>\n",
              "      <td>0.003020</td>\n",
              "      <td>0.003020</td>\n",
              "      <td>NaN</td>\n",
              "      <td>0.003020</td>\n",
              "      <td>0.003020</td>\n",
              "      <td>2</td>\n",
              "      <td>2.0</td>\n",
              "      <td>NaN</td>\n",
              "      <td>2</td>\n",
              "      <td>2.0</td>\n",
              "      <td>73</td>\n",
              "      <td>73.0</td>\n",
              "      <td>NaN</td>\n",
              "      <td>73</td>\n",
              "      <td>73.0</td>\n",
              "      <td>0</td>\n",
              "      <td>0</td>\n",
              "    </tr>\n",
              "    <tr>\n",
              "      <th>2</th>\n",
              "      <td>1.144.5.55</td>\n",
              "      <td>1</td>\n",
              "      <td>1</td>\n",
              "      <td>1.0</td>\n",
              "      <td>1</td>\n",
              "      <td>1.0</td>\n",
              "      <td>1</td>\n",
              "      <td>1.0</td>\n",
              "      <td>0.002826</td>\n",
              "      <td>0.002826</td>\n",
              "      <td>NaN</td>\n",
              "      <td>0.002826</td>\n",
              "      <td>0.002826</td>\n",
              "      <td>2</td>\n",
              "      <td>2.0</td>\n",
              "      <td>NaN</td>\n",
              "      <td>2</td>\n",
              "      <td>2.0</td>\n",
              "      <td>475</td>\n",
              "      <td>475.0</td>\n",
              "      <td>NaN</td>\n",
              "      <td>475</td>\n",
              "      <td>475.0</td>\n",
              "      <td>0</td>\n",
              "      <td>0</td>\n",
              "    </tr>\n",
              "    <tr>\n",
              "      <th>3</th>\n",
              "      <td>1.155.150.224</td>\n",
              "      <td>1</td>\n",
              "      <td>1</td>\n",
              "      <td>1.0</td>\n",
              "      <td>1</td>\n",
              "      <td>1.0</td>\n",
              "      <td>1</td>\n",
              "      <td>1.0</td>\n",
              "      <td>0.000879</td>\n",
              "      <td>0.000879</td>\n",
              "      <td>NaN</td>\n",
              "      <td>0.000879</td>\n",
              "      <td>0.000879</td>\n",
              "      <td>2</td>\n",
              "      <td>2.0</td>\n",
              "      <td>NaN</td>\n",
              "      <td>2</td>\n",
              "      <td>2.0</td>\n",
              "      <td>74</td>\n",
              "      <td>74.0</td>\n",
              "      <td>NaN</td>\n",
              "      <td>74</td>\n",
              "      <td>74.0</td>\n",
              "      <td>0</td>\n",
              "      <td>0</td>\n",
              "    </tr>\n",
              "    <tr>\n",
              "      <th>4</th>\n",
              "      <td>1.161.139.96</td>\n",
              "      <td>1</td>\n",
              "      <td>1</td>\n",
              "      <td>1.0</td>\n",
              "      <td>1</td>\n",
              "      <td>1.0</td>\n",
              "      <td>1</td>\n",
              "      <td>1.0</td>\n",
              "      <td>1509.379883</td>\n",
              "      <td>1509.379883</td>\n",
              "      <td>NaN</td>\n",
              "      <td>1509.379883</td>\n",
              "      <td>1509.379883</td>\n",
              "      <td>10</td>\n",
              "      <td>10.0</td>\n",
              "      <td>NaN</td>\n",
              "      <td>10</td>\n",
              "      <td>10.0</td>\n",
              "      <td>1289</td>\n",
              "      <td>1289.0</td>\n",
              "      <td>NaN</td>\n",
              "      <td>1289</td>\n",
              "      <td>1289.0</td>\n",
              "      <td>0</td>\n",
              "      <td>0</td>\n",
              "    </tr>\n",
              "  </tbody>\n",
              "</table>\n",
              "</div>\n",
              "      <button class=\"colab-df-convert\" onclick=\"convertToInteractive('df-2dbd66a1-0f4a-4302-bfb4-941351a3f841')\"\n",
              "              title=\"Convert this dataframe to an interactive table.\"\n",
              "              style=\"display:none;\">\n",
              "        \n",
              "  <svg xmlns=\"http://www.w3.org/2000/svg\" height=\"24px\"viewBox=\"0 0 24 24\"\n",
              "       width=\"24px\">\n",
              "    <path d=\"M0 0h24v24H0V0z\" fill=\"none\"/>\n",
              "    <path d=\"M18.56 5.44l.94 2.06.94-2.06 2.06-.94-2.06-.94-.94-2.06-.94 2.06-2.06.94zm-11 1L8.5 8.5l.94-2.06 2.06-.94-2.06-.94L8.5 2.5l-.94 2.06-2.06.94zm10 10l.94 2.06.94-2.06 2.06-.94-2.06-.94-.94-2.06-.94 2.06-2.06.94z\"/><path d=\"M17.41 7.96l-1.37-1.37c-.4-.4-.92-.59-1.43-.59-.52 0-1.04.2-1.43.59L10.3 9.45l-7.72 7.72c-.78.78-.78 2.05 0 2.83L4 21.41c.39.39.9.59 1.41.59.51 0 1.02-.2 1.41-.59l7.78-7.78 2.81-2.81c.8-.78.8-2.07 0-2.86zM5.41 20L4 18.59l7.72-7.72 1.47 1.35L5.41 20z\"/>\n",
              "  </svg>\n",
              "      </button>\n",
              "      \n",
              "  <style>\n",
              "    .colab-df-container {\n",
              "      display:flex;\n",
              "      flex-wrap:wrap;\n",
              "      gap: 12px;\n",
              "    }\n",
              "\n",
              "    .colab-df-convert {\n",
              "      background-color: #E8F0FE;\n",
              "      border: none;\n",
              "      border-radius: 50%;\n",
              "      cursor: pointer;\n",
              "      display: none;\n",
              "      fill: #1967D2;\n",
              "      height: 32px;\n",
              "      padding: 0 0 0 0;\n",
              "      width: 32px;\n",
              "    }\n",
              "\n",
              "    .colab-df-convert:hover {\n",
              "      background-color: #E2EBFA;\n",
              "      box-shadow: 0px 1px 2px rgba(60, 64, 67, 0.3), 0px 1px 3px 1px rgba(60, 64, 67, 0.15);\n",
              "      fill: #174EA6;\n",
              "    }\n",
              "\n",
              "    [theme=dark] .colab-df-convert {\n",
              "      background-color: #3B4455;\n",
              "      fill: #D2E3FC;\n",
              "    }\n",
              "\n",
              "    [theme=dark] .colab-df-convert:hover {\n",
              "      background-color: #434B5C;\n",
              "      box-shadow: 0px 1px 3px 1px rgba(0, 0, 0, 0.15);\n",
              "      filter: drop-shadow(0px 1px 2px rgba(0, 0, 0, 0.3));\n",
              "      fill: #FFFFFF;\n",
              "    }\n",
              "  </style>\n",
              "\n",
              "      <script>\n",
              "        const buttonEl =\n",
              "          document.querySelector('#df-2dbd66a1-0f4a-4302-bfb4-941351a3f841 button.colab-df-convert');\n",
              "        buttonEl.style.display =\n",
              "          google.colab.kernel.accessAllowed ? 'block' : 'none';\n",
              "\n",
              "        async function convertToInteractive(key) {\n",
              "          const element = document.querySelector('#df-2dbd66a1-0f4a-4302-bfb4-941351a3f841');\n",
              "          const dataTable =\n",
              "            await google.colab.kernel.invokeFunction('convertToInteractive',\n",
              "                                                     [key], {});\n",
              "          if (!dataTable) return;\n",
              "\n",
              "          const docLinkHtml = 'Like what you see? Visit the ' +\n",
              "            '<a target=\"_blank\" href=https://colab.research.google.com/notebooks/data_table.ipynb>data table notebook</a>'\n",
              "            + ' to learn more about interactive tables.';\n",
              "          element.innerHTML = '';\n",
              "          dataTable['output_type'] = 'display_data';\n",
              "          await google.colab.output.renderOutput(dataTable, element);\n",
              "          const docLink = document.createElement('div');\n",
              "          docLink.innerHTML = docLinkHtml;\n",
              "          element.appendChild(docLink);\n",
              "        }\n",
              "      </script>\n",
              "    </div>\n",
              "  </div>\n",
              "  "
            ],
            "text/plain": [
              "         SrcAddr  counts  ...  (Final-Labels, <lambda>)  window_id\n",
              "0        0.0.0.0       1  ...                         0          0\n",
              "1  1.144.156.226       1  ...                         0          0\n",
              "2     1.144.5.55       1  ...                         0          0\n",
              "3  1.155.150.224       1  ...                         0          0\n",
              "4   1.161.139.96       1  ...                         0          0\n",
              "\n",
              "[5 rows x 25 columns]"
            ]
          },
          "metadata": {},
          "execution_count": 18
        }
      ]
    },
    {
      "cell_type": "code",
      "metadata": {
        "colab": {
          "base_uri": "https://localhost:8080/"
        },
        "id": "aa2a433b",
        "outputId": "58576dc5-dd26-4347-a417-8f76d150febe"
      },
      "source": [
        "X.shape"
      ],
      "id": "aa2a433b",
      "execution_count": null,
      "outputs": [
        {
          "output_type": "execute_result",
          "data": {
            "text/plain": [
              "(2226533, 27)"
            ]
          },
          "metadata": {
            "tags": []
          },
          "execution_count": 24
        }
      ]
    },
    {
      "cell_type": "markdown",
      "source": [
        "Aggregrations where count is not one"
      ],
      "metadata": {
        "id": "07QOaWDbN8xv"
      },
      "id": "07QOaWDbN8xv"
    },
    {
      "cell_type": "code",
      "metadata": {
        "id": "8af89086",
        "outputId": "afc6a978-9319-477b-aef8-8ec34f05bce8"
      },
      "source": [
        "X.loc[X.counts !=1]"
      ],
      "id": "8af89086",
      "execution_count": null,
      "outputs": [
        {
          "output_type": "execute_result",
          "data": {
            "text/html": [
              "<div>\n",
              "<style scoped>\n",
              "    .dataframe tbody tr th:only-of-type {\n",
              "        vertical-align: middle;\n",
              "    }\n",
              "\n",
              "    .dataframe tbody tr th {\n",
              "        vertical-align: top;\n",
              "    }\n",
              "\n",
              "    .dataframe thead th {\n",
              "        text-align: right;\n",
              "    }\n",
              "</style>\n",
              "<table border=\"1\" class=\"dataframe\">\n",
              "  <thead>\n",
              "    <tr style=\"text-align: right;\">\n",
              "      <th></th>\n",
              "      <th>SrcAddr</th>\n",
              "      <th>counts</th>\n",
              "      <th>(Sport, nunique)</th>\n",
              "      <th>(Sport, RU)</th>\n",
              "      <th>(DstAddr, nunique)</th>\n",
              "      <th>(DstAddr, RU)</th>\n",
              "      <th>(Dport, nunique)</th>\n",
              "      <th>(Dport, RU)</th>\n",
              "      <th>(Proto, nunique)</th>\n",
              "      <th>(Proto, RU)</th>\n",
              "      <th>...</th>\n",
              "      <th>(TotPkts, std)</th>\n",
              "      <th>(TotPkts, max)</th>\n",
              "      <th>(TotPkts, median)</th>\n",
              "      <th>(SrcBytes, sum)</th>\n",
              "      <th>(SrcBytes, mean)</th>\n",
              "      <th>(SrcBytes, std)</th>\n",
              "      <th>(SrcBytes, max)</th>\n",
              "      <th>(SrcBytes, median)</th>\n",
              "      <th>(Final-Labels, &lt;lambda&gt;)</th>\n",
              "      <th>window_id</th>\n",
              "    </tr>\n",
              "  </thead>\n",
              "  <tbody>\n",
              "    <tr>\n",
              "      <th>72</th>\n",
              "      <td>109.123.209.192</td>\n",
              "      <td>5</td>\n",
              "      <td>1</td>\n",
              "      <td>-0.0</td>\n",
              "      <td>1</td>\n",
              "      <td>-0.0</td>\n",
              "      <td>5</td>\n",
              "      <td>1.0</td>\n",
              "      <td>1</td>\n",
              "      <td>-0.000000</td>\n",
              "      <td>...</td>\n",
              "      <td>2.738613</td>\n",
              "      <td>9</td>\n",
              "      <td>9.0</td>\n",
              "      <td>420</td>\n",
              "      <td>84.000000</td>\n",
              "      <td>32.863353</td>\n",
              "      <td>120</td>\n",
              "      <td>60.0</td>\n",
              "      <td>0</td>\n",
              "      <td>0</td>\n",
              "    </tr>\n",
              "    <tr>\n",
              "      <th>87</th>\n",
              "      <td>109.149.33.116</td>\n",
              "      <td>2</td>\n",
              "      <td>1</td>\n",
              "      <td>-0.0</td>\n",
              "      <td>1</td>\n",
              "      <td>-0.0</td>\n",
              "      <td>2</td>\n",
              "      <td>1.0</td>\n",
              "      <td>1</td>\n",
              "      <td>-0.000000</td>\n",
              "      <td>...</td>\n",
              "      <td>0.000000</td>\n",
              "      <td>2</td>\n",
              "      <td>2.0</td>\n",
              "      <td>134</td>\n",
              "      <td>67.000000</td>\n",
              "      <td>9.899495</td>\n",
              "      <td>74</td>\n",
              "      <td>67.0</td>\n",
              "      <td>0</td>\n",
              "      <td>0</td>\n",
              "    </tr>\n",
              "    <tr>\n",
              "      <th>95</th>\n",
              "      <td>109.154.174.151</td>\n",
              "      <td>2</td>\n",
              "      <td>2</td>\n",
              "      <td>1.0</td>\n",
              "      <td>1</td>\n",
              "      <td>-0.0</td>\n",
              "      <td>1</td>\n",
              "      <td>-0.0</td>\n",
              "      <td>1</td>\n",
              "      <td>-0.000000</td>\n",
              "      <td>...</td>\n",
              "      <td>1.414214</td>\n",
              "      <td>4</td>\n",
              "      <td>3.0</td>\n",
              "      <td>192</td>\n",
              "      <td>96.000000</td>\n",
              "      <td>45.254834</td>\n",
              "      <td>128</td>\n",
              "      <td>96.0</td>\n",
              "      <td>0</td>\n",
              "      <td>0</td>\n",
              "    </tr>\n",
              "    <tr>\n",
              "      <th>165</th>\n",
              "      <td>109.201.184.213</td>\n",
              "      <td>4</td>\n",
              "      <td>4</td>\n",
              "      <td>1.0</td>\n",
              "      <td>1</td>\n",
              "      <td>-0.0</td>\n",
              "      <td>4</td>\n",
              "      <td>1.0</td>\n",
              "      <td>2</td>\n",
              "      <td>0.405639</td>\n",
              "      <td>...</td>\n",
              "      <td>6.500000</td>\n",
              "      <td>18</td>\n",
              "      <td>18.0</td>\n",
              "      <td>2330</td>\n",
              "      <td>582.500000</td>\n",
              "      <td>51.000000</td>\n",
              "      <td>608</td>\n",
              "      <td>608.0</td>\n",
              "      <td>0</td>\n",
              "      <td>0</td>\n",
              "    </tr>\n",
              "    <tr>\n",
              "      <th>173</th>\n",
              "      <td>109.205.250.34</td>\n",
              "      <td>2</td>\n",
              "      <td>2</td>\n",
              "      <td>1.0</td>\n",
              "      <td>1</td>\n",
              "      <td>-0.0</td>\n",
              "      <td>1</td>\n",
              "      <td>-0.0</td>\n",
              "      <td>1</td>\n",
              "      <td>-0.000000</td>\n",
              "      <td>...</td>\n",
              "      <td>0.000000</td>\n",
              "      <td>6</td>\n",
              "      <td>6.0</td>\n",
              "      <td>384</td>\n",
              "      <td>192.000000</td>\n",
              "      <td>0.000000</td>\n",
              "      <td>192</td>\n",
              "      <td>192.0</td>\n",
              "      <td>0</td>\n",
              "      <td>0</td>\n",
              "    </tr>\n",
              "    <tr>\n",
              "      <th>...</th>\n",
              "      <td>...</td>\n",
              "      <td>...</td>\n",
              "      <td>...</td>\n",
              "      <td>...</td>\n",
              "      <td>...</td>\n",
              "      <td>...</td>\n",
              "      <td>...</td>\n",
              "      <td>...</td>\n",
              "      <td>...</td>\n",
              "      <td>...</td>\n",
              "      <td>...</td>\n",
              "      <td>...</td>\n",
              "      <td>...</td>\n",
              "      <td>...</td>\n",
              "      <td>...</td>\n",
              "      <td>...</td>\n",
              "      <td>...</td>\n",
              "      <td>...</td>\n",
              "      <td>...</td>\n",
              "      <td>...</td>\n",
              "      <td>...</td>\n",
              "    </tr>\n",
              "    <tr>\n",
              "      <th>444</th>\n",
              "      <td>74.198.164.183</td>\n",
              "      <td>3</td>\n",
              "      <td>3</td>\n",
              "      <td>1.0</td>\n",
              "      <td>1</td>\n",
              "      <td>-0.0</td>\n",
              "      <td>3</td>\n",
              "      <td>1.0</td>\n",
              "      <td>1</td>\n",
              "      <td>-0.000000</td>\n",
              "      <td>...</td>\n",
              "      <td>4.041452</td>\n",
              "      <td>10</td>\n",
              "      <td>7.0</td>\n",
              "      <td>1021</td>\n",
              "      <td>340.333333</td>\n",
              "      <td>259.546399</td>\n",
              "      <td>597</td>\n",
              "      <td>346.0</td>\n",
              "      <td>0</td>\n",
              "      <td>367</td>\n",
              "    </tr>\n",
              "    <tr>\n",
              "      <th>469</th>\n",
              "      <td>78.122.48.25</td>\n",
              "      <td>2</td>\n",
              "      <td>2</td>\n",
              "      <td>1.0</td>\n",
              "      <td>1</td>\n",
              "      <td>-0.0</td>\n",
              "      <td>2</td>\n",
              "      <td>1.0</td>\n",
              "      <td>1</td>\n",
              "      <td>-0.000000</td>\n",
              "      <td>...</td>\n",
              "      <td>7.778175</td>\n",
              "      <td>21</td>\n",
              "      <td>15.5</td>\n",
              "      <td>1115</td>\n",
              "      <td>557.500000</td>\n",
              "      <td>301.934596</td>\n",
              "      <td>771</td>\n",
              "      <td>557.5</td>\n",
              "      <td>0</td>\n",
              "      <td>367</td>\n",
              "    </tr>\n",
              "    <tr>\n",
              "      <th>522</th>\n",
              "      <td>82.113.99.164</td>\n",
              "      <td>2</td>\n",
              "      <td>2</td>\n",
              "      <td>1.0</td>\n",
              "      <td>1</td>\n",
              "      <td>-0.0</td>\n",
              "      <td>2</td>\n",
              "      <td>1.0</td>\n",
              "      <td>1</td>\n",
              "      <td>-0.000000</td>\n",
              "      <td>...</td>\n",
              "      <td>5.656854</td>\n",
              "      <td>25</td>\n",
              "      <td>21.0</td>\n",
              "      <td>1874</td>\n",
              "      <td>937.000000</td>\n",
              "      <td>298.399062</td>\n",
              "      <td>1148</td>\n",
              "      <td>937.0</td>\n",
              "      <td>0</td>\n",
              "      <td>367</td>\n",
              "    </tr>\n",
              "    <tr>\n",
              "      <th>660</th>\n",
              "      <td>89.168.68.188</td>\n",
              "      <td>3</td>\n",
              "      <td>3</td>\n",
              "      <td>1.0</td>\n",
              "      <td>1</td>\n",
              "      <td>-0.0</td>\n",
              "      <td>3</td>\n",
              "      <td>1.0</td>\n",
              "      <td>1</td>\n",
              "      <td>-0.000000</td>\n",
              "      <td>...</td>\n",
              "      <td>3.055050</td>\n",
              "      <td>11</td>\n",
              "      <td>7.0</td>\n",
              "      <td>780</td>\n",
              "      <td>260.000000</td>\n",
              "      <td>119.146968</td>\n",
              "      <td>390</td>\n",
              "      <td>234.0</td>\n",
              "      <td>0</td>\n",
              "      <td>367</td>\n",
              "    </tr>\n",
              "    <tr>\n",
              "      <th>679</th>\n",
              "      <td>90.201.8.187</td>\n",
              "      <td>3</td>\n",
              "      <td>3</td>\n",
              "      <td>1.0</td>\n",
              "      <td>1</td>\n",
              "      <td>-0.0</td>\n",
              "      <td>1</td>\n",
              "      <td>-0.0</td>\n",
              "      <td>1</td>\n",
              "      <td>-0.000000</td>\n",
              "      <td>...</td>\n",
              "      <td>0.000000</td>\n",
              "      <td>3</td>\n",
              "      <td>3.0</td>\n",
              "      <td>414</td>\n",
              "      <td>138.000000</td>\n",
              "      <td>0.000000</td>\n",
              "      <td>138</td>\n",
              "      <td>138.0</td>\n",
              "      <td>0</td>\n",
              "      <td>367</td>\n",
              "    </tr>\n",
              "  </tbody>\n",
              "</table>\n",
              "<p>101139 rows × 27 columns</p>\n",
              "</div>"
            ],
            "text/plain": [
              "             SrcAddr  counts  (Sport, nunique)  (Sport, RU)  \\\n",
              "72   109.123.209.192       5                 1         -0.0   \n",
              "87    109.149.33.116       2                 1         -0.0   \n",
              "95   109.154.174.151       2                 2          1.0   \n",
              "165  109.201.184.213       4                 4          1.0   \n",
              "173   109.205.250.34       2                 2          1.0   \n",
              "..               ...     ...               ...          ...   \n",
              "444   74.198.164.183       3                 3          1.0   \n",
              "469     78.122.48.25       2                 2          1.0   \n",
              "522    82.113.99.164       2                 2          1.0   \n",
              "660    89.168.68.188       3                 3          1.0   \n",
              "679     90.201.8.187       3                 3          1.0   \n",
              "\n",
              "     (DstAddr, nunique)  (DstAddr, RU)  (Dport, nunique)  (Dport, RU)  \\\n",
              "72                    1           -0.0                 5          1.0   \n",
              "87                    1           -0.0                 2          1.0   \n",
              "95                    1           -0.0                 1         -0.0   \n",
              "165                   1           -0.0                 4          1.0   \n",
              "173                   1           -0.0                 1         -0.0   \n",
              "..                  ...            ...               ...          ...   \n",
              "444                   1           -0.0                 3          1.0   \n",
              "469                   1           -0.0                 2          1.0   \n",
              "522                   1           -0.0                 2          1.0   \n",
              "660                   1           -0.0                 3          1.0   \n",
              "679                   1           -0.0                 1         -0.0   \n",
              "\n",
              "     (Proto, nunique)  (Proto, RU)  ...  (TotPkts, std)  (TotPkts, max)  \\\n",
              "72                  1    -0.000000  ...        2.738613               9   \n",
              "87                  1    -0.000000  ...        0.000000               2   \n",
              "95                  1    -0.000000  ...        1.414214               4   \n",
              "165                 2     0.405639  ...        6.500000              18   \n",
              "173                 1    -0.000000  ...        0.000000               6   \n",
              "..                ...          ...  ...             ...             ...   \n",
              "444                 1    -0.000000  ...        4.041452              10   \n",
              "469                 1    -0.000000  ...        7.778175              21   \n",
              "522                 1    -0.000000  ...        5.656854              25   \n",
              "660                 1    -0.000000  ...        3.055050              11   \n",
              "679                 1    -0.000000  ...        0.000000               3   \n",
              "\n",
              "     (TotPkts, median)  (SrcBytes, sum)  (SrcBytes, mean)  (SrcBytes, std)  \\\n",
              "72                 9.0              420         84.000000        32.863353   \n",
              "87                 2.0              134         67.000000         9.899495   \n",
              "95                 3.0              192         96.000000        45.254834   \n",
              "165               18.0             2330        582.500000        51.000000   \n",
              "173                6.0              384        192.000000         0.000000   \n",
              "..                 ...              ...               ...              ...   \n",
              "444                7.0             1021        340.333333       259.546399   \n",
              "469               15.5             1115        557.500000       301.934596   \n",
              "522               21.0             1874        937.000000       298.399062   \n",
              "660                7.0              780        260.000000       119.146968   \n",
              "679                3.0              414        138.000000         0.000000   \n",
              "\n",
              "     (SrcBytes, max)  (SrcBytes, median)  (Final-Labels, <lambda>)  window_id  \n",
              "72               120                60.0                         0          0  \n",
              "87                74                67.0                         0          0  \n",
              "95               128                96.0                         0          0  \n",
              "165              608               608.0                         0          0  \n",
              "173              192               192.0                         0          0  \n",
              "..               ...                 ...                       ...        ...  \n",
              "444              597               346.0                         0        367  \n",
              "469              771               557.5                         0        367  \n",
              "522             1148               937.0                         0        367  \n",
              "660              390               234.0                         0        367  \n",
              "679              138               138.0                         0        367  \n",
              "\n",
              "[101139 rows x 27 columns]"
            ]
          },
          "metadata": {
            "tags": []
          },
          "execution_count": 117
        }
      ]
    },
    {
      "cell_type": "markdown",
      "metadata": {
        "id": "f060bf80"
      },
      "source": [
        "FILLING STD DEVIATION FOR THE FIELDS WITH COUNT 1 AS 0"
      ],
      "id": "f060bf80"
    },
    {
      "cell_type": "code",
      "metadata": {
        "id": "TKAxU4a8CBCY"
      },
      "source": [
        "X.fillna(0,inplace=True)"
      ],
      "id": "TKAxU4a8CBCY",
      "execution_count": null,
      "outputs": []
    },
    {
      "cell_type": "code",
      "metadata": {
        "id": "1a6fa81c",
        "outputId": "bc34d38e-dec3-4dc4-c4ea-e3b6e6018e1c"
      },
      "source": [
        "X.loc[X['Sport', 'nunique']!=1]"
      ],
      "id": "1a6fa81c",
      "execution_count": null,
      "outputs": [
        {
          "output_type": "execute_result",
          "data": {
            "text/html": [
              "<div>\n",
              "<style scoped>\n",
              "    .dataframe tbody tr th:only-of-type {\n",
              "        vertical-align: middle;\n",
              "    }\n",
              "\n",
              "    .dataframe tbody tr th {\n",
              "        vertical-align: top;\n",
              "    }\n",
              "\n",
              "    .dataframe thead th {\n",
              "        text-align: right;\n",
              "    }\n",
              "</style>\n",
              "<table border=\"1\" class=\"dataframe\">\n",
              "  <thead>\n",
              "    <tr style=\"text-align: right;\">\n",
              "      <th></th>\n",
              "      <th>SrcAddr</th>\n",
              "      <th>counts</th>\n",
              "      <th>(Sport, nunique)</th>\n",
              "      <th>(DstAddr, nunique)</th>\n",
              "      <th>(Dport, nunique)</th>\n",
              "      <th>(Proto, nunique)</th>\n",
              "      <th>(Dur, sum)</th>\n",
              "      <th>(Dur, mean)</th>\n",
              "      <th>(Dur, std)</th>\n",
              "      <th>(Dur, max)</th>\n",
              "      <th>...</th>\n",
              "      <th>(TotPkts, std)</th>\n",
              "      <th>(TotPkts, max)</th>\n",
              "      <th>(TotPkts, median)</th>\n",
              "      <th>(SrcBytes, sum)</th>\n",
              "      <th>(SrcBytes, mean)</th>\n",
              "      <th>(SrcBytes, std)</th>\n",
              "      <th>(SrcBytes, max)</th>\n",
              "      <th>(SrcBytes, median)</th>\n",
              "      <th>(Final-Labels, &lt;lambda&gt;)</th>\n",
              "      <th>window_id</th>\n",
              "    </tr>\n",
              "  </thead>\n",
              "  <tbody>\n",
              "    <tr>\n",
              "      <th>95</th>\n",
              "      <td>109.154.174.151</td>\n",
              "      <td>2</td>\n",
              "      <td>2</td>\n",
              "      <td>1</td>\n",
              "      <td>1</td>\n",
              "      <td>1</td>\n",
              "      <td>0.385521</td>\n",
              "      <td>0.192761</td>\n",
              "      <td>0.269775</td>\n",
              "      <td>0.383520</td>\n",
              "      <td>...</td>\n",
              "      <td>1.414214</td>\n",
              "      <td>4</td>\n",
              "      <td>3.0</td>\n",
              "      <td>192</td>\n",
              "      <td>96.000000</td>\n",
              "      <td>45.254834</td>\n",
              "      <td>128</td>\n",
              "      <td>96.0</td>\n",
              "      <td>0</td>\n",
              "      <td>0</td>\n",
              "    </tr>\n",
              "    <tr>\n",
              "      <th>165</th>\n",
              "      <td>109.201.184.213</td>\n",
              "      <td>4</td>\n",
              "      <td>4</td>\n",
              "      <td>1</td>\n",
              "      <td>4</td>\n",
              "      <td>2</td>\n",
              "      <td>42.655637</td>\n",
              "      <td>10.663909</td>\n",
              "      <td>1.047075</td>\n",
              "      <td>11.190853</td>\n",
              "      <td>...</td>\n",
              "      <td>6.500000</td>\n",
              "      <td>18</td>\n",
              "      <td>18.0</td>\n",
              "      <td>2330</td>\n",
              "      <td>582.500000</td>\n",
              "      <td>51.000000</td>\n",
              "      <td>608</td>\n",
              "      <td>608.0</td>\n",
              "      <td>0</td>\n",
              "      <td>0</td>\n",
              "    </tr>\n",
              "    <tr>\n",
              "      <th>173</th>\n",
              "      <td>109.205.250.34</td>\n",
              "      <td>2</td>\n",
              "      <td>2</td>\n",
              "      <td>1</td>\n",
              "      <td>1</td>\n",
              "      <td>1</td>\n",
              "      <td>0.695249</td>\n",
              "      <td>0.347625</td>\n",
              "      <td>0.147946</td>\n",
              "      <td>0.452238</td>\n",
              "      <td>...</td>\n",
              "      <td>0.000000</td>\n",
              "      <td>6</td>\n",
              "      <td>6.0</td>\n",
              "      <td>384</td>\n",
              "      <td>192.000000</td>\n",
              "      <td>0.000000</td>\n",
              "      <td>192</td>\n",
              "      <td>192.0</td>\n",
              "      <td>0</td>\n",
              "      <td>0</td>\n",
              "    </tr>\n",
              "    <tr>\n",
              "      <th>178</th>\n",
              "      <td>109.214.186.117</td>\n",
              "      <td>2</td>\n",
              "      <td>2</td>\n",
              "      <td>1</td>\n",
              "      <td>1</td>\n",
              "      <td>2</td>\n",
              "      <td>251.396000</td>\n",
              "      <td>125.698000</td>\n",
              "      <td>176.124569</td>\n",
              "      <td>250.236877</td>\n",
              "      <td>...</td>\n",
              "      <td>2.828427</td>\n",
              "      <td>6</td>\n",
              "      <td>4.0</td>\n",
              "      <td>301</td>\n",
              "      <td>150.500000</td>\n",
              "      <td>61.518290</td>\n",
              "      <td>194</td>\n",
              "      <td>150.5</td>\n",
              "      <td>0</td>\n",
              "      <td>0</td>\n",
              "    </tr>\n",
              "    <tr>\n",
              "      <th>419</th>\n",
              "      <td>113.128.219.130</td>\n",
              "      <td>3</td>\n",
              "      <td>3</td>\n",
              "      <td>1</td>\n",
              "      <td>1</td>\n",
              "      <td>1</td>\n",
              "      <td>10438.248291</td>\n",
              "      <td>3479.416097</td>\n",
              "      <td>144.096055</td>\n",
              "      <td>3599.914551</td>\n",
              "      <td>...</td>\n",
              "      <td>11.015141</td>\n",
              "      <td>36</td>\n",
              "      <td>26.0</td>\n",
              "      <td>3282</td>\n",
              "      <td>1094.000000</td>\n",
              "      <td>232.559670</td>\n",
              "      <td>1356</td>\n",
              "      <td>1014.0</td>\n",
              "      <td>0</td>\n",
              "      <td>0</td>\n",
              "    </tr>\n",
              "    <tr>\n",
              "      <th>...</th>\n",
              "      <td>...</td>\n",
              "      <td>...</td>\n",
              "      <td>...</td>\n",
              "      <td>...</td>\n",
              "      <td>...</td>\n",
              "      <td>...</td>\n",
              "      <td>...</td>\n",
              "      <td>...</td>\n",
              "      <td>...</td>\n",
              "      <td>...</td>\n",
              "      <td>...</td>\n",
              "      <td>...</td>\n",
              "      <td>...</td>\n",
              "      <td>...</td>\n",
              "      <td>...</td>\n",
              "      <td>...</td>\n",
              "      <td>...</td>\n",
              "      <td>...</td>\n",
              "      <td>...</td>\n",
              "      <td>...</td>\n",
              "      <td>...</td>\n",
              "    </tr>\n",
              "    <tr>\n",
              "      <th>5781</th>\n",
              "      <td>94.26.28.135</td>\n",
              "      <td>2</td>\n",
              "      <td>2</td>\n",
              "      <td>1</td>\n",
              "      <td>1</td>\n",
              "      <td>1</td>\n",
              "      <td>0.002072</td>\n",
              "      <td>0.001036</td>\n",
              "      <td>0.000260</td>\n",
              "      <td>0.001220</td>\n",
              "      <td>...</td>\n",
              "      <td>0.000000</td>\n",
              "      <td>2</td>\n",
              "      <td>2.0</td>\n",
              "      <td>158</td>\n",
              "      <td>79.000000</td>\n",
              "      <td>0.000000</td>\n",
              "      <td>79</td>\n",
              "      <td>79.0</td>\n",
              "      <td>0</td>\n",
              "      <td>99</td>\n",
              "    </tr>\n",
              "    <tr>\n",
              "      <th>5863</th>\n",
              "      <td>94.85.243.97</td>\n",
              "      <td>3</td>\n",
              "      <td>3</td>\n",
              "      <td>1</td>\n",
              "      <td>1</td>\n",
              "      <td>1</td>\n",
              "      <td>0.003207</td>\n",
              "      <td>0.001069</td>\n",
              "      <td>0.000253</td>\n",
              "      <td>0.001359</td>\n",
              "      <td>...</td>\n",
              "      <td>0.000000</td>\n",
              "      <td>2</td>\n",
              "      <td>2.0</td>\n",
              "      <td>569</td>\n",
              "      <td>189.666667</td>\n",
              "      <td>4.041452</td>\n",
              "      <td>192</td>\n",
              "      <td>192.0</td>\n",
              "      <td>0</td>\n",
              "      <td>99</td>\n",
              "    </tr>\n",
              "    <tr>\n",
              "      <th>5870</th>\n",
              "      <td>95.104.113.130</td>\n",
              "      <td>2</td>\n",
              "      <td>2</td>\n",
              "      <td>1</td>\n",
              "      <td>1</td>\n",
              "      <td>1</td>\n",
              "      <td>0.002674</td>\n",
              "      <td>0.001337</td>\n",
              "      <td>0.000116</td>\n",
              "      <td>0.001419</td>\n",
              "      <td>...</td>\n",
              "      <td>0.000000</td>\n",
              "      <td>2</td>\n",
              "      <td>2.0</td>\n",
              "      <td>156</td>\n",
              "      <td>78.000000</td>\n",
              "      <td>1.414214</td>\n",
              "      <td>79</td>\n",
              "      <td>78.0</td>\n",
              "      <td>0</td>\n",
              "      <td>99</td>\n",
              "    </tr>\n",
              "    <tr>\n",
              "      <th>5915</th>\n",
              "      <td>95.154.121.15</td>\n",
              "      <td>3</td>\n",
              "      <td>3</td>\n",
              "      <td>1</td>\n",
              "      <td>1</td>\n",
              "      <td>1</td>\n",
              "      <td>0.000462</td>\n",
              "      <td>0.000154</td>\n",
              "      <td>0.000021</td>\n",
              "      <td>0.000173</td>\n",
              "      <td>...</td>\n",
              "      <td>0.000000</td>\n",
              "      <td>2</td>\n",
              "      <td>2.0</td>\n",
              "      <td>186</td>\n",
              "      <td>62.000000</td>\n",
              "      <td>0.000000</td>\n",
              "      <td>62</td>\n",
              "      <td>62.0</td>\n",
              "      <td>0</td>\n",
              "      <td>99</td>\n",
              "    </tr>\n",
              "    <tr>\n",
              "      <th>5950</th>\n",
              "      <td>95.191.49.197</td>\n",
              "      <td>3</td>\n",
              "      <td>3</td>\n",
              "      <td>1</td>\n",
              "      <td>3</td>\n",
              "      <td>1</td>\n",
              "      <td>26.985098</td>\n",
              "      <td>8.995033</td>\n",
              "      <td>0.000930</td>\n",
              "      <td>8.995642</td>\n",
              "      <td>...</td>\n",
              "      <td>0.000000</td>\n",
              "      <td>8</td>\n",
              "      <td>8.0</td>\n",
              "      <td>582</td>\n",
              "      <td>194.000000</td>\n",
              "      <td>0.000000</td>\n",
              "      <td>194</td>\n",
              "      <td>194.0</td>\n",
              "      <td>0</td>\n",
              "      <td>99</td>\n",
              "    </tr>\n",
              "  </tbody>\n",
              "</table>\n",
              "<p>25785 rows × 23 columns</p>\n",
              "</div>"
            ],
            "text/plain": [
              "              SrcAddr  counts  (Sport, nunique)  (DstAddr, nunique)  \\\n",
              "95    109.154.174.151       2                 2                   1   \n",
              "165   109.201.184.213       4                 4                   1   \n",
              "173    109.205.250.34       2                 2                   1   \n",
              "178   109.214.186.117       2                 2                   1   \n",
              "419   113.128.219.130       3                 3                   1   \n",
              "...               ...     ...               ...                 ...   \n",
              "5781     94.26.28.135       2                 2                   1   \n",
              "5863     94.85.243.97       3                 3                   1   \n",
              "5870   95.104.113.130       2                 2                   1   \n",
              "5915    95.154.121.15       3                 3                   1   \n",
              "5950    95.191.49.197       3                 3                   1   \n",
              "\n",
              "      (Dport, nunique)  (Proto, nunique)    (Dur, sum)  (Dur, mean)  \\\n",
              "95                   1                 1      0.385521     0.192761   \n",
              "165                  4                 2     42.655637    10.663909   \n",
              "173                  1                 1      0.695249     0.347625   \n",
              "178                  1                 2    251.396000   125.698000   \n",
              "419                  1                 1  10438.248291  3479.416097   \n",
              "...                ...               ...           ...          ...   \n",
              "5781                 1                 1      0.002072     0.001036   \n",
              "5863                 1                 1      0.003207     0.001069   \n",
              "5870                 1                 1      0.002674     0.001337   \n",
              "5915                 1                 1      0.000462     0.000154   \n",
              "5950                 3                 1     26.985098     8.995033   \n",
              "\n",
              "      (Dur, std)   (Dur, max)  ...  (TotPkts, std)  (TotPkts, max)  \\\n",
              "95      0.269775     0.383520  ...        1.414214               4   \n",
              "165     1.047075    11.190853  ...        6.500000              18   \n",
              "173     0.147946     0.452238  ...        0.000000               6   \n",
              "178   176.124569   250.236877  ...        2.828427               6   \n",
              "419   144.096055  3599.914551  ...       11.015141              36   \n",
              "...          ...          ...  ...             ...             ...   \n",
              "5781    0.000260     0.001220  ...        0.000000               2   \n",
              "5863    0.000253     0.001359  ...        0.000000               2   \n",
              "5870    0.000116     0.001419  ...        0.000000               2   \n",
              "5915    0.000021     0.000173  ...        0.000000               2   \n",
              "5950    0.000930     8.995642  ...        0.000000               8   \n",
              "\n",
              "      (TotPkts, median)  (SrcBytes, sum)  (SrcBytes, mean)  (SrcBytes, std)  \\\n",
              "95                  3.0              192         96.000000        45.254834   \n",
              "165                18.0             2330        582.500000        51.000000   \n",
              "173                 6.0              384        192.000000         0.000000   \n",
              "178                 4.0              301        150.500000        61.518290   \n",
              "419                26.0             3282       1094.000000       232.559670   \n",
              "...                 ...              ...               ...              ...   \n",
              "5781                2.0              158         79.000000         0.000000   \n",
              "5863                2.0              569        189.666667         4.041452   \n",
              "5870                2.0              156         78.000000         1.414214   \n",
              "5915                2.0              186         62.000000         0.000000   \n",
              "5950                8.0              582        194.000000         0.000000   \n",
              "\n",
              "      (SrcBytes, max)  (SrcBytes, median)  (Final-Labels, <lambda>)  window_id  \n",
              "95                128                96.0                         0          0  \n",
              "165               608               608.0                         0          0  \n",
              "173               192               192.0                         0          0  \n",
              "178               194               150.5                         0          0  \n",
              "419              1356              1014.0                         0          0  \n",
              "...               ...                 ...                       ...        ...  \n",
              "5781               79                79.0                         0         99  \n",
              "5863              192               192.0                         0         99  \n",
              "5870               79                78.0                         0         99  \n",
              "5915               62                62.0                         0         99  \n",
              "5950              194               194.0                         0         99  \n",
              "\n",
              "[25785 rows x 23 columns]"
            ]
          },
          "metadata": {
            "tags": []
          },
          "execution_count": 45
        }
      ]
    },
    {
      "cell_type": "code",
      "metadata": {
        "id": "b133be7b",
        "outputId": "a19ba0df-f13a-4b63-8327-448fb40c70c6",
        "colab": {
          "base_uri": "https://localhost:8080/"
        }
      },
      "source": [
        "X['Final-Labels', '<lambda>'].value_counts()"
      ],
      "id": "b133be7b",
      "execution_count": null,
      "outputs": [
        {
          "output_type": "execute_result",
          "data": {
            "text/plain": [
              "0    2225215\n",
              "2       1032\n",
              "1        286\n",
              "Name: (Final-Labels, <lambda>), dtype: int64"
            ]
          },
          "metadata": {},
          "execution_count": 24
        }
      ]
    },
    {
      "cell_type": "code",
      "metadata": {
        "id": "0d344482",
        "outputId": "24160add-d8be-4ac9-ebfc-4bc6ae82dda6"
      },
      "source": [
        "plt.figure(figsize=(14,12))\n",
        "\n",
        "# plot heatmap set the title\n",
        "colormap = plt.cm.RdBu\n",
        "sns.heatmap(X.corr(),linewidths=0.1,vmax=1.0, \n",
        "            square=False, cmap=colormap, linecolor='white', annot=False)\n",
        "plt.title('Pearson Correlation of All Features', y=1.05, size=14)"
      ],
      "id": "0d344482",
      "execution_count": null,
      "outputs": [
        {
          "output_type": "execute_result",
          "data": {
            "text/plain": [
              "Text(0.5, 1.05, 'Pearson Correlation of All Features')"
            ]
          },
          "metadata": {
            "tags": []
          },
          "execution_count": 112
        },
        {
          "output_type": "display_data",
          "data": {
            "image/png": "[encoded data removed]",
            "text/plain": [
              "<Figure size 1008x864 with 2 Axes>"
            ]
          },
          "metadata": {
            "tags": []
          }
        }
      ]
    },
    {
      "cell_type": "code",
      "metadata": {
        "colab": {
          "base_uri": "https://localhost:8080/",
          "height": 855
        },
        "id": "55a25d66",
        "outputId": "b4b0c7da-05fc-4956-a0f8-bbf1674f5fcc"
      },
      "source": [
        "correlations = pd.DataFrame(X.corr())\n",
        "correlations = pd.DataFrame(correlations['Final-Labels', '<lambda>']).reset_index()\n",
        "correlations.columns = [\"Feature\", \"Correlation with Label\"]\n",
        "correlations = (correlations[correlations[\"Feature\"] != \"'Final-Labels', '<lambda>'\"]\n",
        "                .sort_values(by=\"Correlation with Label\", ascending=True))\n",
        "display(correlations)"
      ],
      "id": "55a25d66",
      "execution_count": null,
      "outputs": [
        {
          "output_type": "display_data",
          "data": {
            "text/html": [
              "<div>\n",
              "<style scoped>\n",
              "    .dataframe tbody tr th:only-of-type {\n",
              "        vertical-align: middle;\n",
              "    }\n",
              "\n",
              "    .dataframe tbody tr th {\n",
              "        vertical-align: top;\n",
              "    }\n",
              "\n",
              "    .dataframe thead th {\n",
              "        text-align: right;\n",
              "    }\n",
              "</style>\n",
              "<table border=\"1\" class=\"dataframe\">\n",
              "  <thead>\n",
              "    <tr style=\"text-align: right;\">\n",
              "      <th></th>\n",
              "      <th>Feature</th>\n",
              "      <th>Correlation with Label</th>\n",
              "    </tr>\n",
              "  </thead>\n",
              "  <tbody>\n",
              "    <tr>\n",
              "      <th>6</th>\n",
              "      <td>(Dport, RU)</td>\n",
              "      <td>-0.097747</td>\n",
              "    </tr>\n",
              "    <tr>\n",
              "      <th>8</th>\n",
              "      <td>(Proto, RU)</td>\n",
              "      <td>-0.092552</td>\n",
              "    </tr>\n",
              "    <tr>\n",
              "      <th>4</th>\n",
              "      <td>(DstAddr, RU)</td>\n",
              "      <td>-0.071466</td>\n",
              "    </tr>\n",
              "    <tr>\n",
              "      <th>11</th>\n",
              "      <td>(Dur, std)</td>\n",
              "      <td>-0.022923</td>\n",
              "    </tr>\n",
              "    <tr>\n",
              "      <th>2</th>\n",
              "      <td>(Sport, RU)</td>\n",
              "      <td>-0.017196</td>\n",
              "    </tr>\n",
              "    <tr>\n",
              "      <th>13</th>\n",
              "      <td>(Dur, median)</td>\n",
              "      <td>-0.011371</td>\n",
              "    </tr>\n",
              "    <tr>\n",
              "      <th>10</th>\n",
              "      <td>(Dur, mean)</td>\n",
              "      <td>-0.010590</td>\n",
              "    </tr>\n",
              "    <tr>\n",
              "      <th>21</th>\n",
              "      <td>(SrcBytes, std)</td>\n",
              "      <td>-0.000702</td>\n",
              "    </tr>\n",
              "    <tr>\n",
              "      <th>12</th>\n",
              "      <td>(Dur, max)</td>\n",
              "      <td>-0.000674</td>\n",
              "    </tr>\n",
              "    <tr>\n",
              "      <th>18</th>\n",
              "      <td>(TotPkts, median)</td>\n",
              "      <td>-0.000111</td>\n",
              "    </tr>\n",
              "    <tr>\n",
              "      <th>16</th>\n",
              "      <td>(TotPkts, std)</td>\n",
              "      <td>-0.000071</td>\n",
              "    </tr>\n",
              "    <tr>\n",
              "      <th>23</th>\n",
              "      <td>(SrcBytes, median)</td>\n",
              "      <td>-0.000047</td>\n",
              "    </tr>\n",
              "    <tr>\n",
              "      <th>20</th>\n",
              "      <td>(SrcBytes, mean)</td>\n",
              "      <td>-0.000017</td>\n",
              "    </tr>\n",
              "    <tr>\n",
              "      <th>22</th>\n",
              "      <td>(SrcBytes, max)</td>\n",
              "      <td>0.000335</td>\n",
              "    </tr>\n",
              "    <tr>\n",
              "      <th>15</th>\n",
              "      <td>(TotPkts, mean)</td>\n",
              "      <td>0.000412</td>\n",
              "    </tr>\n",
              "    <tr>\n",
              "      <th>5</th>\n",
              "      <td>(Dport, nunique)</td>\n",
              "      <td>0.000613</td>\n",
              "    </tr>\n",
              "    <tr>\n",
              "      <th>19</th>\n",
              "      <td>(SrcBytes, sum)</td>\n",
              "      <td>0.000806</td>\n",
              "    </tr>\n",
              "    <tr>\n",
              "      <th>25</th>\n",
              "      <td>window_id</td>\n",
              "      <td>0.001142</td>\n",
              "    </tr>\n",
              "    <tr>\n",
              "      <th>9</th>\n",
              "      <td>(Dur, sum)</td>\n",
              "      <td>0.001270</td>\n",
              "    </tr>\n",
              "    <tr>\n",
              "      <th>17</th>\n",
              "      <td>(TotPkts, max)</td>\n",
              "      <td>0.004850</td>\n",
              "    </tr>\n",
              "    <tr>\n",
              "      <th>14</th>\n",
              "      <td>(TotPkts, sum)</td>\n",
              "      <td>0.007050</td>\n",
              "    </tr>\n",
              "    <tr>\n",
              "      <th>0</th>\n",
              "      <td>counts</td>\n",
              "      <td>0.025563</td>\n",
              "    </tr>\n",
              "    <tr>\n",
              "      <th>3</th>\n",
              "      <td>(DstAddr, nunique)</td>\n",
              "      <td>0.032044</td>\n",
              "    </tr>\n",
              "    <tr>\n",
              "      <th>1</th>\n",
              "      <td>(Sport, nunique)</td>\n",
              "      <td>0.032325</td>\n",
              "    </tr>\n",
              "    <tr>\n",
              "      <th>7</th>\n",
              "      <td>(Proto, nunique)</td>\n",
              "      <td>0.134995</td>\n",
              "    </tr>\n",
              "    <tr>\n",
              "      <th>24</th>\n",
              "      <td>(Final-Labels, &lt;lambda&gt;)</td>\n",
              "      <td>1.000000</td>\n",
              "    </tr>\n",
              "  </tbody>\n",
              "</table>\n",
              "</div>"
            ],
            "text/plain": [
              "                     Feature  Correlation with Label\n",
              "6                (Dport, RU)               -0.097747\n",
              "8                (Proto, RU)               -0.092552\n",
              "4              (DstAddr, RU)               -0.071466\n",
              "11                (Dur, std)               -0.022923\n",
              "2                (Sport, RU)               -0.017196\n",
              "13             (Dur, median)               -0.011371\n",
              "10               (Dur, mean)               -0.010590\n",
              "21           (SrcBytes, std)               -0.000702\n",
              "12                (Dur, max)               -0.000674\n",
              "18         (TotPkts, median)               -0.000111\n",
              "16            (TotPkts, std)               -0.000071\n",
              "23        (SrcBytes, median)               -0.000047\n",
              "20          (SrcBytes, mean)               -0.000017\n",
              "22           (SrcBytes, max)                0.000335\n",
              "15           (TotPkts, mean)                0.000412\n",
              "5           (Dport, nunique)                0.000613\n",
              "19           (SrcBytes, sum)                0.000806\n",
              "25                 window_id                0.001142\n",
              "9                 (Dur, sum)                0.001270\n",
              "17            (TotPkts, max)                0.004850\n",
              "14            (TotPkts, sum)                0.007050\n",
              "0                     counts                0.025563\n",
              "3         (DstAddr, nunique)                0.032044\n",
              "1           (Sport, nunique)                0.032325\n",
              "7           (Proto, nunique)                0.134995\n",
              "24  (Final-Labels, <lambda>)                1.000000"
            ]
          },
          "metadata": {
            "tags": []
          }
        }
      ]
    },
    {
      "cell_type": "markdown",
      "source": [
        "Code for sequential Feature Selector using RF"
      ],
      "metadata": {
        "id": "7mY_aELoOHj0"
      },
      "id": "7mY_aELoOHj0"
    },
    {
      "cell_type": "code",
      "metadata": {
        "id": "ab83693c"
      },
      "source": [
        "feature_selector = SequentialFeatureSelector(RandomForestClassifier(n_jobs=-1),\n",
        "           k_features=15,\n",
        "           forward=False,\n",
        "           verbose=2,\n",
        "           scoring='roc_auc',\n",
        "           cv=4)\n"
      ],
      "id": "ab83693c",
      "execution_count": null,
      "outputs": []
    },
    {
      "cell_type": "code",
      "metadata": {
        "id": "fMFJGBzTbBh7"
      },
      "source": [
        "y = X['Final-Labels', '<lambda>']"
      ],
      "id": "fMFJGBzTbBh7",
      "execution_count": null,
      "outputs": []
    },
    {
      "cell_type": "code",
      "metadata": {
        "id": "Dlsi9lWUgGla"
      },
      "source": [
        "X1 = X.iloc[:,2:23]"
      ],
      "id": "Dlsi9lWUgGla",
      "execution_count": null,
      "outputs": []
    },
    {
      "cell_type": "code",
      "metadata": {
        "id": "90271ed6"
      },
      "source": [
        "X.drop(['Final-Labels', '<lambda>'],inplace=True,axis=1)\n",
        "#X1 = X.iloc[:,1:25]"
      ],
      "id": "90271ed6",
      "execution_count": null,
      "outputs": []
    },
    {
      "cell_type": "code",
      "metadata": {
        "id": "q7m1xW8Dwhhz"
      },
      "source": [
        "features = feature_selector.fit(X.fillna(0), y)\n",
        "filtered_features= X.columns[list(features.k_feature_idx_)]\n",
        "filtered_features"
      ],
      "id": "q7m1xW8Dwhhz",
      "execution_count": null,
      "outputs": []
    },
    {
      "cell_type": "markdown",
      "metadata": {
        "id": "edcb1569"
      },
      "source": [
        "# Training model"
      ],
      "id": "edcb1569"
    },
    {
      "cell_type": "code",
      "metadata": {
        "id": "01ad3a09"
      },
      "source": [
        "X_train, X_valid, y_train, y_valid = train_test_split(X1, y, test_size=0.1, random_state=1)"
      ],
      "id": "01ad3a09",
      "execution_count": null,
      "outputs": []
    },
    {
      "cell_type": "code",
      "metadata": {
        "id": "7d82b5dd"
      },
      "source": [
        "from sklearn.metrics import accuracy_score\n",
        "def fit_evaluate_model(model, X_train, y_train, X_valid, Y_valid):\n",
        "    model.fit(X_train, y_train)\n",
        "    y_predicted = model.predict(X_valid)\n",
        "    return accuracy_score(y_valid, y_predicted),y_predicted"
      ],
      "id": "7d82b5dd",
      "execution_count": null,
      "outputs": []
    },
    {
      "cell_type": "code",
      "metadata": {
        "colab": {
          "base_uri": "https://localhost:8080/"
        },
        "id": "4b597885",
        "outputId": "49632329-7a81-4bb2-810b-986765f329a6"
      },
      "source": [
        "rf_classifier = RandomForestClassifier()\n",
        "rf_accuracy,y_predicted = fit_evaluate_model(rf_classifier, X_train, y_train, X_valid, y_valid)\n",
        "print(\"Number of correct predictions made out of all predictions are:\", rf_accuracy)"
      ],
      "id": "4b597885",
      "execution_count": null,
      "outputs": [
        {
          "output_type": "stream",
          "name": "stderr",
          "text": [
            "/usr/local/lib/python3.7/dist-packages/sklearn/utils/validation.py:1692: FutureWarning: Feature names only support names that are all strings. Got feature names with dtypes: ['tuple']. An error will be raised in 1.2.\n",
            "  FutureWarning,\n",
            "/usr/local/lib/python3.7/dist-packages/sklearn/utils/validation.py:1692: FutureWarning: Feature names only support names that are all strings. Got feature names with dtypes: ['tuple']. An error will be raised in 1.2.\n",
            "  FutureWarning,\n"
          ]
        },
        {
          "output_type": "stream",
          "name": "stdout",
          "text": [
            "Number of correct predictions made out of all predictions are: 0.99983382288214\n"
          ]
        }
      ]
    },
    {
      "cell_type": "markdown",
      "source": [
        "Confusion Matrix and Classification Report for Random Forest "
      ],
      "metadata": {
        "id": "4CLdQYDKX8wz"
      },
      "id": "4CLdQYDKX8wz"
    },
    {
      "cell_type": "code",
      "metadata": {
        "colab": {
          "base_uri": "https://localhost:8080/"
        },
        "id": "d_3Rd9Pe5caW",
        "outputId": "f5e8f2f1-a093-4a23-d3a9-f6d2c6385a84"
      },
      "source": [
        "print('Confusion Matrix')\n",
        "print(confusion_matrix(y_valid, y_predicted))\n",
        "print('Classification Report')\n",
        "target_names = ['Background','Botnet','Foreground']\n",
        "print(classification_report(y_valid, y_predicted, target_names=target_names))"
      ],
      "id": "d_3Rd9Pe5caW",
      "execution_count": null,
      "outputs": [
        {
          "output_type": "stream",
          "name": "stdout",
          "text": [
            "Confusion Matrix\n",
            "[[222520      0      5]\n",
            " [     2     27      0]\n",
            " [    30      0     70]]\n",
            "Classification Report\n",
            "              precision    recall  f1-score   support\n",
            "\n",
            "  Background       1.00      1.00      1.00    222525\n",
            "      Botnet       1.00      0.93      0.96        29\n",
            "  Foreground       0.93      0.70      0.80       100\n",
            "\n",
            "    accuracy                           1.00    222654\n",
            "   macro avg       0.98      0.88      0.92    222654\n",
            "weighted avg       1.00      1.00      1.00    222654\n",
            "\n"
          ]
        }
      ]
    },
    {
      "cell_type": "markdown",
      "source": [
        "Saving model parameters in a pickle file"
      ],
      "metadata": {
        "id": "MnThv6zhOUtx"
      },
      "id": "MnThv6zhOUtx"
    },
    {
      "cell_type": "code",
      "source": [
        "import pickle\n",
        "filename = 'model_smalltest.sav'\n",
        "pickle.dump(rf_classifier, open(filename, 'wb'))"
      ],
      "metadata": {
        "id": "w46JOhrYeupv"
      },
      "id": "w46JOhrYeupv",
      "execution_count": null,
      "outputs": []
    },
    {
      "cell_type": "code",
      "source": [
        "loaded_model = pickle.load(open(filename, 'rb'))\n",
        "y_pickle_pred_small = loaded_model.predict(X_valid)"
      ],
      "metadata": {
        "colab": {
          "base_uri": "https://localhost:8080/"
        },
        "id": "AwrSBR5KfRUo",
        "outputId": "0554a71c-2bab-48cc-ec42-824d07ec6351"
      },
      "id": "AwrSBR5KfRUo",
      "execution_count": null,
      "outputs": [
        {
          "output_type": "stream",
          "name": "stderr",
          "text": [
            "/usr/local/lib/python3.7/dist-packages/sklearn/utils/validation.py:1692: FutureWarning: Feature names only support names that are all strings. Got feature names with dtypes: ['tuple']. An error will be raised in 1.2.\n",
            "  FutureWarning,\n"
          ]
        }
      ]
    },
    {
      "cell_type": "code",
      "source": [
        "print_results(y_valid,y_pickle_pred_small)"
      ],
      "metadata": {
        "colab": {
          "base_uri": "https://localhost:8080/"
        },
        "id": "V_gNfFAop8vZ",
        "outputId": "d4c5b494-073c-4794-ed87-e0be423686a6"
      },
      "id": "V_gNfFAop8vZ",
      "execution_count": null,
      "outputs": [
        {
          "output_type": "stream",
          "name": "stdout",
          "text": [
            "Confusion Matrix\n",
            "[[222520      2     30]\n",
            " [     0     27      0]\n",
            " [     5      0     70]]\n",
            "              precision    recall  f1-score   support\n",
            "\n",
            "  Background       1.00      1.00      1.00    222552\n",
            "      Botnet       0.93      1.00      0.96        27\n",
            "  Foreground       0.70      0.93      0.80        75\n",
            "\n",
            "    accuracy                           1.00    222654\n",
            "   macro avg       0.88      0.98      0.92    222654\n",
            "weighted avg       1.00      1.00      1.00    222654\n",
            "\n"
          ]
        }
      ]
    },
    {
      "cell_type": "markdown",
      "metadata": {
        "id": "5BCMKPKMfKG1"
      },
      "source": [
        "Model trained with class weights"
      ],
      "id": "5BCMKPKMfKG1"
    },
    {
      "cell_type": "code",
      "metadata": {
        "colab": {
          "base_uri": "https://localhost:8080/"
        },
        "id": "pYb-PP7bdNoW",
        "outputId": "0ba350b7-54df-4c24-dd34-1d279c413b22"
      },
      "source": [
        "model = RandomForestClassifier(n_estimators=10, class_weight='balanced_subsample')\n",
        "rf_accuracy,y_predicted = fit_evaluate_model(model, X_train, y_train, X_valid, y_valid)\n",
        "print(\"Number of correct predictions made out of all predictions are:\", rf_accuracy)\n"
      ],
      "id": "pYb-PP7bdNoW",
      "execution_count": null,
      "outputs": [
        {
          "output_type": "stream",
          "text": [
            "Number of correct predictions made out of all predictions are: 0.9995126957357509\n"
          ],
          "name": "stdout"
        }
      ]
    },
    {
      "cell_type": "code",
      "metadata": {
        "colab": {
          "base_uri": "https://localhost:8080/"
        },
        "id": "1d42bed6",
        "outputId": "6ce74fbf-ab54-4866-ea6c-2ee81203a887"
      },
      "source": [
        "#predicted values\n",
        "(unique, counts) = np.unique(y_predicted, return_counts=True)\n",
        "frequencies = np.asarray((unique, counts)).T\n",
        "frequencies"
      ],
      "id": "1d42bed6",
      "execution_count": null,
      "outputs": [
        {
          "output_type": "execute_result",
          "data": {
            "text/plain": [
              "array([[     0, 445091],\n",
              "       [     1,     49],\n",
              "       [     2,    167]])"
            ]
          },
          "metadata": {
            "tags": []
          },
          "execution_count": 51
        }
      ]
    },
    {
      "cell_type": "code",
      "metadata": {
        "colab": {
          "base_uri": "https://localhost:8080/"
        },
        "id": "e0005ae2",
        "outputId": "498958f2-5ad0-4625-8c7b-1142ce111945"
      },
      "source": [
        "#actual values\n",
        "(unique, counts) = np.unique(y_valid, return_counts=True)\n",
        "frequencies = np.asarray((unique, counts)).T\n",
        "frequencies"
      ],
      "id": "e0005ae2",
      "execution_count": null,
      "outputs": [
        {
          "output_type": "execute_result",
          "data": {
            "text/plain": [
              "array([[     0, 445045],\n",
              "       [     1,     52],\n",
              "       [     2,    210]])"
            ]
          },
          "metadata": {
            "tags": []
          },
          "execution_count": 52
        }
      ]
    },
    {
      "cell_type": "markdown",
      "metadata": {
        "id": "tSKIdTLCBBwL"
      },
      "source": [
        "Random Undersampling"
      ],
      "id": "tSKIdTLCBBwL"
    },
    {
      "cell_type": "code",
      "metadata": {
        "colab": {
          "base_uri": "https://localhost:8080/"
        },
        "id": "YkGDGTnEwast",
        "outputId": "4ab632c0-7675-45b1-bc43-ca4c475d7a80"
      },
      "source": [
        "import imblearn\n",
        "from imblearn.under_sampling import RandomUnderSampler\n",
        "undersample = RandomUnderSampler(sampling_strategy='majority')\n"
      ],
      "id": "YkGDGTnEwast",
      "execution_count": null,
      "outputs": [
        {
          "output_type": "stream",
          "text": [
            "/usr/local/lib/python3.7/dist-packages/sklearn/externals/six.py:31: FutureWarning: The module is deprecated in version 0.21 and will be removed in version 0.23 since we've dropped support for Python 2.7. Please rely on the official version of six (https://pypi.org/project/six/).\n",
            "  \"(https://pypi.org/project/six/).\", FutureWarning)\n",
            "/usr/local/lib/python3.7/dist-packages/sklearn/utils/deprecation.py:144: FutureWarning: The sklearn.neighbors.base module is  deprecated in version 0.22 and will be removed in version 0.24. The corresponding classes / functions should instead be imported from sklearn.neighbors. Anything that cannot be imported from sklearn.neighbors is now part of the private API.\n",
            "  warnings.warn(message, FutureWarning)\n"
          ],
          "name": "stderr"
        }
      ]
    },
    {
      "cell_type": "code",
      "metadata": {
        "colab": {
          "base_uri": "https://localhost:8080/"
        },
        "id": "q1g1TkJ3yrlq",
        "outputId": "03616a3e-bd3e-4e03-e981-68f35dcac061"
      },
      "source": [
        "X_over, y_over = undersample.fit_resample(X_train, y_train)"
      ],
      "id": "q1g1TkJ3yrlq",
      "execution_count": null,
      "outputs": [
        {
          "output_type": "stream",
          "text": [
            "/usr/local/lib/python3.7/dist-packages/sklearn/utils/deprecation.py:87: FutureWarning: Function safe_indexing is deprecated; safe_indexing is deprecated in version 0.22 and will be removed in version 0.24.\n",
            "  warnings.warn(msg, category=FutureWarning)\n"
          ],
          "name": "stderr"
        }
      ]
    },
    {
      "cell_type": "code",
      "metadata": {
        "colab": {
          "base_uri": "https://localhost:8080/"
        },
        "id": "vv4h-7Fcy5fj",
        "outputId": "56f2bd71-00aa-4771-828d-3d99accae370"
      },
      "source": [
        "from collections import Counter\n",
        "print(Counter(y_over))"
      ],
      "id": "vv4h-7Fcy5fj",
      "execution_count": null,
      "outputs": [
        {
          "output_type": "stream",
          "text": [
            "Counter({2: 822, 0: 234, 1: 234})\n"
          ],
          "name": "stdout"
        }
      ]
    },
    {
      "cell_type": "code",
      "metadata": {
        "colab": {
          "base_uri": "https://localhost:8080/"
        },
        "id": "vuqK2mL_zetX",
        "outputId": "db5ff9e4-1788-4cc5-8648-804ae84852f0"
      },
      "source": [
        "from imblearn.pipeline import Pipeline\n",
        "from sklearn.model_selection import RepeatedStratifiedKFold\n",
        "from sklearn.model_selection import cross_val_score\n",
        "from numpy import mean\n",
        "\n",
        "steps = [('under', RandomUnderSampler()), ('model', RandomForestClassifier())]\n",
        "pipeline = Pipeline(steps=steps)\n",
        "# evaluate pipeline\n",
        "cv = RepeatedStratifiedKFold(n_splits=10, n_repeats=3, random_state=1)\n",
        "scores = cross_val_score(pipeline, X_train, y_train, scoring='f1_micro', cv=cv, n_jobs=-1)\n",
        "score = mean(scores)\n",
        "print('F1 Score: %.3f' % score)"
      ],
      "id": "vuqK2mL_zetX",
      "execution_count": null,
      "outputs": [
        {
          "output_type": "stream",
          "text": [
            "F1 Score: 0.948\n"
          ],
          "name": "stdout"
        }
      ]
    },
    {
      "cell_type": "markdown",
      "metadata": {
        "id": "GG7tUuhQdent"
      },
      "source": [
        "Parameter tuning for random trees"
      ],
      "id": "GG7tUuhQdent"
    },
    {
      "cell_type": "code",
      "metadata": {
        "id": "FQUWq-9UdjAG"
      },
      "source": [
        "n_estimators = [50, 100, 300, 500, 1000]\n",
        "\n",
        "# The minimum number of samples required to be at a leaf node, default value is 1.\n",
        "min_samples_leaf = [1, 2, 4, 6, 8]\n",
        "\n",
        "# The number of features to consider when looking for the best split, default value is auto.\n",
        "max_features = ['auto', 'sqrt', 'log2', None] \n",
        "\n",
        "# Define the grid of hyperparameters to search\n",
        "hyperparameter_grid = {'n_estimators': n_estimators,\n",
        "                       'min_samples_leaf': min_samples_leaf,\n",
        "                       'max_features': max_features}"
      ],
      "id": "FQUWq-9UdjAG",
      "execution_count": null,
      "outputs": []
    },
    {
      "cell_type": "code",
      "metadata": {
        "colab": {
          "background_save": true,
          "base_uri": "https://localhost:8080/"
        },
        "id": "dqXoLipWdvO7",
        "outputId": "c597976b-e1c0-484f-be94-331630dd7e31"
      },
      "source": [
        "from sklearn.model_selection import RandomizedSearchCV\n",
        "tuned_model = RandomForestClassifier()\n",
        "\n",
        "# create Randomized search object\n",
        "random_cv = RandomizedSearchCV(estimator=tuned_model,\n",
        "                               param_distributions=hyperparameter_grid,\n",
        "                               cv=5, n_iter=20, \n",
        "                               scoring = 'accuracy',\n",
        "                               n_jobs = -1, verbose = 1, \n",
        "                               return_train_score = True, \n",
        "                               )\n",
        "random_cv.fit(X_train, y_train)"
      ],
      "id": "dqXoLipWdvO7",
      "execution_count": null,
      "outputs": [
        {
          "output_type": "stream",
          "text": [
            "Fitting 5 folds for each of 20 candidates, totalling 100 fits\n"
          ],
          "name": "stdout"
        },
        {
          "output_type": "stream",
          "text": [
            "[Parallel(n_jobs=-1)]: Using backend LokyBackend with 2 concurrent workers.\n"
          ],
          "name": "stderr"
        }
      ]
    },
    {
      "cell_type": "code",
      "metadata": {
        "id": "79leRQwIebJy"
      },
      "source": [
        "random_cv.best_estimator_"
      ],
      "id": "79leRQwIebJy",
      "execution_count": null,
      "outputs": []
    },
    {
      "cell_type": "code",
      "metadata": {
        "id": "_LKvw4uGechn"
      },
      "source": [
        "random_forest_tuned = "
      ],
      "id": "_LKvw4uGechn",
      "execution_count": null,
      "outputs": []
    },
    {
      "cell_type": "code",
      "metadata": {
        "id": "d1068d5a",
        "outputId": "11722bb8-5a2c-407e-be23-eb24f0360a74"
      },
      "source": [
        "xrf_classifier = ExtraTreesClassifier()\n",
        "xrf_accuracy = fit_evaluate_model(xrf_classifier, X_train, y_train, X_valid, y_valid)\n",
        "print(\"Number of correct predictions made out of all predictions are:\", xrf_accuracy)"
      ],
      "id": "d1068d5a",
      "execution_count": null,
      "outputs": [
        {
          "output_type": "stream",
          "text": [
            "Number of correct predictions made out of all predictions are: (0.9998113660912584, array([0, 0, 0, ..., 0, 0, 0]))\n"
          ],
          "name": "stdout"
        }
      ]
    },
    {
      "cell_type": "markdown",
      "metadata": {
        "id": "UEFFrxDN34cN"
      },
      "source": [
        "**XGB **"
      ],
      "id": "UEFFrxDN34cN"
    },
    {
      "cell_type": "code",
      "metadata": {
        "colab": {
          "base_uri": "https://localhost:8080/"
        },
        "id": "Sz1kQs5VgUh2",
        "outputId": "a3ce9788-b8f2-47c8-f492-2df6a837ebc8"
      },
      "source": [
        "\n",
        "xgb_classifier = XGBClassifier()\n",
        "xgb_accuracy,y_predicted = fit_evaluate_model(xgb_classifier, X_train, y_train, X_valid, y_valid)\n",
        "print(\"Number of correct predictions made out of all predictions are:\", xgb_accuracy)"
      ],
      "id": "Sz1kQs5VgUh2",
      "execution_count": null,
      "outputs": [
        {
          "output_type": "stream",
          "text": [
            "Number of correct predictions made out of all predictions are: 0.9996811188685558\n"
          ],
          "name": "stdout"
        }
      ]
    },
    {
      "cell_type": "code",
      "metadata": {
        "colab": {
          "base_uri": "https://localhost:8080/"
        },
        "id": "Y_Wb6vOti0KS",
        "outputId": "5eb32154-ef77-4041-c6bf-05dd93801928"
      },
      "source": [
        "print('Confusion Matrix')\n",
        "print(confusion_matrix(y_valid, y_predicted))\n",
        "print('Classification Report')\n",
        "target_names = ['Background','Botnet','Normal']\n",
        "print(classification_report(y_valid, y_predicted, target_names=target_names))"
      ],
      "id": "Y_Wb6vOti0KS",
      "execution_count": null,
      "outputs": [
        {
          "output_type": "stream",
          "text": [
            "Confusion Matrix\n",
            "[[445029      0     16]\n",
            " [     1     51      0]\n",
            " [   125      0     85]]\n",
            "Classification Report\n",
            "              precision    recall  f1-score   support\n",
            "\n",
            "  Background       1.00      1.00      1.00    445045\n",
            "      Botnet       1.00      0.98      0.99        52\n",
            "      Normal       0.84      0.40      0.55       210\n",
            "\n",
            "    accuracy                           1.00    445307\n",
            "   macro avg       0.95      0.80      0.85    445307\n",
            "weighted avg       1.00      1.00      1.00    445307\n",
            "\n"
          ],
          "name": "stdout"
        }
      ]
    },
    {
      "cell_type": "code",
      "metadata": {
        "colab": {
          "base_uri": "https://localhost:8080/"
        },
        "id": "uVp2u28B5ZyY",
        "outputId": "e732bd54-cd21-4532-c1fa-d8ea5d69fea0"
      },
      "source": [
        "#predicted values\n",
        "(unique, counts) = np.unique(y_predicted, return_counts=True)\n",
        "frequencies = np.asarray((unique, counts)).T\n",
        "frequencies"
      ],
      "id": "uVp2u28B5ZyY",
      "execution_count": null,
      "outputs": [
        {
          "output_type": "execute_result",
          "data": {
            "text/plain": [
              "array([[     0, 445155],\n",
              "       [     1,     51],\n",
              "       [     2,    101]])"
            ]
          },
          "metadata": {
            "tags": []
          },
          "execution_count": 114
        }
      ]
    },
    {
      "cell_type": "code",
      "metadata": {
        "colab": {
          "base_uri": "https://localhost:8080/"
        },
        "id": "zSvxeS1g5eus",
        "outputId": "d2ac32c1-e4dc-4eda-9e19-f21ece34386b"
      },
      "source": [
        "xgb_classifier = XGBClassifier(class_weight='balanced_subsample')\n",
        "xgb_accuracy,y_predicted = fit_evaluate_model(xgb_classifier, X_train, y_train, X_valid, y_valid)\n",
        "print(\"Number of correct predictions made out of all predictions are:\", xgb_accuracy)"
      ],
      "id": "zSvxeS1g5eus",
      "execution_count": null,
      "outputs": [
        {
          "output_type": "stream",
          "text": [
            "Number of correct predictions made out of all predictions are: 0.9996811188685558\n"
          ],
          "name": "stdout"
        }
      ]
    },
    {
      "cell_type": "code",
      "metadata": {
        "colab": {
          "base_uri": "https://localhost:8080/"
        },
        "id": "001Au-bW9G3Y",
        "outputId": "fc43d55d-8d3f-4ab5-e927-18919b6bb2e4"
      },
      "source": [
        "print('Confusion Matrix')\n",
        "print(confusion_matrix(y_valid, y_predicted))\n",
        "print('Classification Report')\n",
        "target_names = ['Background','Botnet','Normal']\n",
        "print(classification_report(y_valid, y_predicted, target_names=target_names))"
      ],
      "id": "001Au-bW9G3Y",
      "execution_count": null,
      "outputs": [
        {
          "output_type": "stream",
          "text": [
            "Confusion Matrix\n",
            "[[445029      0     16]\n",
            " [     1     51      0]\n",
            " [   125      0     85]]\n",
            "Classification Report\n",
            "              precision    recall  f1-score   support\n",
            "\n",
            "  Background       1.00      1.00      1.00    445045\n",
            "      Botnet       1.00      0.98      0.99        52\n",
            "      Normal       0.84      0.40      0.55       210\n",
            "\n",
            "    accuracy                           1.00    445307\n",
            "   macro avg       0.95      0.80      0.85    445307\n",
            "weighted avg       1.00      1.00      1.00    445307\n",
            "\n"
          ],
          "name": "stdout"
        }
      ]
    },
    {
      "cell_type": "markdown",
      "metadata": {
        "id": "jlMFYy4A4AAQ"
      },
      "source": [
        "XGB **tuning**"
      ],
      "id": "jlMFYy4A4AAQ"
    },
    {
      "cell_type": "code",
      "metadata": {
        "colab": {
          "background_save": true,
          "base_uri": "https://localhost:8080/"
        },
        "id": "pyoizZrn4DOX",
        "outputId": "821444e4-401e-4b2d-87b4-dd563dd18d13"
      },
      "source": [
        "param_tuning = {\n",
        "        'learning_rate': [0.01, 0.1],\n",
        "        'max_depth': [3, 5, 7, 10],\n",
        "        'min_child_weight': [1, 3, 5],\n",
        "        'n_estimators' : [100, 200, 500],\n",
        "    }\n",
        "xgb_model = XGBClassifier()\n",
        "\n",
        "gsearch = GridSearchCV(estimator = xgb_model,\n",
        "                        param_grid = param_tuning,                        \n",
        "                        cv = 5,\n",
        "                        scoring = 'accuracy',\n",
        "                        n_jobs = -1,\n",
        "                        return_train_score = True, \n",
        "                        verbose = 1)\n",
        "\n",
        "gsearch.fit(X_train,y_train)"
      ],
      "id": "pyoizZrn4DOX",
      "execution_count": null,
      "outputs": [
        {
          "output_type": "stream",
          "text": [
            "Fitting 5 folds for each of 72 candidates, totalling 360 fits\n"
          ],
          "name": "stdout"
        },
        {
          "output_type": "stream",
          "text": [
            "[Parallel(n_jobs=-1)]: Using backend LokyBackend with 2 concurrent workers.\n"
          ],
          "name": "stderr"
        }
      ]
    },
    {
      "cell_type": "code",
      "metadata": {
        "id": "r5Arkwy9OLTs"
      },
      "source": [
        "X_train.shape"
      ],
      "id": "r5Arkwy9OLTs",
      "execution_count": null,
      "outputs": []
    },
    {
      "cell_type": "markdown",
      "source": [
        "Features importance after training "
      ],
      "metadata": {
        "id": "XfMpYinbPLGo"
      },
      "id": "XfMpYinbPLGo"
    },
    {
      "cell_type": "code",
      "metadata": {
        "id": "3e81251f",
        "outputId": "7248f617-3189-4b44-e24a-c3a7f6cee175"
      },
      "source": [
        "features = list(X_train.columns)\n",
        "\n",
        "# Extract the feature importances into a dataframe\n",
        "feature_results = pd.DataFrame({'feature': features, \n",
        "                                'importance': xrf_classifier.feature_importances_})\n",
        "\n",
        "# Show the top 10 most important\n",
        "feature_results = feature_results.sort_values('importance', ascending = False).reset_index(drop=True)\n",
        "feature_results.head(10)"
      ],
      "id": "3e81251f",
      "execution_count": null,
      "outputs": [
        {
          "output_type": "execute_result",
          "data": {
            "text/html": [
              "<div>\n",
              "<style scoped>\n",
              "    .dataframe tbody tr th:only-of-type {\n",
              "        vertical-align: middle;\n",
              "    }\n",
              "\n",
              "    .dataframe tbody tr th {\n",
              "        vertical-align: top;\n",
              "    }\n",
              "\n",
              "    .dataframe thead th {\n",
              "        text-align: right;\n",
              "    }\n",
              "</style>\n",
              "<table border=\"1\" class=\"dataframe\">\n",
              "  <thead>\n",
              "    <tr style=\"text-align: right;\">\n",
              "      <th></th>\n",
              "      <th>feature</th>\n",
              "      <th>importance</th>\n",
              "    </tr>\n",
              "  </thead>\n",
              "  <tbody>\n",
              "    <tr>\n",
              "      <th>0</th>\n",
              "      <td>(Dur, max)</td>\n",
              "      <td>0.064229</td>\n",
              "    </tr>\n",
              "    <tr>\n",
              "      <th>1</th>\n",
              "      <td>(SrcBytes, mean)</td>\n",
              "      <td>0.060402</td>\n",
              "    </tr>\n",
              "    <tr>\n",
              "      <th>2</th>\n",
              "      <td>(DstAddr, RU)</td>\n",
              "      <td>0.059775</td>\n",
              "    </tr>\n",
              "    <tr>\n",
              "      <th>3</th>\n",
              "      <td>(DstAddr, nunique)</td>\n",
              "      <td>0.058967</td>\n",
              "    </tr>\n",
              "    <tr>\n",
              "      <th>4</th>\n",
              "      <td>(SrcBytes, max)</td>\n",
              "      <td>0.055724</td>\n",
              "    </tr>\n",
              "    <tr>\n",
              "      <th>5</th>\n",
              "      <td>(SrcBytes, sum)</td>\n",
              "      <td>0.052622</td>\n",
              "    </tr>\n",
              "    <tr>\n",
              "      <th>6</th>\n",
              "      <td>(Sport, nunique)</td>\n",
              "      <td>0.052213</td>\n",
              "    </tr>\n",
              "    <tr>\n",
              "      <th>7</th>\n",
              "      <td>(Dur, median)</td>\n",
              "      <td>0.050590</td>\n",
              "    </tr>\n",
              "    <tr>\n",
              "      <th>8</th>\n",
              "      <td>(Proto, RU)</td>\n",
              "      <td>0.049814</td>\n",
              "    </tr>\n",
              "    <tr>\n",
              "      <th>9</th>\n",
              "      <td>(Dur, mean)</td>\n",
              "      <td>0.049399</td>\n",
              "    </tr>\n",
              "  </tbody>\n",
              "</table>\n",
              "</div>"
            ],
            "text/plain": [
              "              feature  importance\n",
              "0          (Dur, max)    0.064229\n",
              "1    (SrcBytes, mean)    0.060402\n",
              "2       (DstAddr, RU)    0.059775\n",
              "3  (DstAddr, nunique)    0.058967\n",
              "4     (SrcBytes, max)    0.055724\n",
              "5     (SrcBytes, sum)    0.052622\n",
              "6    (Sport, nunique)    0.052213\n",
              "7       (Dur, median)    0.050590\n",
              "8         (Proto, RU)    0.049814\n",
              "9         (Dur, mean)    0.049399"
            ]
          },
          "metadata": {
            "tags": []
          },
          "execution_count": 92
        }
      ]
    },
    {
      "cell_type": "markdown",
      "metadata": {
        "id": "nRM44l49PLmp"
      },
      "source": [
        "# Testing model with a different dataset of botnets - Rbot and Virut"
      ],
      "id": "nRM44l49PLmp"
    },
    {
      "cell_type": "code",
      "metadata": {
        "id": "x9Nff3buPT4f"
      },
      "source": [
        "data = pd.read_csv('/content/drive/MyDrive/netflow_botnet/malware3.csv')"
      ],
      "id": "x9Nff3buPT4f",
      "execution_count": null,
      "outputs": []
    },
    {
      "cell_type": "code",
      "metadata": {
        "id": "eDKgVigumrGA"
      },
      "source": [
        "data2 = pd.read_csv('/content/drive/MyDrive/netflow_botnet/malware43.csv')"
      ],
      "id": "eDKgVigumrGA",
      "execution_count": null,
      "outputs": []
    },
    {
      "cell_type": "code",
      "metadata": {
        "colab": {
          "base_uri": "https://localhost:8080/"
        },
        "id": "JyHD_Lk_dDjB",
        "outputId": "da6daa79-208a-4dd6-e3db-a1f1cd1d44b7"
      },
      "source": [
        "data.shape"
      ],
      "id": "JyHD_Lk_dDjB",
      "execution_count": null,
      "outputs": [
        {
          "output_type": "execute_result",
          "data": {
            "text/plain": [
              "(4710638, 15)"
            ]
          },
          "metadata": {
            "tags": []
          },
          "execution_count": 84
        }
      ]
    },
    {
      "cell_type": "code",
      "metadata": {
        "id": "4p6lNAwLPoNh"
      },
      "source": [
        "test_df = data.iloc[:,:]"
      ],
      "id": "4p6lNAwLPoNh",
      "execution_count": null,
      "outputs": []
    },
    {
      "cell_type": "code",
      "metadata": {
        "id": "gCtGDmUFyBwX"
      },
      "source": [
        "test_df2 = data2.iloc[:,:]"
      ],
      "id": "gCtGDmUFyBwX",
      "execution_count": null,
      "outputs": []
    },
    {
      "cell_type": "code",
      "metadata": {
        "colab": {
          "base_uri": "https://localhost:8080/",
          "height": 204
        },
        "id": "nCoT6YHpRvdv",
        "outputId": "36a05ce6-9fee-43a8-e79d-28c9dfaaefbf"
      },
      "source": [
        "test_df.head()"
      ],
      "id": "nCoT6YHpRvdv",
      "execution_count": null,
      "outputs": [
        {
          "output_type": "execute_result",
          "data": {
            "text/html": [
              "<div>\n",
              "<style scoped>\n",
              "    .dataframe tbody tr th:only-of-type {\n",
              "        vertical-align: middle;\n",
              "    }\n",
              "\n",
              "    .dataframe tbody tr th {\n",
              "        vertical-align: top;\n",
              "    }\n",
              "\n",
              "    .dataframe thead th {\n",
              "        text-align: right;\n",
              "    }\n",
              "</style>\n",
              "<table border=\"1\" class=\"dataframe\">\n",
              "  <thead>\n",
              "    <tr style=\"text-align: right;\">\n",
              "      <th></th>\n",
              "      <th>StartTime</th>\n",
              "      <th>Dur</th>\n",
              "      <th>Proto</th>\n",
              "      <th>SrcAddr</th>\n",
              "      <th>Sport</th>\n",
              "      <th>Dir</th>\n",
              "      <th>DstAddr</th>\n",
              "      <th>Dport</th>\n",
              "      <th>State</th>\n",
              "      <th>sTos</th>\n",
              "      <th>dTos</th>\n",
              "      <th>TotPkts</th>\n",
              "      <th>TotBytes</th>\n",
              "      <th>SrcBytes</th>\n",
              "      <th>Label</th>\n",
              "    </tr>\n",
              "  </thead>\n",
              "  <tbody>\n",
              "    <tr>\n",
              "      <th>0</th>\n",
              "      <td>2011/08/12 15:24:01.105063</td>\n",
              "      <td>75.532112</td>\n",
              "      <td>tcp</td>\n",
              "      <td>74.125.108.243</td>\n",
              "      <td>80</td>\n",
              "      <td>&lt;?&gt;</td>\n",
              "      <td>147.32.86.187</td>\n",
              "      <td>55707</td>\n",
              "      <td>FPA_FA</td>\n",
              "      <td>0.0</td>\n",
              "      <td>0.0</td>\n",
              "      <td>8107.0</td>\n",
              "      <td>1.009640e+07</td>\n",
              "      <td>10005608.0</td>\n",
              "      <td>flow=Background</td>\n",
              "    </tr>\n",
              "    <tr>\n",
              "      <th>1</th>\n",
              "      <td>2011/08/12 15:24:01.105402</td>\n",
              "      <td>6.650236</td>\n",
              "      <td>tcp</td>\n",
              "      <td>147.32.84.164</td>\n",
              "      <td>22</td>\n",
              "      <td>&lt;?&gt;</td>\n",
              "      <td>83.208.193.123</td>\n",
              "      <td>15173</td>\n",
              "      <td>FPA_FPA</td>\n",
              "      <td>0.0</td>\n",
              "      <td>0.0</td>\n",
              "      <td>33.0</td>\n",
              "      <td>3.218000e+03</td>\n",
              "      <td>1532.0</td>\n",
              "      <td>flow=From-Normal-V44-Grill</td>\n",
              "    </tr>\n",
              "    <tr>\n",
              "      <th>2</th>\n",
              "      <td>2011/08/12 15:24:01.106568</td>\n",
              "      <td>3599.641602</td>\n",
              "      <td>tcp</td>\n",
              "      <td>217.168.211.184</td>\n",
              "      <td>3953</td>\n",
              "      <td>&lt;?&gt;</td>\n",
              "      <td>147.32.84.14</td>\n",
              "      <td>22</td>\n",
              "      <td>PA_PA</td>\n",
              "      <td>0.0</td>\n",
              "      <td>0.0</td>\n",
              "      <td>1604343.0</td>\n",
              "      <td>1.585303e+09</td>\n",
              "      <td>38328160.0</td>\n",
              "      <td>flow=Background</td>\n",
              "    </tr>\n",
              "    <tr>\n",
              "      <th>3</th>\n",
              "      <td>2011/08/12 15:24:01.113763</td>\n",
              "      <td>1341.314453</td>\n",
              "      <td>udp</td>\n",
              "      <td>173.9.132.155</td>\n",
              "      <td>54369</td>\n",
              "      <td>&lt;-&gt;</td>\n",
              "      <td>147.32.84.59</td>\n",
              "      <td>15046</td>\n",
              "      <td>CON</td>\n",
              "      <td>0.0</td>\n",
              "      <td>0.0</td>\n",
              "      <td>284072.0</td>\n",
              "      <td>2.434466e+08</td>\n",
              "      <td>120384296.0</td>\n",
              "      <td>flow=Background-Established-cmpgw-CVUT</td>\n",
              "    </tr>\n",
              "    <tr>\n",
              "      <th>4</th>\n",
              "      <td>2011/08/12 15:24:01.119062</td>\n",
              "      <td>3599.992920</td>\n",
              "      <td>tcp</td>\n",
              "      <td>88.103.40.117</td>\n",
              "      <td>37378</td>\n",
              "      <td>&lt;?&gt;</td>\n",
              "      <td>147.32.84.59</td>\n",
              "      <td>56306</td>\n",
              "      <td>PA_PA</td>\n",
              "      <td>0.0</td>\n",
              "      <td>0.0</td>\n",
              "      <td>229138.0</td>\n",
              "      <td>2.136376e+08</td>\n",
              "      <td>206786146.0</td>\n",
              "      <td>flow=Background-Established-cmpgw-CVUT</td>\n",
              "    </tr>\n",
              "  </tbody>\n",
              "</table>\n",
              "</div>"
            ],
            "text/plain": [
              "                    StartTime  ...                                   Label\n",
              "0  2011/08/12 15:24:01.105063  ...                         flow=Background\n",
              "1  2011/08/12 15:24:01.105402  ...              flow=From-Normal-V44-Grill\n",
              "2  2011/08/12 15:24:01.106568  ...                         flow=Background\n",
              "3  2011/08/12 15:24:01.113763  ...  flow=Background-Established-cmpgw-CVUT\n",
              "4  2011/08/12 15:24:01.119062  ...  flow=Background-Established-cmpgw-CVUT\n",
              "\n",
              "[5 rows x 15 columns]"
            ]
          },
          "metadata": {
            "tags": []
          },
          "execution_count": 64
        }
      ]
    },
    {
      "cell_type": "code",
      "metadata": {
        "colab": {
          "base_uri": "https://localhost:8080/"
        },
        "id": "7bTvqp0oPz2l",
        "outputId": "be1ddb18-c391-4b28-ef20-762a170a92f4"
      },
      "source": [
        "#for virut\n",
        "test_df[\"Final-Labels\"] = test_df.Label.apply(Label_op)\n",
        "test_df[\"Final-Labels\"].value_counts()"
      ],
      "id": "7bTvqp0oPz2l",
      "execution_count": null,
      "outputs": [
        {
          "output_type": "execute_result",
          "data": {
            "text/plain": [
              "0    4566929\n",
              "2     116887\n",
              "1      26822\n",
              "Name: Final-Labels, dtype: int64"
            ]
          },
          "metadata": {},
          "execution_count": 39
        }
      ]
    },
    {
      "cell_type": "code",
      "metadata": {
        "colab": {
          "base_uri": "https://localhost:8080/"
        },
        "id": "hSdOLTlgaHAQ",
        "outputId": "36f13eb1-be7d-46c6-9e99-0a89cfb42a10"
      },
      "source": [
        "#for Rbot\n",
        "test_df2[\"Final-Labels\"] = test_df2.Label.apply(Label_op)\n",
        "test_df2[\"Final-Labels\"].value_counts()"
      ],
      "id": "hSdOLTlgaHAQ",
      "execution_count": null,
      "outputs": [
        {
          "output_type": "execute_result",
          "data": {
            "text/plain": [
              "0    1778061\n",
              "1      20941\n",
              "2       9120\n",
              "Name: Final-Labels, dtype: int64"
            ]
          },
          "metadata": {},
          "execution_count": 81
        }
      ]
    },
    {
      "cell_type": "code",
      "metadata": {
        "id": "I4UrQRKDR5nu"
      },
      "source": [
        "test_df.drop(['Label','Dir'],axis=1,inplace=True)"
      ],
      "id": "I4UrQRKDR5nu",
      "execution_count": null,
      "outputs": []
    },
    {
      "cell_type": "code",
      "metadata": {
        "id": "b_FMJzt1SXID"
      },
      "source": [
        "test_df['sTos'] = test_df['sTos'].fillna(test_df['sTos'].mean())"
      ],
      "id": "b_FMJzt1SXID",
      "execution_count": null,
      "outputs": []
    },
    {
      "cell_type": "code",
      "metadata": {
        "id": "fPT9aZaHSbal"
      },
      "source": [
        "test_df['dTos'] = test_df['dTos'].fillna(test_df['dTos'].mean())"
      ],
      "id": "fPT9aZaHSbal",
      "execution_count": null,
      "outputs": []
    },
    {
      "cell_type": "code",
      "metadata": {
        "id": "lCvDBMERSeZl"
      },
      "source": [
        "\n",
        "test_df['Dport'].fillna(test_df.groupby('Proto')['Dport'].apply(lambda x:x.mode())[0],inplace=True)\n",
        "#ctu_data['Dport'].fillna((ctu_data.groupby(['Proto','Dport'])['Dport'].agg(pd.Series.mode)))"
      ],
      "id": "lCvDBMERSeZl",
      "execution_count": null,
      "outputs": []
    },
    {
      "cell_type": "code",
      "metadata": {
        "id": "fxkCGXbMymuj"
      },
      "source": [
        "def ctu_preprocessing(df):\n",
        "  #df.drop(['Label','Dir'],axis=1,inplace=True)\n",
        "  df['sTos'] = df['sTos'].fillna(df['sTos'].mean())\n",
        "  df['dTos'] = df['dTos'].fillna(df['dTos'].mean())\n",
        "  df['Dport'].fillna(df.groupby('Proto')['Dport'].apply(lambda x:x.mode())[0],inplace=True)\n",
        "  df['Sport'].fillna(df.groupby('Proto')['Sport'].apply(lambda x:x.mode())[0],inplace=True)\n",
        "  df[\"TotPkts\"] = df[\"TotPkts\"].clip(lower = df[\"TotPkts\"].quantile(0.15),upper = df[\"TotPkts\"].quantile(0.85)) \n",
        "  df[\"TotBytes\"] = df[\"TotBytes\"].clip(lower = df[\"TotBytes\"].quantile(0.15),upper = df[\"TotBytes\"].quantile(0.85)) \n",
        "  df[\"SrcBytes\"] = df[\"SrcBytes\"].clip(lower = df[\"SrcBytes\"].quantile(0.15),upper = df[\"SrcBytes\"].quantile(0.85)) \n",
        "  return df"
      ],
      "id": "fxkCGXbMymuj",
      "execution_count": null,
      "outputs": []
    },
    {
      "cell_type": "code",
      "metadata": {
        "id": "6OUDn1UFypec"
      },
      "source": [
        "test_df2 = ctu_preprocessing(test_df2)"
      ],
      "id": "6OUDn1UFypec",
      "execution_count": null,
      "outputs": []
    },
    {
      "cell_type": "code",
      "metadata": {
        "colab": {
          "base_uri": "https://localhost:8080/"
        },
        "id": "R5c-Hv43SmgK",
        "outputId": "ba3317fd-9e97-4d2b-889f-73247c4cc7a1"
      },
      "source": [
        "protocols_del = ['ipv6','udt','esp','pim','rarp','unas','ipx/spx']\n",
        "#temp_df = ctu_data[ctu_data.Proto in protocols_del]\n",
        "index = test_df2[((test_df2.Proto =='ipv6')| (test_df2.Proto =='udt')|(test_df2.Proto == 'esp') | (test_df2.Proto == 'pim')|(test_df2.Proto == 'rarp')|(test_df2.Proto == 'unas')|(test_df2.Proto =='ipx/spx')|(test_df2.Proto == 'ipv6-icmp'))].index\n",
        "test_df2.drop(index,inplace=True)\n",
        "test_df2.Proto.value_counts()"
      ],
      "id": "R5c-Hv43SmgK",
      "execution_count": null,
      "outputs": [
        {
          "output_type": "execute_result",
          "data": {
            "text/plain": [
              "udp     1485660\n",
              "tcp      293675\n",
              "icmp      23616\n",
              "rtp        2023\n",
              "rtcp       1479\n",
              "igmp       1241\n",
              "arp         340\n",
              "gre           1\n",
              "Name: Proto, dtype: int64"
            ]
          },
          "metadata": {},
          "execution_count": 83
        }
      ]
    },
    {
      "cell_type": "code",
      "metadata": {
        "id": "RyaRfGjom_Xm"
      },
      "source": [
        "def create_nids_time_window(df):\n",
        "  df['StartTime_new'] = pd.to_datetime(df['StartTime']).astype(np.int64)*(1e-9)\n",
        "  start_time = df['StartTime_new'].min()\n",
        "  window_width = 120\n",
        "  window_stride = 60 \n",
        "  df['Window_lower'] = (df['StartTime_new']-start_time-window_width)/window_stride+1\n",
        "  df['Window_lower'].clip(lower=0,inplace=True)\n",
        "  df['Window_upper_excl'] = (df['StartTime_new']-start_time)/window_stride+1\n",
        "  df.drop('StartTime',inplace=True,axis=1)\n",
        "  df = df.astype({\"Window_lower\": int, \"Window_upper_excl\": int})\n",
        "\n",
        "  nb_windows = df['Window_upper_excl'].max()\n",
        "  print(nb_windows)\n",
        "  df.drop('StartTime_new', axis=1, inplace=True)\n",
        "  X_nids = pd.DataFrame()\n",
        "  for i in range(0,nb_windows):       #range is supposed to be nb_windows\n",
        "    gb = df.loc[(df['Window_lower'] <= i) & (df['Window_upper_excl'] > i)].groupby('SrcAddr')\n",
        "    X_nids = X_nids.append(gb.size().to_frame(name='counts').join(gb.agg({'Sport':['nunique',RU],\n",
        "                                                         'DstAddr':['nunique',RU],\n",
        "                                                          'Dport':['nunique',RU],\n",
        "                                                         'Proto':['nunique',RU],\n",
        "                                                         'Dur':['sum','mean','std','max','median'],\n",
        "                                                         'TotPkts':['sum','mean','std','max','median'],\n",
        "                                                         'SrcBytes':['sum','mean','std','max','median'],\n",
        "                                                         'Final-Labels':lambda x: x.mode()[0]})).reset_index().assign(window_id=i))\n",
        "  return X_nids\n"
      ],
      "id": "RyaRfGjom_Xm",
      "execution_count": null,
      "outputs": []
    },
    {
      "cell_type": "code",
      "metadata": {
        "colab": {
          "base_uri": "https://localhost:8080/"
        },
        "id": "_sCEUVhOzBKq",
        "outputId": "fba61afc-0b17-49cb-df40-ef71f8965157"
      },
      "source": [
        "X_test2 = pd.DataFrame()\n",
        "X_test2 = create_nids_time_window(test_df2)"
      ],
      "id": "_sCEUVhOzBKq",
      "execution_count": null,
      "outputs": [
        {
          "output_type": "stream",
          "text": [
            "252\n"
          ],
          "name": "stdout"
        },
        {
          "output_type": "stream",
          "text": [
            "/usr/local/lib/python3.7/dist-packages/pandas/core/reshape/merge.py:643: UserWarning: merging between different levels can give an unintended result (1 levels on the left,2 on the right)\n",
            "  warnings.warn(msg, UserWarning)\n",
            "/usr/local/lib/python3.7/dist-packages/pandas/core/reshape/merge.py:643: UserWarning: merging between different levels can give an unintended result (1 levels on the left,2 on the right)\n",
            "  warnings.warn(msg, UserWarning)\n",
            "/usr/local/lib/python3.7/dist-packages/pandas/core/reshape/merge.py:643: UserWarning: merging between different levels can give an unintended result (1 levels on the left,2 on the right)\n",
            "  warnings.warn(msg, UserWarning)\n",
            "/usr/local/lib/python3.7/dist-packages/pandas/core/reshape/merge.py:643: UserWarning: merging between different levels can give an unintended result (1 levels on the left,2 on the right)\n",
            "  warnings.warn(msg, UserWarning)\n",
            "/usr/local/lib/python3.7/dist-packages/pandas/core/reshape/merge.py:643: UserWarning: merging between different levels can give an unintended result (1 levels on the left,2 on the right)\n",
            "  warnings.warn(msg, UserWarning)\n",
            "/usr/local/lib/python3.7/dist-packages/pandas/core/reshape/merge.py:643: UserWarning: merging between different levels can give an unintended result (1 levels on the left,2 on the right)\n",
            "  warnings.warn(msg, UserWarning)\n",
            "/usr/local/lib/python3.7/dist-packages/pandas/core/reshape/merge.py:643: UserWarning: merging between different levels can give an unintended result (1 levels on the left,2 on the right)\n",
            "  warnings.warn(msg, UserWarning)\n",
            "/usr/local/lib/python3.7/dist-packages/pandas/core/reshape/merge.py:643: UserWarning: merging between different levels can give an unintended result (1 levels on the left,2 on the right)\n",
            "  warnings.warn(msg, UserWarning)\n",
            "/usr/local/lib/python3.7/dist-packages/pandas/core/reshape/merge.py:643: UserWarning: merging between different levels can give an unintended result (1 levels on the left,2 on the right)\n",
            "  warnings.warn(msg, UserWarning)\n",
            "/usr/local/lib/python3.7/dist-packages/pandas/core/reshape/merge.py:643: UserWarning: merging between different levels can give an unintended result (1 levels on the left,2 on the right)\n",
            "  warnings.warn(msg, UserWarning)\n",
            "/usr/local/lib/python3.7/dist-packages/pandas/core/reshape/merge.py:643: UserWarning: merging between different levels can give an unintended result (1 levels on the left,2 on the right)\n",
            "  warnings.warn(msg, UserWarning)\n",
            "/usr/local/lib/python3.7/dist-packages/pandas/core/reshape/merge.py:643: UserWarning: merging between different levels can give an unintended result (1 levels on the left,2 on the right)\n",
            "  warnings.warn(msg, UserWarning)\n",
            "/usr/local/lib/python3.7/dist-packages/pandas/core/reshape/merge.py:643: UserWarning: merging between different levels can give an unintended result (1 levels on the left,2 on the right)\n",
            "  warnings.warn(msg, UserWarning)\n",
            "/usr/local/lib/python3.7/dist-packages/pandas/core/reshape/merge.py:643: UserWarning: merging between different levels can give an unintended result (1 levels on the left,2 on the right)\n",
            "  warnings.warn(msg, UserWarning)\n",
            "/usr/local/lib/python3.7/dist-packages/pandas/core/reshape/merge.py:643: UserWarning: merging between different levels can give an unintended result (1 levels on the left,2 on the right)\n",
            "  warnings.warn(msg, UserWarning)\n",
            "/usr/local/lib/python3.7/dist-packages/pandas/core/reshape/merge.py:643: UserWarning: merging between different levels can give an unintended result (1 levels on the left,2 on the right)\n",
            "  warnings.warn(msg, UserWarning)\n",
            "/usr/local/lib/python3.7/dist-packages/pandas/core/reshape/merge.py:643: UserWarning: merging between different levels can give an unintended result (1 levels on the left,2 on the right)\n",
            "  warnings.warn(msg, UserWarning)\n",
            "/usr/local/lib/python3.7/dist-packages/pandas/core/reshape/merge.py:643: UserWarning: merging between different levels can give an unintended result (1 levels on the left,2 on the right)\n",
            "  warnings.warn(msg, UserWarning)\n",
            "/usr/local/lib/python3.7/dist-packages/pandas/core/reshape/merge.py:643: UserWarning: merging between different levels can give an unintended result (1 levels on the left,2 on the right)\n",
            "  warnings.warn(msg, UserWarning)\n",
            "/usr/local/lib/python3.7/dist-packages/pandas/core/reshape/merge.py:643: UserWarning: merging between different levels can give an unintended result (1 levels on the left,2 on the right)\n",
            "  warnings.warn(msg, UserWarning)\n",
            "/usr/local/lib/python3.7/dist-packages/pandas/core/reshape/merge.py:643: UserWarning: merging between different levels can give an unintended result (1 levels on the left,2 on the right)\n",
            "  warnings.warn(msg, UserWarning)\n",
            "/usr/local/lib/python3.7/dist-packages/pandas/core/reshape/merge.py:643: UserWarning: merging between different levels can give an unintended result (1 levels on the left,2 on the right)\n",
            "  warnings.warn(msg, UserWarning)\n",
            "/usr/local/lib/python3.7/dist-packages/pandas/core/reshape/merge.py:643: UserWarning: merging between different levels can give an unintended result (1 levels on the left,2 on the right)\n",
            "  warnings.warn(msg, UserWarning)\n",
            "/usr/local/lib/python3.7/dist-packages/pandas/core/reshape/merge.py:643: UserWarning: merging between different levels can give an unintended result (1 levels on the left,2 on the right)\n",
            "  warnings.warn(msg, UserWarning)\n",
            "/usr/local/lib/python3.7/dist-packages/pandas/core/reshape/merge.py:643: UserWarning: merging between different levels can give an unintended result (1 levels on the left,2 on the right)\n",
            "  warnings.warn(msg, UserWarning)\n",
            "/usr/local/lib/python3.7/dist-packages/pandas/core/reshape/merge.py:643: UserWarning: merging between different levels can give an unintended result (1 levels on the left,2 on the right)\n",
            "  warnings.warn(msg, UserWarning)\n",
            "/usr/local/lib/python3.7/dist-packages/pandas/core/reshape/merge.py:643: UserWarning: merging between different levels can give an unintended result (1 levels on the left,2 on the right)\n",
            "  warnings.warn(msg, UserWarning)\n",
            "/usr/local/lib/python3.7/dist-packages/pandas/core/reshape/merge.py:643: UserWarning: merging between different levels can give an unintended result (1 levels on the left,2 on the right)\n",
            "  warnings.warn(msg, UserWarning)\n",
            "/usr/local/lib/python3.7/dist-packages/pandas/core/reshape/merge.py:643: UserWarning: merging between different levels can give an unintended result (1 levels on the left,2 on the right)\n",
            "  warnings.warn(msg, UserWarning)\n",
            "/usr/local/lib/python3.7/dist-packages/pandas/core/reshape/merge.py:643: UserWarning: merging between different levels can give an unintended result (1 levels on the left,2 on the right)\n",
            "  warnings.warn(msg, UserWarning)\n",
            "/usr/local/lib/python3.7/dist-packages/pandas/core/reshape/merge.py:643: UserWarning: merging between different levels can give an unintended result (1 levels on the left,2 on the right)\n",
            "  warnings.warn(msg, UserWarning)\n",
            "/usr/local/lib/python3.7/dist-packages/pandas/core/reshape/merge.py:643: UserWarning: merging between different levels can give an unintended result (1 levels on the left,2 on the right)\n",
            "  warnings.warn(msg, UserWarning)\n",
            "/usr/local/lib/python3.7/dist-packages/pandas/core/reshape/merge.py:643: UserWarning: merging between different levels can give an unintended result (1 levels on the left,2 on the right)\n",
            "  warnings.warn(msg, UserWarning)\n",
            "/usr/local/lib/python3.7/dist-packages/pandas/core/reshape/merge.py:643: UserWarning: merging between different levels can give an unintended result (1 levels on the left,2 on the right)\n",
            "  warnings.warn(msg, UserWarning)\n",
            "/usr/local/lib/python3.7/dist-packages/pandas/core/reshape/merge.py:643: UserWarning: merging between different levels can give an unintended result (1 levels on the left,2 on the right)\n",
            "  warnings.warn(msg, UserWarning)\n",
            "/usr/local/lib/python3.7/dist-packages/pandas/core/reshape/merge.py:643: UserWarning: merging between different levels can give an unintended result (1 levels on the left,2 on the right)\n",
            "  warnings.warn(msg, UserWarning)\n",
            "/usr/local/lib/python3.7/dist-packages/pandas/core/reshape/merge.py:643: UserWarning: merging between different levels can give an unintended result (1 levels on the left,2 on the right)\n",
            "  warnings.warn(msg, UserWarning)\n",
            "/usr/local/lib/python3.7/dist-packages/pandas/core/reshape/merge.py:643: UserWarning: merging between different levels can give an unintended result (1 levels on the left,2 on the right)\n",
            "  warnings.warn(msg, UserWarning)\n",
            "/usr/local/lib/python3.7/dist-packages/pandas/core/reshape/merge.py:643: UserWarning: merging between different levels can give an unintended result (1 levels on the left,2 on the right)\n",
            "  warnings.warn(msg, UserWarning)\n",
            "/usr/local/lib/python3.7/dist-packages/pandas/core/reshape/merge.py:643: UserWarning: merging between different levels can give an unintended result (1 levels on the left,2 on the right)\n",
            "  warnings.warn(msg, UserWarning)\n",
            "/usr/local/lib/python3.7/dist-packages/pandas/core/reshape/merge.py:643: UserWarning: merging between different levels can give an unintended result (1 levels on the left,2 on the right)\n",
            "  warnings.warn(msg, UserWarning)\n",
            "/usr/local/lib/python3.7/dist-packages/pandas/core/reshape/merge.py:643: UserWarning: merging between different levels can give an unintended result (1 levels on the left,2 on the right)\n",
            "  warnings.warn(msg, UserWarning)\n",
            "/usr/local/lib/python3.7/dist-packages/pandas/core/reshape/merge.py:643: UserWarning: merging between different levels can give an unintended result (1 levels on the left,2 on the right)\n",
            "  warnings.warn(msg, UserWarning)\n",
            "/usr/local/lib/python3.7/dist-packages/pandas/core/reshape/merge.py:643: UserWarning: merging between different levels can give an unintended result (1 levels on the left,2 on the right)\n",
            "  warnings.warn(msg, UserWarning)\n",
            "/usr/local/lib/python3.7/dist-packages/pandas/core/reshape/merge.py:643: UserWarning: merging between different levels can give an unintended result (1 levels on the left,2 on the right)\n",
            "  warnings.warn(msg, UserWarning)\n",
            "/usr/local/lib/python3.7/dist-packages/pandas/core/reshape/merge.py:643: UserWarning: merging between different levels can give an unintended result (1 levels on the left,2 on the right)\n",
            "  warnings.warn(msg, UserWarning)\n",
            "/usr/local/lib/python3.7/dist-packages/pandas/core/reshape/merge.py:643: UserWarning: merging between different levels can give an unintended result (1 levels on the left,2 on the right)\n",
            "  warnings.warn(msg, UserWarning)\n",
            "/usr/local/lib/python3.7/dist-packages/pandas/core/reshape/merge.py:643: UserWarning: merging between different levels can give an unintended result (1 levels on the left,2 on the right)\n",
            "  warnings.warn(msg, UserWarning)\n",
            "/usr/local/lib/python3.7/dist-packages/pandas/core/reshape/merge.py:643: UserWarning: merging between different levels can give an unintended result (1 levels on the left,2 on the right)\n",
            "  warnings.warn(msg, UserWarning)\n",
            "/usr/local/lib/python3.7/dist-packages/pandas/core/reshape/merge.py:643: UserWarning: merging between different levels can give an unintended result (1 levels on the left,2 on the right)\n",
            "  warnings.warn(msg, UserWarning)\n",
            "/usr/local/lib/python3.7/dist-packages/pandas/core/reshape/merge.py:643: UserWarning: merging between different levels can give an unintended result (1 levels on the left,2 on the right)\n",
            "  warnings.warn(msg, UserWarning)\n",
            "/usr/local/lib/python3.7/dist-packages/pandas/core/reshape/merge.py:643: UserWarning: merging between different levels can give an unintended result (1 levels on the left,2 on the right)\n",
            "  warnings.warn(msg, UserWarning)\n",
            "/usr/local/lib/python3.7/dist-packages/pandas/core/reshape/merge.py:643: UserWarning: merging between different levels can give an unintended result (1 levels on the left,2 on the right)\n",
            "  warnings.warn(msg, UserWarning)\n",
            "/usr/local/lib/python3.7/dist-packages/pandas/core/reshape/merge.py:643: UserWarning: merging between different levels can give an unintended result (1 levels on the left,2 on the right)\n",
            "  warnings.warn(msg, UserWarning)\n",
            "/usr/local/lib/python3.7/dist-packages/pandas/core/reshape/merge.py:643: UserWarning: merging between different levels can give an unintended result (1 levels on the left,2 on the right)\n",
            "  warnings.warn(msg, UserWarning)\n",
            "/usr/local/lib/python3.7/dist-packages/pandas/core/reshape/merge.py:643: UserWarning: merging between different levels can give an unintended result (1 levels on the left,2 on the right)\n",
            "  warnings.warn(msg, UserWarning)\n",
            "/usr/local/lib/python3.7/dist-packages/pandas/core/reshape/merge.py:643: UserWarning: merging between different levels can give an unintended result (1 levels on the left,2 on the right)\n",
            "  warnings.warn(msg, UserWarning)\n",
            "/usr/local/lib/python3.7/dist-packages/pandas/core/reshape/merge.py:643: UserWarning: merging between different levels can give an unintended result (1 levels on the left,2 on the right)\n",
            "  warnings.warn(msg, UserWarning)\n",
            "/usr/local/lib/python3.7/dist-packages/pandas/core/reshape/merge.py:643: UserWarning: merging between different levels can give an unintended result (1 levels on the left,2 on the right)\n",
            "  warnings.warn(msg, UserWarning)\n",
            "/usr/local/lib/python3.7/dist-packages/pandas/core/reshape/merge.py:643: UserWarning: merging between different levels can give an unintended result (1 levels on the left,2 on the right)\n",
            "  warnings.warn(msg, UserWarning)\n",
            "/usr/local/lib/python3.7/dist-packages/pandas/core/reshape/merge.py:643: UserWarning: merging between different levels can give an unintended result (1 levels on the left,2 on the right)\n",
            "  warnings.warn(msg, UserWarning)\n",
            "/usr/local/lib/python3.7/dist-packages/pandas/core/reshape/merge.py:643: UserWarning: merging between different levels can give an unintended result (1 levels on the left,2 on the right)\n",
            "  warnings.warn(msg, UserWarning)\n",
            "/usr/local/lib/python3.7/dist-packages/pandas/core/reshape/merge.py:643: UserWarning: merging between different levels can give an unintended result (1 levels on the left,2 on the right)\n",
            "  warnings.warn(msg, UserWarning)\n",
            "/usr/local/lib/python3.7/dist-packages/pandas/core/reshape/merge.py:643: UserWarning: merging between different levels can give an unintended result (1 levels on the left,2 on the right)\n",
            "  warnings.warn(msg, UserWarning)\n",
            "/usr/local/lib/python3.7/dist-packages/pandas/core/reshape/merge.py:643: UserWarning: merging between different levels can give an unintended result (1 levels on the left,2 on the right)\n",
            "  warnings.warn(msg, UserWarning)\n",
            "/usr/local/lib/python3.7/dist-packages/pandas/core/reshape/merge.py:643: UserWarning: merging between different levels can give an unintended result (1 levels on the left,2 on the right)\n",
            "  warnings.warn(msg, UserWarning)\n",
            "/usr/local/lib/python3.7/dist-packages/pandas/core/reshape/merge.py:643: UserWarning: merging between different levels can give an unintended result (1 levels on the left,2 on the right)\n",
            "  warnings.warn(msg, UserWarning)\n",
            "/usr/local/lib/python3.7/dist-packages/pandas/core/reshape/merge.py:643: UserWarning: merging between different levels can give an unintended result (1 levels on the left,2 on the right)\n",
            "  warnings.warn(msg, UserWarning)\n",
            "/usr/local/lib/python3.7/dist-packages/pandas/core/reshape/merge.py:643: UserWarning: merging between different levels can give an unintended result (1 levels on the left,2 on the right)\n",
            "  warnings.warn(msg, UserWarning)\n",
            "/usr/local/lib/python3.7/dist-packages/pandas/core/reshape/merge.py:643: UserWarning: merging between different levels can give an unintended result (1 levels on the left,2 on the right)\n",
            "  warnings.warn(msg, UserWarning)\n",
            "/usr/local/lib/python3.7/dist-packages/pandas/core/reshape/merge.py:643: UserWarning: merging between different levels can give an unintended result (1 levels on the left,2 on the right)\n",
            "  warnings.warn(msg, UserWarning)\n",
            "/usr/local/lib/python3.7/dist-packages/pandas/core/reshape/merge.py:643: UserWarning: merging between different levels can give an unintended result (1 levels on the left,2 on the right)\n",
            "  warnings.warn(msg, UserWarning)\n",
            "/usr/local/lib/python3.7/dist-packages/pandas/core/reshape/merge.py:643: UserWarning: merging between different levels can give an unintended result (1 levels on the left,2 on the right)\n",
            "  warnings.warn(msg, UserWarning)\n",
            "/usr/local/lib/python3.7/dist-packages/pandas/core/reshape/merge.py:643: UserWarning: merging between different levels can give an unintended result (1 levels on the left,2 on the right)\n",
            "  warnings.warn(msg, UserWarning)\n",
            "/usr/local/lib/python3.7/dist-packages/pandas/core/reshape/merge.py:643: UserWarning: merging between different levels can give an unintended result (1 levels on the left,2 on the right)\n",
            "  warnings.warn(msg, UserWarning)\n",
            "/usr/local/lib/python3.7/dist-packages/pandas/core/reshape/merge.py:643: UserWarning: merging between different levels can give an unintended result (1 levels on the left,2 on the right)\n",
            "  warnings.warn(msg, UserWarning)\n",
            "/usr/local/lib/python3.7/dist-packages/pandas/core/reshape/merge.py:643: UserWarning: merging between different levels can give an unintended result (1 levels on the left,2 on the right)\n",
            "  warnings.warn(msg, UserWarning)\n",
            "/usr/local/lib/python3.7/dist-packages/pandas/core/reshape/merge.py:643: UserWarning: merging between different levels can give an unintended result (1 levels on the left,2 on the right)\n",
            "  warnings.warn(msg, UserWarning)\n",
            "/usr/local/lib/python3.7/dist-packages/pandas/core/reshape/merge.py:643: UserWarning: merging between different levels can give an unintended result (1 levels on the left,2 on the right)\n",
            "  warnings.warn(msg, UserWarning)\n",
            "/usr/local/lib/python3.7/dist-packages/pandas/core/reshape/merge.py:643: UserWarning: merging between different levels can give an unintended result (1 levels on the left,2 on the right)\n",
            "  warnings.warn(msg, UserWarning)\n",
            "/usr/local/lib/python3.7/dist-packages/pandas/core/reshape/merge.py:643: UserWarning: merging between different levels can give an unintended result (1 levels on the left,2 on the right)\n",
            "  warnings.warn(msg, UserWarning)\n",
            "/usr/local/lib/python3.7/dist-packages/pandas/core/reshape/merge.py:643: UserWarning: merging between different levels can give an unintended result (1 levels on the left,2 on the right)\n",
            "  warnings.warn(msg, UserWarning)\n",
            "/usr/local/lib/python3.7/dist-packages/pandas/core/reshape/merge.py:643: UserWarning: merging between different levels can give an unintended result (1 levels on the left,2 on the right)\n",
            "  warnings.warn(msg, UserWarning)\n",
            "/usr/local/lib/python3.7/dist-packages/pandas/core/reshape/merge.py:643: UserWarning: merging between different levels can give an unintended result (1 levels on the left,2 on the right)\n",
            "  warnings.warn(msg, UserWarning)\n",
            "/usr/local/lib/python3.7/dist-packages/pandas/core/reshape/merge.py:643: UserWarning: merging between different levels can give an unintended result (1 levels on the left,2 on the right)\n",
            "  warnings.warn(msg, UserWarning)\n",
            "/usr/local/lib/python3.7/dist-packages/pandas/core/reshape/merge.py:643: UserWarning: merging between different levels can give an unintended result (1 levels on the left,2 on the right)\n",
            "  warnings.warn(msg, UserWarning)\n",
            "/usr/local/lib/python3.7/dist-packages/pandas/core/reshape/merge.py:643: UserWarning: merging between different levels can give an unintended result (1 levels on the left,2 on the right)\n",
            "  warnings.warn(msg, UserWarning)\n",
            "/usr/local/lib/python3.7/dist-packages/pandas/core/reshape/merge.py:643: UserWarning: merging between different levels can give an unintended result (1 levels on the left,2 on the right)\n",
            "  warnings.warn(msg, UserWarning)\n",
            "/usr/local/lib/python3.7/dist-packages/pandas/core/reshape/merge.py:643: UserWarning: merging between different levels can give an unintended result (1 levels on the left,2 on the right)\n",
            "  warnings.warn(msg, UserWarning)\n",
            "/usr/local/lib/python3.7/dist-packages/pandas/core/reshape/merge.py:643: UserWarning: merging between different levels can give an unintended result (1 levels on the left,2 on the right)\n",
            "  warnings.warn(msg, UserWarning)\n",
            "/usr/local/lib/python3.7/dist-packages/pandas/core/reshape/merge.py:643: UserWarning: merging between different levels can give an unintended result (1 levels on the left,2 on the right)\n",
            "  warnings.warn(msg, UserWarning)\n",
            "/usr/local/lib/python3.7/dist-packages/pandas/core/reshape/merge.py:643: UserWarning: merging between different levels can give an unintended result (1 levels on the left,2 on the right)\n",
            "  warnings.warn(msg, UserWarning)\n",
            "/usr/local/lib/python3.7/dist-packages/pandas/core/reshape/merge.py:643: UserWarning: merging between different levels can give an unintended result (1 levels on the left,2 on the right)\n",
            "  warnings.warn(msg, UserWarning)\n",
            "/usr/local/lib/python3.7/dist-packages/pandas/core/reshape/merge.py:643: UserWarning: merging between different levels can give an unintended result (1 levels on the left,2 on the right)\n",
            "  warnings.warn(msg, UserWarning)\n",
            "/usr/local/lib/python3.7/dist-packages/pandas/core/reshape/merge.py:643: UserWarning: merging between different levels can give an unintended result (1 levels on the left,2 on the right)\n",
            "  warnings.warn(msg, UserWarning)\n",
            "/usr/local/lib/python3.7/dist-packages/pandas/core/reshape/merge.py:643: UserWarning: merging between different levels can give an unintended result (1 levels on the left,2 on the right)\n",
            "  warnings.warn(msg, UserWarning)\n",
            "/usr/local/lib/python3.7/dist-packages/pandas/core/reshape/merge.py:643: UserWarning: merging between different levels can give an unintended result (1 levels on the left,2 on the right)\n",
            "  warnings.warn(msg, UserWarning)\n",
            "/usr/local/lib/python3.7/dist-packages/pandas/core/reshape/merge.py:643: UserWarning: merging between different levels can give an unintended result (1 levels on the left,2 on the right)\n",
            "  warnings.warn(msg, UserWarning)\n",
            "/usr/local/lib/python3.7/dist-packages/pandas/core/reshape/merge.py:643: UserWarning: merging between different levels can give an unintended result (1 levels on the left,2 on the right)\n",
            "  warnings.warn(msg, UserWarning)\n",
            "/usr/local/lib/python3.7/dist-packages/pandas/core/reshape/merge.py:643: UserWarning: merging between different levels can give an unintended result (1 levels on the left,2 on the right)\n",
            "  warnings.warn(msg, UserWarning)\n",
            "/usr/local/lib/python3.7/dist-packages/pandas/core/reshape/merge.py:643: UserWarning: merging between different levels can give an unintended result (1 levels on the left,2 on the right)\n",
            "  warnings.warn(msg, UserWarning)\n",
            "/usr/local/lib/python3.7/dist-packages/pandas/core/reshape/merge.py:643: UserWarning: merging between different levels can give an unintended result (1 levels on the left,2 on the right)\n",
            "  warnings.warn(msg, UserWarning)\n",
            "/usr/local/lib/python3.7/dist-packages/pandas/core/reshape/merge.py:643: UserWarning: merging between different levels can give an unintended result (1 levels on the left,2 on the right)\n",
            "  warnings.warn(msg, UserWarning)\n",
            "/usr/local/lib/python3.7/dist-packages/pandas/core/reshape/merge.py:643: UserWarning: merging between different levels can give an unintended result (1 levels on the left,2 on the right)\n",
            "  warnings.warn(msg, UserWarning)\n",
            "/usr/local/lib/python3.7/dist-packages/pandas/core/reshape/merge.py:643: UserWarning: merging between different levels can give an unintended result (1 levels on the left,2 on the right)\n",
            "  warnings.warn(msg, UserWarning)\n",
            "/usr/local/lib/python3.7/dist-packages/pandas/core/reshape/merge.py:643: UserWarning: merging between different levels can give an unintended result (1 levels on the left,2 on the right)\n",
            "  warnings.warn(msg, UserWarning)\n",
            "/usr/local/lib/python3.7/dist-packages/pandas/core/reshape/merge.py:643: UserWarning: merging between different levels can give an unintended result (1 levels on the left,2 on the right)\n",
            "  warnings.warn(msg, UserWarning)\n",
            "/usr/local/lib/python3.7/dist-packages/pandas/core/reshape/merge.py:643: UserWarning: merging between different levels can give an unintended result (1 levels on the left,2 on the right)\n",
            "  warnings.warn(msg, UserWarning)\n",
            "/usr/local/lib/python3.7/dist-packages/pandas/core/reshape/merge.py:643: UserWarning: merging between different levels can give an unintended result (1 levels on the left,2 on the right)\n",
            "  warnings.warn(msg, UserWarning)\n",
            "/usr/local/lib/python3.7/dist-packages/pandas/core/reshape/merge.py:643: UserWarning: merging between different levels can give an unintended result (1 levels on the left,2 on the right)\n",
            "  warnings.warn(msg, UserWarning)\n",
            "/usr/local/lib/python3.7/dist-packages/pandas/core/reshape/merge.py:643: UserWarning: merging between different levels can give an unintended result (1 levels on the left,2 on the right)\n",
            "  warnings.warn(msg, UserWarning)\n",
            "/usr/local/lib/python3.7/dist-packages/pandas/core/reshape/merge.py:643: UserWarning: merging between different levels can give an unintended result (1 levels on the left,2 on the right)\n",
            "  warnings.warn(msg, UserWarning)\n",
            "/usr/local/lib/python3.7/dist-packages/pandas/core/reshape/merge.py:643: UserWarning: merging between different levels can give an unintended result (1 levels on the left,2 on the right)\n",
            "  warnings.warn(msg, UserWarning)\n",
            "/usr/local/lib/python3.7/dist-packages/pandas/core/reshape/merge.py:643: UserWarning: merging between different levels can give an unintended result (1 levels on the left,2 on the right)\n",
            "  warnings.warn(msg, UserWarning)\n",
            "/usr/local/lib/python3.7/dist-packages/pandas/core/reshape/merge.py:643: UserWarning: merging between different levels can give an unintended result (1 levels on the left,2 on the right)\n",
            "  warnings.warn(msg, UserWarning)\n",
            "/usr/local/lib/python3.7/dist-packages/pandas/core/reshape/merge.py:643: UserWarning: merging between different levels can give an unintended result (1 levels on the left,2 on the right)\n",
            "  warnings.warn(msg, UserWarning)\n",
            "/usr/local/lib/python3.7/dist-packages/pandas/core/reshape/merge.py:643: UserWarning: merging between different levels can give an unintended result (1 levels on the left,2 on the right)\n",
            "  warnings.warn(msg, UserWarning)\n",
            "/usr/local/lib/python3.7/dist-packages/pandas/core/reshape/merge.py:643: UserWarning: merging between different levels can give an unintended result (1 levels on the left,2 on the right)\n",
            "  warnings.warn(msg, UserWarning)\n",
            "/usr/local/lib/python3.7/dist-packages/pandas/core/reshape/merge.py:643: UserWarning: merging between different levels can give an unintended result (1 levels on the left,2 on the right)\n",
            "  warnings.warn(msg, UserWarning)\n",
            "/usr/local/lib/python3.7/dist-packages/pandas/core/reshape/merge.py:643: UserWarning: merging between different levels can give an unintended result (1 levels on the left,2 on the right)\n",
            "  warnings.warn(msg, UserWarning)\n",
            "/usr/local/lib/python3.7/dist-packages/pandas/core/reshape/merge.py:643: UserWarning: merging between different levels can give an unintended result (1 levels on the left,2 on the right)\n",
            "  warnings.warn(msg, UserWarning)\n",
            "/usr/local/lib/python3.7/dist-packages/pandas/core/reshape/merge.py:643: UserWarning: merging between different levels can give an unintended result (1 levels on the left,2 on the right)\n",
            "  warnings.warn(msg, UserWarning)\n",
            "/usr/local/lib/python3.7/dist-packages/pandas/core/reshape/merge.py:643: UserWarning: merging between different levels can give an unintended result (1 levels on the left,2 on the right)\n",
            "  warnings.warn(msg, UserWarning)\n",
            "/usr/local/lib/python3.7/dist-packages/pandas/core/reshape/merge.py:643: UserWarning: merging between different levels can give an unintended result (1 levels on the left,2 on the right)\n",
            "  warnings.warn(msg, UserWarning)\n",
            "/usr/local/lib/python3.7/dist-packages/pandas/core/reshape/merge.py:643: UserWarning: merging between different levels can give an unintended result (1 levels on the left,2 on the right)\n",
            "  warnings.warn(msg, UserWarning)\n",
            "/usr/local/lib/python3.7/dist-packages/pandas/core/reshape/merge.py:643: UserWarning: merging between different levels can give an unintended result (1 levels on the left,2 on the right)\n",
            "  warnings.warn(msg, UserWarning)\n",
            "/usr/local/lib/python3.7/dist-packages/pandas/core/reshape/merge.py:643: UserWarning: merging between different levels can give an unintended result (1 levels on the left,2 on the right)\n",
            "  warnings.warn(msg, UserWarning)\n",
            "/usr/local/lib/python3.7/dist-packages/pandas/core/reshape/merge.py:643: UserWarning: merging between different levels can give an unintended result (1 levels on the left,2 on the right)\n",
            "  warnings.warn(msg, UserWarning)\n",
            "/usr/local/lib/python3.7/dist-packages/pandas/core/reshape/merge.py:643: UserWarning: merging between different levels can give an unintended result (1 levels on the left,2 on the right)\n",
            "  warnings.warn(msg, UserWarning)\n",
            "/usr/local/lib/python3.7/dist-packages/pandas/core/reshape/merge.py:643: UserWarning: merging between different levels can give an unintended result (1 levels on the left,2 on the right)\n",
            "  warnings.warn(msg, UserWarning)\n",
            "/usr/local/lib/python3.7/dist-packages/pandas/core/reshape/merge.py:643: UserWarning: merging between different levels can give an unintended result (1 levels on the left,2 on the right)\n",
            "  warnings.warn(msg, UserWarning)\n",
            "/usr/local/lib/python3.7/dist-packages/pandas/core/reshape/merge.py:643: UserWarning: merging between different levels can give an unintended result (1 levels on the left,2 on the right)\n",
            "  warnings.warn(msg, UserWarning)\n",
            "/usr/local/lib/python3.7/dist-packages/pandas/core/reshape/merge.py:643: UserWarning: merging between different levels can give an unintended result (1 levels on the left,2 on the right)\n",
            "  warnings.warn(msg, UserWarning)\n",
            "/usr/local/lib/python3.7/dist-packages/pandas/core/reshape/merge.py:643: UserWarning: merging between different levels can give an unintended result (1 levels on the left,2 on the right)\n",
            "  warnings.warn(msg, UserWarning)\n",
            "/usr/local/lib/python3.7/dist-packages/pandas/core/reshape/merge.py:643: UserWarning: merging between different levels can give an unintended result (1 levels on the left,2 on the right)\n",
            "  warnings.warn(msg, UserWarning)\n",
            "/usr/local/lib/python3.7/dist-packages/pandas/core/reshape/merge.py:643: UserWarning: merging between different levels can give an unintended result (1 levels on the left,2 on the right)\n",
            "  warnings.warn(msg, UserWarning)\n",
            "/usr/local/lib/python3.7/dist-packages/pandas/core/reshape/merge.py:643: UserWarning: merging between different levels can give an unintended result (1 levels on the left,2 on the right)\n",
            "  warnings.warn(msg, UserWarning)\n",
            "/usr/local/lib/python3.7/dist-packages/pandas/core/reshape/merge.py:643: UserWarning: merging between different levels can give an unintended result (1 levels on the left,2 on the right)\n",
            "  warnings.warn(msg, UserWarning)\n",
            "/usr/local/lib/python3.7/dist-packages/pandas/core/reshape/merge.py:643: UserWarning: merging between different levels can give an unintended result (1 levels on the left,2 on the right)\n",
            "  warnings.warn(msg, UserWarning)\n",
            "/usr/local/lib/python3.7/dist-packages/pandas/core/reshape/merge.py:643: UserWarning: merging between different levels can give an unintended result (1 levels on the left,2 on the right)\n",
            "  warnings.warn(msg, UserWarning)\n",
            "/usr/local/lib/python3.7/dist-packages/pandas/core/reshape/merge.py:643: UserWarning: merging between different levels can give an unintended result (1 levels on the left,2 on the right)\n",
            "  warnings.warn(msg, UserWarning)\n",
            "/usr/local/lib/python3.7/dist-packages/pandas/core/reshape/merge.py:643: UserWarning: merging between different levels can give an unintended result (1 levels on the left,2 on the right)\n",
            "  warnings.warn(msg, UserWarning)\n",
            "/usr/local/lib/python3.7/dist-packages/pandas/core/reshape/merge.py:643: UserWarning: merging between different levels can give an unintended result (1 levels on the left,2 on the right)\n",
            "  warnings.warn(msg, UserWarning)\n",
            "/usr/local/lib/python3.7/dist-packages/pandas/core/reshape/merge.py:643: UserWarning: merging between different levels can give an unintended result (1 levels on the left,2 on the right)\n",
            "  warnings.warn(msg, UserWarning)\n",
            "/usr/local/lib/python3.7/dist-packages/pandas/core/reshape/merge.py:643: UserWarning: merging between different levels can give an unintended result (1 levels on the left,2 on the right)\n",
            "  warnings.warn(msg, UserWarning)\n",
            "/usr/local/lib/python3.7/dist-packages/pandas/core/reshape/merge.py:643: UserWarning: merging between different levels can give an unintended result (1 levels on the left,2 on the right)\n",
            "  warnings.warn(msg, UserWarning)\n",
            "/usr/local/lib/python3.7/dist-packages/pandas/core/reshape/merge.py:643: UserWarning: merging between different levels can give an unintended result (1 levels on the left,2 on the right)\n",
            "  warnings.warn(msg, UserWarning)\n",
            "/usr/local/lib/python3.7/dist-packages/pandas/core/reshape/merge.py:643: UserWarning: merging between different levels can give an unintended result (1 levels on the left,2 on the right)\n",
            "  warnings.warn(msg, UserWarning)\n",
            "/usr/local/lib/python3.7/dist-packages/pandas/core/reshape/merge.py:643: UserWarning: merging between different levels can give an unintended result (1 levels on the left,2 on the right)\n",
            "  warnings.warn(msg, UserWarning)\n",
            "/usr/local/lib/python3.7/dist-packages/pandas/core/reshape/merge.py:643: UserWarning: merging between different levels can give an unintended result (1 levels on the left,2 on the right)\n",
            "  warnings.warn(msg, UserWarning)\n",
            "/usr/local/lib/python3.7/dist-packages/pandas/core/reshape/merge.py:643: UserWarning: merging between different levels can give an unintended result (1 levels on the left,2 on the right)\n",
            "  warnings.warn(msg, UserWarning)\n",
            "/usr/local/lib/python3.7/dist-packages/pandas/core/reshape/merge.py:643: UserWarning: merging between different levels can give an unintended result (1 levels on the left,2 on the right)\n",
            "  warnings.warn(msg, UserWarning)\n",
            "/usr/local/lib/python3.7/dist-packages/pandas/core/reshape/merge.py:643: UserWarning: merging between different levels can give an unintended result (1 levels on the left,2 on the right)\n",
            "  warnings.warn(msg, UserWarning)\n",
            "/usr/local/lib/python3.7/dist-packages/pandas/core/reshape/merge.py:643: UserWarning: merging between different levels can give an unintended result (1 levels on the left,2 on the right)\n",
            "  warnings.warn(msg, UserWarning)\n",
            "/usr/local/lib/python3.7/dist-packages/pandas/core/reshape/merge.py:643: UserWarning: merging between different levels can give an unintended result (1 levels on the left,2 on the right)\n",
            "  warnings.warn(msg, UserWarning)\n",
            "/usr/local/lib/python3.7/dist-packages/pandas/core/reshape/merge.py:643: UserWarning: merging between different levels can give an unintended result (1 levels on the left,2 on the right)\n",
            "  warnings.warn(msg, UserWarning)\n",
            "/usr/local/lib/python3.7/dist-packages/pandas/core/reshape/merge.py:643: UserWarning: merging between different levels can give an unintended result (1 levels on the left,2 on the right)\n",
            "  warnings.warn(msg, UserWarning)\n",
            "/usr/local/lib/python3.7/dist-packages/pandas/core/reshape/merge.py:643: UserWarning: merging between different levels can give an unintended result (1 levels on the left,2 on the right)\n",
            "  warnings.warn(msg, UserWarning)\n",
            "/usr/local/lib/python3.7/dist-packages/pandas/core/reshape/merge.py:643: UserWarning: merging between different levels can give an unintended result (1 levels on the left,2 on the right)\n",
            "  warnings.warn(msg, UserWarning)\n",
            "/usr/local/lib/python3.7/dist-packages/pandas/core/reshape/merge.py:643: UserWarning: merging between different levels can give an unintended result (1 levels on the left,2 on the right)\n",
            "  warnings.warn(msg, UserWarning)\n",
            "/usr/local/lib/python3.7/dist-packages/pandas/core/reshape/merge.py:643: UserWarning: merging between different levels can give an unintended result (1 levels on the left,2 on the right)\n",
            "  warnings.warn(msg, UserWarning)\n",
            "/usr/local/lib/python3.7/dist-packages/pandas/core/reshape/merge.py:643: UserWarning: merging between different levels can give an unintended result (1 levels on the left,2 on the right)\n",
            "  warnings.warn(msg, UserWarning)\n",
            "/usr/local/lib/python3.7/dist-packages/pandas/core/reshape/merge.py:643: UserWarning: merging between different levels can give an unintended result (1 levels on the left,2 on the right)\n",
            "  warnings.warn(msg, UserWarning)\n",
            "/usr/local/lib/python3.7/dist-packages/pandas/core/reshape/merge.py:643: UserWarning: merging between different levels can give an unintended result (1 levels on the left,2 on the right)\n",
            "  warnings.warn(msg, UserWarning)\n",
            "/usr/local/lib/python3.7/dist-packages/pandas/core/reshape/merge.py:643: UserWarning: merging between different levels can give an unintended result (1 levels on the left,2 on the right)\n",
            "  warnings.warn(msg, UserWarning)\n",
            "/usr/local/lib/python3.7/dist-packages/pandas/core/reshape/merge.py:643: UserWarning: merging between different levels can give an unintended result (1 levels on the left,2 on the right)\n",
            "  warnings.warn(msg, UserWarning)\n",
            "/usr/local/lib/python3.7/dist-packages/pandas/core/reshape/merge.py:643: UserWarning: merging between different levels can give an unintended result (1 levels on the left,2 on the right)\n",
            "  warnings.warn(msg, UserWarning)\n",
            "/usr/local/lib/python3.7/dist-packages/pandas/core/reshape/merge.py:643: UserWarning: merging between different levels can give an unintended result (1 levels on the left,2 on the right)\n",
            "  warnings.warn(msg, UserWarning)\n",
            "/usr/local/lib/python3.7/dist-packages/pandas/core/reshape/merge.py:643: UserWarning: merging between different levels can give an unintended result (1 levels on the left,2 on the right)\n",
            "  warnings.warn(msg, UserWarning)\n",
            "/usr/local/lib/python3.7/dist-packages/pandas/core/reshape/merge.py:643: UserWarning: merging between different levels can give an unintended result (1 levels on the left,2 on the right)\n",
            "  warnings.warn(msg, UserWarning)\n",
            "/usr/local/lib/python3.7/dist-packages/pandas/core/reshape/merge.py:643: UserWarning: merging between different levels can give an unintended result (1 levels on the left,2 on the right)\n",
            "  warnings.warn(msg, UserWarning)\n",
            "/usr/local/lib/python3.7/dist-packages/pandas/core/reshape/merge.py:643: UserWarning: merging between different levels can give an unintended result (1 levels on the left,2 on the right)\n",
            "  warnings.warn(msg, UserWarning)\n",
            "/usr/local/lib/python3.7/dist-packages/pandas/core/reshape/merge.py:643: UserWarning: merging between different levels can give an unintended result (1 levels on the left,2 on the right)\n",
            "  warnings.warn(msg, UserWarning)\n",
            "/usr/local/lib/python3.7/dist-packages/pandas/core/reshape/merge.py:643: UserWarning: merging between different levels can give an unintended result (1 levels on the left,2 on the right)\n",
            "  warnings.warn(msg, UserWarning)\n",
            "/usr/local/lib/python3.7/dist-packages/pandas/core/reshape/merge.py:643: UserWarning: merging between different levels can give an unintended result (1 levels on the left,2 on the right)\n",
            "  warnings.warn(msg, UserWarning)\n",
            "/usr/local/lib/python3.7/dist-packages/pandas/core/reshape/merge.py:643: UserWarning: merging between different levels can give an unintended result (1 levels on the left,2 on the right)\n",
            "  warnings.warn(msg, UserWarning)\n",
            "/usr/local/lib/python3.7/dist-packages/pandas/core/reshape/merge.py:643: UserWarning: merging between different levels can give an unintended result (1 levels on the left,2 on the right)\n",
            "  warnings.warn(msg, UserWarning)\n",
            "/usr/local/lib/python3.7/dist-packages/pandas/core/reshape/merge.py:643: UserWarning: merging between different levels can give an unintended result (1 levels on the left,2 on the right)\n",
            "  warnings.warn(msg, UserWarning)\n",
            "/usr/local/lib/python3.7/dist-packages/pandas/core/reshape/merge.py:643: UserWarning: merging between different levels can give an unintended result (1 levels on the left,2 on the right)\n",
            "  warnings.warn(msg, UserWarning)\n",
            "/usr/local/lib/python3.7/dist-packages/pandas/core/reshape/merge.py:643: UserWarning: merging between different levels can give an unintended result (1 levels on the left,2 on the right)\n",
            "  warnings.warn(msg, UserWarning)\n",
            "/usr/local/lib/python3.7/dist-packages/pandas/core/reshape/merge.py:643: UserWarning: merging between different levels can give an unintended result (1 levels on the left,2 on the right)\n",
            "  warnings.warn(msg, UserWarning)\n",
            "/usr/local/lib/python3.7/dist-packages/pandas/core/reshape/merge.py:643: UserWarning: merging between different levels can give an unintended result (1 levels on the left,2 on the right)\n",
            "  warnings.warn(msg, UserWarning)\n",
            "/usr/local/lib/python3.7/dist-packages/pandas/core/reshape/merge.py:643: UserWarning: merging between different levels can give an unintended result (1 levels on the left,2 on the right)\n",
            "  warnings.warn(msg, UserWarning)\n",
            "/usr/local/lib/python3.7/dist-packages/pandas/core/reshape/merge.py:643: UserWarning: merging between different levels can give an unintended result (1 levels on the left,2 on the right)\n",
            "  warnings.warn(msg, UserWarning)\n",
            "/usr/local/lib/python3.7/dist-packages/pandas/core/reshape/merge.py:643: UserWarning: merging between different levels can give an unintended result (1 levels on the left,2 on the right)\n",
            "  warnings.warn(msg, UserWarning)\n",
            "/usr/local/lib/python3.7/dist-packages/pandas/core/reshape/merge.py:643: UserWarning: merging between different levels can give an unintended result (1 levels on the left,2 on the right)\n",
            "  warnings.warn(msg, UserWarning)\n",
            "/usr/local/lib/python3.7/dist-packages/pandas/core/reshape/merge.py:643: UserWarning: merging between different levels can give an unintended result (1 levels on the left,2 on the right)\n",
            "  warnings.warn(msg, UserWarning)\n",
            "/usr/local/lib/python3.7/dist-packages/pandas/core/reshape/merge.py:643: UserWarning: merging between different levels can give an unintended result (1 levels on the left,2 on the right)\n",
            "  warnings.warn(msg, UserWarning)\n",
            "/usr/local/lib/python3.7/dist-packages/pandas/core/reshape/merge.py:643: UserWarning: merging between different levels can give an unintended result (1 levels on the left,2 on the right)\n",
            "  warnings.warn(msg, UserWarning)\n",
            "/usr/local/lib/python3.7/dist-packages/pandas/core/reshape/merge.py:643: UserWarning: merging between different levels can give an unintended result (1 levels on the left,2 on the right)\n",
            "  warnings.warn(msg, UserWarning)\n",
            "/usr/local/lib/python3.7/dist-packages/pandas/core/reshape/merge.py:643: UserWarning: merging between different levels can give an unintended result (1 levels on the left,2 on the right)\n",
            "  warnings.warn(msg, UserWarning)\n",
            "/usr/local/lib/python3.7/dist-packages/pandas/core/reshape/merge.py:643: UserWarning: merging between different levels can give an unintended result (1 levels on the left,2 on the right)\n",
            "  warnings.warn(msg, UserWarning)\n",
            "/usr/local/lib/python3.7/dist-packages/pandas/core/reshape/merge.py:643: UserWarning: merging between different levels can give an unintended result (1 levels on the left,2 on the right)\n",
            "  warnings.warn(msg, UserWarning)\n",
            "/usr/local/lib/python3.7/dist-packages/pandas/core/reshape/merge.py:643: UserWarning: merging between different levels can give an unintended result (1 levels on the left,2 on the right)\n",
            "  warnings.warn(msg, UserWarning)\n",
            "/usr/local/lib/python3.7/dist-packages/pandas/core/reshape/merge.py:643: UserWarning: merging between different levels can give an unintended result (1 levels on the left,2 on the right)\n",
            "  warnings.warn(msg, UserWarning)\n",
            "/usr/local/lib/python3.7/dist-packages/pandas/core/reshape/merge.py:643: UserWarning: merging between different levels can give an unintended result (1 levels on the left,2 on the right)\n",
            "  warnings.warn(msg, UserWarning)\n",
            "/usr/local/lib/python3.7/dist-packages/pandas/core/reshape/merge.py:643: UserWarning: merging between different levels can give an unintended result (1 levels on the left,2 on the right)\n",
            "  warnings.warn(msg, UserWarning)\n",
            "/usr/local/lib/python3.7/dist-packages/pandas/core/reshape/merge.py:643: UserWarning: merging between different levels can give an unintended result (1 levels on the left,2 on the right)\n",
            "  warnings.warn(msg, UserWarning)\n",
            "/usr/local/lib/python3.7/dist-packages/pandas/core/reshape/merge.py:643: UserWarning: merging between different levels can give an unintended result (1 levels on the left,2 on the right)\n",
            "  warnings.warn(msg, UserWarning)\n",
            "/usr/local/lib/python3.7/dist-packages/pandas/core/reshape/merge.py:643: UserWarning: merging between different levels can give an unintended result (1 levels on the left,2 on the right)\n",
            "  warnings.warn(msg, UserWarning)\n",
            "/usr/local/lib/python3.7/dist-packages/pandas/core/reshape/merge.py:643: UserWarning: merging between different levels can give an unintended result (1 levels on the left,2 on the right)\n",
            "  warnings.warn(msg, UserWarning)\n",
            "/usr/local/lib/python3.7/dist-packages/pandas/core/reshape/merge.py:643: UserWarning: merging between different levels can give an unintended result (1 levels on the left,2 on the right)\n",
            "  warnings.warn(msg, UserWarning)\n",
            "/usr/local/lib/python3.7/dist-packages/pandas/core/reshape/merge.py:643: UserWarning: merging between different levels can give an unintended result (1 levels on the left,2 on the right)\n",
            "  warnings.warn(msg, UserWarning)\n",
            "/usr/local/lib/python3.7/dist-packages/pandas/core/reshape/merge.py:643: UserWarning: merging between different levels can give an unintended result (1 levels on the left,2 on the right)\n",
            "  warnings.warn(msg, UserWarning)\n",
            "/usr/local/lib/python3.7/dist-packages/pandas/core/reshape/merge.py:643: UserWarning: merging between different levels can give an unintended result (1 levels on the left,2 on the right)\n",
            "  warnings.warn(msg, UserWarning)\n",
            "/usr/local/lib/python3.7/dist-packages/pandas/core/reshape/merge.py:643: UserWarning: merging between different levels can give an unintended result (1 levels on the left,2 on the right)\n",
            "  warnings.warn(msg, UserWarning)\n",
            "/usr/local/lib/python3.7/dist-packages/pandas/core/reshape/merge.py:643: UserWarning: merging between different levels can give an unintended result (1 levels on the left,2 on the right)\n",
            "  warnings.warn(msg, UserWarning)\n",
            "/usr/local/lib/python3.7/dist-packages/pandas/core/reshape/merge.py:643: UserWarning: merging between different levels can give an unintended result (1 levels on the left,2 on the right)\n",
            "  warnings.warn(msg, UserWarning)\n",
            "/usr/local/lib/python3.7/dist-packages/pandas/core/reshape/merge.py:643: UserWarning: merging between different levels can give an unintended result (1 levels on the left,2 on the right)\n",
            "  warnings.warn(msg, UserWarning)\n",
            "/usr/local/lib/python3.7/dist-packages/pandas/core/reshape/merge.py:643: UserWarning: merging between different levels can give an unintended result (1 levels on the left,2 on the right)\n",
            "  warnings.warn(msg, UserWarning)\n",
            "/usr/local/lib/python3.7/dist-packages/pandas/core/reshape/merge.py:643: UserWarning: merging between different levels can give an unintended result (1 levels on the left,2 on the right)\n",
            "  warnings.warn(msg, UserWarning)\n",
            "/usr/local/lib/python3.7/dist-packages/pandas/core/reshape/merge.py:643: UserWarning: merging between different levels can give an unintended result (1 levels on the left,2 on the right)\n",
            "  warnings.warn(msg, UserWarning)\n",
            "/usr/local/lib/python3.7/dist-packages/pandas/core/reshape/merge.py:643: UserWarning: merging between different levels can give an unintended result (1 levels on the left,2 on the right)\n",
            "  warnings.warn(msg, UserWarning)\n",
            "/usr/local/lib/python3.7/dist-packages/pandas/core/reshape/merge.py:643: UserWarning: merging between different levels can give an unintended result (1 levels on the left,2 on the right)\n",
            "  warnings.warn(msg, UserWarning)\n",
            "/usr/local/lib/python3.7/dist-packages/pandas/core/reshape/merge.py:643: UserWarning: merging between different levels can give an unintended result (1 levels on the left,2 on the right)\n",
            "  warnings.warn(msg, UserWarning)\n",
            "/usr/local/lib/python3.7/dist-packages/pandas/core/reshape/merge.py:643: UserWarning: merging between different levels can give an unintended result (1 levels on the left,2 on the right)\n",
            "  warnings.warn(msg, UserWarning)\n",
            "/usr/local/lib/python3.7/dist-packages/pandas/core/reshape/merge.py:643: UserWarning: merging between different levels can give an unintended result (1 levels on the left,2 on the right)\n",
            "  warnings.warn(msg, UserWarning)\n",
            "/usr/local/lib/python3.7/dist-packages/pandas/core/reshape/merge.py:643: UserWarning: merging between different levels can give an unintended result (1 levels on the left,2 on the right)\n",
            "  warnings.warn(msg, UserWarning)\n",
            "/usr/local/lib/python3.7/dist-packages/pandas/core/reshape/merge.py:643: UserWarning: merging between different levels can give an unintended result (1 levels on the left,2 on the right)\n",
            "  warnings.warn(msg, UserWarning)\n",
            "/usr/local/lib/python3.7/dist-packages/pandas/core/reshape/merge.py:643: UserWarning: merging between different levels can give an unintended result (1 levels on the left,2 on the right)\n",
            "  warnings.warn(msg, UserWarning)\n",
            "/usr/local/lib/python3.7/dist-packages/pandas/core/reshape/merge.py:643: UserWarning: merging between different levels can give an unintended result (1 levels on the left,2 on the right)\n",
            "  warnings.warn(msg, UserWarning)\n",
            "/usr/local/lib/python3.7/dist-packages/pandas/core/reshape/merge.py:643: UserWarning: merging between different levels can give an unintended result (1 levels on the left,2 on the right)\n",
            "  warnings.warn(msg, UserWarning)\n",
            "/usr/local/lib/python3.7/dist-packages/pandas/core/reshape/merge.py:643: UserWarning: merging between different levels can give an unintended result (1 levels on the left,2 on the right)\n",
            "  warnings.warn(msg, UserWarning)\n",
            "/usr/local/lib/python3.7/dist-packages/pandas/core/reshape/merge.py:643: UserWarning: merging between different levels can give an unintended result (1 levels on the left,2 on the right)\n",
            "  warnings.warn(msg, UserWarning)\n",
            "/usr/local/lib/python3.7/dist-packages/pandas/core/reshape/merge.py:643: UserWarning: merging between different levels can give an unintended result (1 levels on the left,2 on the right)\n",
            "  warnings.warn(msg, UserWarning)\n",
            "/usr/local/lib/python3.7/dist-packages/pandas/core/reshape/merge.py:643: UserWarning: merging between different levels can give an unintended result (1 levels on the left,2 on the right)\n",
            "  warnings.warn(msg, UserWarning)\n",
            "/usr/local/lib/python3.7/dist-packages/pandas/core/reshape/merge.py:643: UserWarning: merging between different levels can give an unintended result (1 levels on the left,2 on the right)\n",
            "  warnings.warn(msg, UserWarning)\n",
            "/usr/local/lib/python3.7/dist-packages/pandas/core/reshape/merge.py:643: UserWarning: merging between different levels can give an unintended result (1 levels on the left,2 on the right)\n",
            "  warnings.warn(msg, UserWarning)\n",
            "/usr/local/lib/python3.7/dist-packages/pandas/core/reshape/merge.py:643: UserWarning: merging between different levels can give an unintended result (1 levels on the left,2 on the right)\n",
            "  warnings.warn(msg, UserWarning)\n",
            "/usr/local/lib/python3.7/dist-packages/pandas/core/reshape/merge.py:643: UserWarning: merging between different levels can give an unintended result (1 levels on the left,2 on the right)\n",
            "  warnings.warn(msg, UserWarning)\n",
            "/usr/local/lib/python3.7/dist-packages/pandas/core/reshape/merge.py:643: UserWarning: merging between different levels can give an unintended result (1 levels on the left,2 on the right)\n",
            "  warnings.warn(msg, UserWarning)\n",
            "/usr/local/lib/python3.7/dist-packages/pandas/core/reshape/merge.py:643: UserWarning: merging between different levels can give an unintended result (1 levels on the left,2 on the right)\n",
            "  warnings.warn(msg, UserWarning)\n",
            "/usr/local/lib/python3.7/dist-packages/pandas/core/reshape/merge.py:643: UserWarning: merging between different levels can give an unintended result (1 levels on the left,2 on the right)\n",
            "  warnings.warn(msg, UserWarning)\n",
            "/usr/local/lib/python3.7/dist-packages/pandas/core/reshape/merge.py:643: UserWarning: merging between different levels can give an unintended result (1 levels on the left,2 on the right)\n",
            "  warnings.warn(msg, UserWarning)\n",
            "/usr/local/lib/python3.7/dist-packages/pandas/core/reshape/merge.py:643: UserWarning: merging between different levels can give an unintended result (1 levels on the left,2 on the right)\n",
            "  warnings.warn(msg, UserWarning)\n",
            "/usr/local/lib/python3.7/dist-packages/pandas/core/reshape/merge.py:643: UserWarning: merging between different levels can give an unintended result (1 levels on the left,2 on the right)\n",
            "  warnings.warn(msg, UserWarning)\n",
            "/usr/local/lib/python3.7/dist-packages/pandas/core/reshape/merge.py:643: UserWarning: merging between different levels can give an unintended result (1 levels on the left,2 on the right)\n",
            "  warnings.warn(msg, UserWarning)\n",
            "/usr/local/lib/python3.7/dist-packages/pandas/core/reshape/merge.py:643: UserWarning: merging between different levels can give an unintended result (1 levels on the left,2 on the right)\n",
            "  warnings.warn(msg, UserWarning)\n",
            "/usr/local/lib/python3.7/dist-packages/pandas/core/reshape/merge.py:643: UserWarning: merging between different levels can give an unintended result (1 levels on the left,2 on the right)\n",
            "  warnings.warn(msg, UserWarning)\n",
            "/usr/local/lib/python3.7/dist-packages/pandas/core/reshape/merge.py:643: UserWarning: merging between different levels can give an unintended result (1 levels on the left,2 on the right)\n",
            "  warnings.warn(msg, UserWarning)\n",
            "/usr/local/lib/python3.7/dist-packages/pandas/core/reshape/merge.py:643: UserWarning: merging between different levels can give an unintended result (1 levels on the left,2 on the right)\n",
            "  warnings.warn(msg, UserWarning)\n",
            "/usr/local/lib/python3.7/dist-packages/pandas/core/reshape/merge.py:643: UserWarning: merging between different levels can give an unintended result (1 levels on the left,2 on the right)\n",
            "  warnings.warn(msg, UserWarning)\n",
            "/usr/local/lib/python3.7/dist-packages/pandas/core/reshape/merge.py:643: UserWarning: merging between different levels can give an unintended result (1 levels on the left,2 on the right)\n",
            "  warnings.warn(msg, UserWarning)\n",
            "/usr/local/lib/python3.7/dist-packages/pandas/core/reshape/merge.py:643: UserWarning: merging between different levels can give an unintended result (1 levels on the left,2 on the right)\n",
            "  warnings.warn(msg, UserWarning)\n",
            "/usr/local/lib/python3.7/dist-packages/pandas/core/reshape/merge.py:643: UserWarning: merging between different levels can give an unintended result (1 levels on the left,2 on the right)\n",
            "  warnings.warn(msg, UserWarning)\n",
            "/usr/local/lib/python3.7/dist-packages/pandas/core/reshape/merge.py:643: UserWarning: merging between different levels can give an unintended result (1 levels on the left,2 on the right)\n",
            "  warnings.warn(msg, UserWarning)\n",
            "/usr/local/lib/python3.7/dist-packages/pandas/core/reshape/merge.py:643: UserWarning: merging between different levels can give an unintended result (1 levels on the left,2 on the right)\n",
            "  warnings.warn(msg, UserWarning)\n",
            "/usr/local/lib/python3.7/dist-packages/pandas/core/reshape/merge.py:643: UserWarning: merging between different levels can give an unintended result (1 levels on the left,2 on the right)\n",
            "  warnings.warn(msg, UserWarning)\n",
            "/usr/local/lib/python3.7/dist-packages/pandas/core/reshape/merge.py:643: UserWarning: merging between different levels can give an unintended result (1 levels on the left,2 on the right)\n",
            "  warnings.warn(msg, UserWarning)\n",
            "/usr/local/lib/python3.7/dist-packages/pandas/core/reshape/merge.py:643: UserWarning: merging between different levels can give an unintended result (1 levels on the left,2 on the right)\n",
            "  warnings.warn(msg, UserWarning)\n",
            "/usr/local/lib/python3.7/dist-packages/pandas/core/reshape/merge.py:643: UserWarning: merging between different levels can give an unintended result (1 levels on the left,2 on the right)\n",
            "  warnings.warn(msg, UserWarning)\n",
            "/usr/local/lib/python3.7/dist-packages/pandas/core/reshape/merge.py:643: UserWarning: merging between different levels can give an unintended result (1 levels on the left,2 on the right)\n",
            "  warnings.warn(msg, UserWarning)\n"
          ],
          "name": "stderr"
        }
      ]
    },
    {
      "cell_type": "code",
      "metadata": {
        "colab": {
          "base_uri": "https://localhost:8080/",
          "height": 258
        },
        "id": "ABHDzOi82VPP",
        "outputId": "3078e31d-9a20-4593-bff3-1b1dff6a1199"
      },
      "source": [
        "X_test2.head()"
      ],
      "id": "ABHDzOi82VPP",
      "execution_count": null,
      "outputs": [
        {
          "output_type": "execute_result",
          "data": {
            "text/html": [
              "<div>\n",
              "<style scoped>\n",
              "    .dataframe tbody tr th:only-of-type {\n",
              "        vertical-align: middle;\n",
              "    }\n",
              "\n",
              "    .dataframe tbody tr th {\n",
              "        vertical-align: top;\n",
              "    }\n",
              "\n",
              "    .dataframe thead th {\n",
              "        text-align: right;\n",
              "    }\n",
              "</style>\n",
              "<table border=\"1\" class=\"dataframe\">\n",
              "  <thead>\n",
              "    <tr style=\"text-align: right;\">\n",
              "      <th></th>\n",
              "      <th>SrcAddr</th>\n",
              "      <th>counts</th>\n",
              "      <th>(Sport, nunique)</th>\n",
              "      <th>(Sport, RU)</th>\n",
              "      <th>(DstAddr, nunique)</th>\n",
              "      <th>(DstAddr, RU)</th>\n",
              "      <th>(Dport, nunique)</th>\n",
              "      <th>(Dport, RU)</th>\n",
              "      <th>(Proto, nunique)</th>\n",
              "      <th>(Proto, RU)</th>\n",
              "      <th>(Dur, sum)</th>\n",
              "      <th>(Dur, mean)</th>\n",
              "      <th>(Dur, std)</th>\n",
              "      <th>(Dur, max)</th>\n",
              "      <th>(Dur, median)</th>\n",
              "      <th>(TotPkts, sum)</th>\n",
              "      <th>(TotPkts, mean)</th>\n",
              "      <th>(TotPkts, std)</th>\n",
              "      <th>(TotPkts, max)</th>\n",
              "      <th>(TotPkts, median)</th>\n",
              "      <th>(SrcBytes, sum)</th>\n",
              "      <th>(SrcBytes, mean)</th>\n",
              "      <th>(SrcBytes, std)</th>\n",
              "      <th>(SrcBytes, max)</th>\n",
              "      <th>(SrcBytes, median)</th>\n",
              "      <th>(Final-Labels, &lt;lambda&gt;)</th>\n",
              "      <th>window_id</th>\n",
              "    </tr>\n",
              "  </thead>\n",
              "  <tbody>\n",
              "    <tr>\n",
              "      <th>0</th>\n",
              "      <td>0.0.0.0</td>\n",
              "      <td>1</td>\n",
              "      <td>1</td>\n",
              "      <td>1.0</td>\n",
              "      <td>1</td>\n",
              "      <td>1.0</td>\n",
              "      <td>1</td>\n",
              "      <td>1.0</td>\n",
              "      <td>1</td>\n",
              "      <td>1.0</td>\n",
              "      <td>3598.302246</td>\n",
              "      <td>3598.302246</td>\n",
              "      <td>NaN</td>\n",
              "      <td>3598.302246</td>\n",
              "      <td>3598.302246</td>\n",
              "      <td>10</td>\n",
              "      <td>10.0</td>\n",
              "      <td>NaN</td>\n",
              "      <td>10</td>\n",
              "      <td>10.0</td>\n",
              "      <td>831</td>\n",
              "      <td>831.0</td>\n",
              "      <td>NaN</td>\n",
              "      <td>831</td>\n",
              "      <td>831.0</td>\n",
              "      <td>0</td>\n",
              "      <td>0</td>\n",
              "    </tr>\n",
              "    <tr>\n",
              "      <th>1</th>\n",
              "      <td>1.152.212.181</td>\n",
              "      <td>1</td>\n",
              "      <td>1</td>\n",
              "      <td>1.0</td>\n",
              "      <td>1</td>\n",
              "      <td>1.0</td>\n",
              "      <td>1</td>\n",
              "      <td>1.0</td>\n",
              "      <td>1</td>\n",
              "      <td>1.0</td>\n",
              "      <td>2.239833</td>\n",
              "      <td>2.239833</td>\n",
              "      <td>NaN</td>\n",
              "      <td>2.239833</td>\n",
              "      <td>2.239833</td>\n",
              "      <td>8</td>\n",
              "      <td>8.0</td>\n",
              "      <td>NaN</td>\n",
              "      <td>8</td>\n",
              "      <td>8.0</td>\n",
              "      <td>831</td>\n",
              "      <td>831.0</td>\n",
              "      <td>NaN</td>\n",
              "      <td>831</td>\n",
              "      <td>831.0</td>\n",
              "      <td>0</td>\n",
              "      <td>0</td>\n",
              "    </tr>\n",
              "    <tr>\n",
              "      <th>2</th>\n",
              "      <td>1.152.218.104</td>\n",
              "      <td>1</td>\n",
              "      <td>1</td>\n",
              "      <td>1.0</td>\n",
              "      <td>1</td>\n",
              "      <td>1.0</td>\n",
              "      <td>1</td>\n",
              "      <td>1.0</td>\n",
              "      <td>1</td>\n",
              "      <td>1.0</td>\n",
              "      <td>0.000763</td>\n",
              "      <td>0.000763</td>\n",
              "      <td>NaN</td>\n",
              "      <td>0.000763</td>\n",
              "      <td>0.000763</td>\n",
              "      <td>2</td>\n",
              "      <td>2.0</td>\n",
              "      <td>NaN</td>\n",
              "      <td>2</td>\n",
              "      <td>2.0</td>\n",
              "      <td>76</td>\n",
              "      <td>76.0</td>\n",
              "      <td>NaN</td>\n",
              "      <td>76</td>\n",
              "      <td>76.0</td>\n",
              "      <td>0</td>\n",
              "      <td>0</td>\n",
              "    </tr>\n",
              "    <tr>\n",
              "      <th>3</th>\n",
              "      <td>1.152.226.38</td>\n",
              "      <td>1</td>\n",
              "      <td>1</td>\n",
              "      <td>1.0</td>\n",
              "      <td>1</td>\n",
              "      <td>1.0</td>\n",
              "      <td>1</td>\n",
              "      <td>1.0</td>\n",
              "      <td>1</td>\n",
              "      <td>1.0</td>\n",
              "      <td>14.779215</td>\n",
              "      <td>14.779215</td>\n",
              "      <td>NaN</td>\n",
              "      <td>14.779215</td>\n",
              "      <td>14.779215</td>\n",
              "      <td>10</td>\n",
              "      <td>10.0</td>\n",
              "      <td>NaN</td>\n",
              "      <td>10</td>\n",
              "      <td>10.0</td>\n",
              "      <td>450</td>\n",
              "      <td>450.0</td>\n",
              "      <td>NaN</td>\n",
              "      <td>450</td>\n",
              "      <td>450.0</td>\n",
              "      <td>0</td>\n",
              "      <td>0</td>\n",
              "    </tr>\n",
              "    <tr>\n",
              "      <th>4</th>\n",
              "      <td>1.168.141.44</td>\n",
              "      <td>1</td>\n",
              "      <td>1</td>\n",
              "      <td>1.0</td>\n",
              "      <td>1</td>\n",
              "      <td>1.0</td>\n",
              "      <td>1</td>\n",
              "      <td>1.0</td>\n",
              "      <td>1</td>\n",
              "      <td>1.0</td>\n",
              "      <td>3548.319092</td>\n",
              "      <td>3548.319092</td>\n",
              "      <td>NaN</td>\n",
              "      <td>3548.319092</td>\n",
              "      <td>3548.319092</td>\n",
              "      <td>10</td>\n",
              "      <td>10.0</td>\n",
              "      <td>NaN</td>\n",
              "      <td>10</td>\n",
              "      <td>10.0</td>\n",
              "      <td>831</td>\n",
              "      <td>831.0</td>\n",
              "      <td>NaN</td>\n",
              "      <td>831</td>\n",
              "      <td>831.0</td>\n",
              "      <td>0</td>\n",
              "      <td>0</td>\n",
              "    </tr>\n",
              "  </tbody>\n",
              "</table>\n",
              "</div>"
            ],
            "text/plain": [
              "         SrcAddr  counts  ...  (Final-Labels, <lambda>)  window_id\n",
              "0        0.0.0.0       1  ...                         0          0\n",
              "1  1.152.212.181       1  ...                         0          0\n",
              "2  1.152.218.104       1  ...                         0          0\n",
              "3   1.152.226.38       1  ...                         0          0\n",
              "4   1.168.141.44       1  ...                         0          0\n",
              "\n",
              "[5 rows x 27 columns]"
            ]
          },
          "metadata": {},
          "execution_count": 85
        }
      ]
    },
    {
      "cell_type": "code",
      "metadata": {
        "colab": {
          "base_uri": "https://localhost:8080/",
          "height": 456
        },
        "id": "J-G7IQS72h2t",
        "outputId": "c12dbd7b-a9f6-4ba9-ef49-8fb0471d9bfb"
      },
      "source": [
        "X_test2.iloc[:,2:25]"
      ],
      "id": "J-G7IQS72h2t",
      "execution_count": null,
      "outputs": [
        {
          "output_type": "execute_result",
          "data": {
            "text/html": [
              "<div>\n",
              "<style scoped>\n",
              "    .dataframe tbody tr th:only-of-type {\n",
              "        vertical-align: middle;\n",
              "    }\n",
              "\n",
              "    .dataframe tbody tr th {\n",
              "        vertical-align: top;\n",
              "    }\n",
              "\n",
              "    .dataframe thead th {\n",
              "        text-align: right;\n",
              "    }\n",
              "</style>\n",
              "<table border=\"1\" class=\"dataframe\">\n",
              "  <thead>\n",
              "    <tr style=\"text-align: right;\">\n",
              "      <th></th>\n",
              "      <th>(Sport, nunique)</th>\n",
              "      <th>(Sport, RU)</th>\n",
              "      <th>(DstAddr, nunique)</th>\n",
              "      <th>(DstAddr, RU)</th>\n",
              "      <th>(Dport, nunique)</th>\n",
              "      <th>(Dport, RU)</th>\n",
              "      <th>(Proto, nunique)</th>\n",
              "      <th>(Proto, RU)</th>\n",
              "      <th>(Dur, sum)</th>\n",
              "      <th>(Dur, mean)</th>\n",
              "      <th>(Dur, std)</th>\n",
              "      <th>(Dur, max)</th>\n",
              "      <th>(Dur, median)</th>\n",
              "      <th>(TotPkts, sum)</th>\n",
              "      <th>(TotPkts, mean)</th>\n",
              "      <th>(TotPkts, std)</th>\n",
              "      <th>(TotPkts, max)</th>\n",
              "      <th>(TotPkts, median)</th>\n",
              "      <th>(SrcBytes, sum)</th>\n",
              "      <th>(SrcBytes, mean)</th>\n",
              "      <th>(SrcBytes, std)</th>\n",
              "      <th>(SrcBytes, max)</th>\n",
              "      <th>(SrcBytes, median)</th>\n",
              "    </tr>\n",
              "  </thead>\n",
              "  <tbody>\n",
              "    <tr>\n",
              "      <th>0</th>\n",
              "      <td>1</td>\n",
              "      <td>1.0</td>\n",
              "      <td>1</td>\n",
              "      <td>1.0</td>\n",
              "      <td>1</td>\n",
              "      <td>1.0</td>\n",
              "      <td>1</td>\n",
              "      <td>1.0</td>\n",
              "      <td>3598.302246</td>\n",
              "      <td>3598.302246</td>\n",
              "      <td>NaN</td>\n",
              "      <td>3598.302246</td>\n",
              "      <td>3598.302246</td>\n",
              "      <td>10</td>\n",
              "      <td>10.0</td>\n",
              "      <td>NaN</td>\n",
              "      <td>10</td>\n",
              "      <td>10.0</td>\n",
              "      <td>831</td>\n",
              "      <td>831.0</td>\n",
              "      <td>NaN</td>\n",
              "      <td>831</td>\n",
              "      <td>831.0</td>\n",
              "    </tr>\n",
              "    <tr>\n",
              "      <th>1</th>\n",
              "      <td>1</td>\n",
              "      <td>1.0</td>\n",
              "      <td>1</td>\n",
              "      <td>1.0</td>\n",
              "      <td>1</td>\n",
              "      <td>1.0</td>\n",
              "      <td>1</td>\n",
              "      <td>1.0</td>\n",
              "      <td>2.239833</td>\n",
              "      <td>2.239833</td>\n",
              "      <td>NaN</td>\n",
              "      <td>2.239833</td>\n",
              "      <td>2.239833</td>\n",
              "      <td>8</td>\n",
              "      <td>8.0</td>\n",
              "      <td>NaN</td>\n",
              "      <td>8</td>\n",
              "      <td>8.0</td>\n",
              "      <td>831</td>\n",
              "      <td>831.0</td>\n",
              "      <td>NaN</td>\n",
              "      <td>831</td>\n",
              "      <td>831.0</td>\n",
              "    </tr>\n",
              "    <tr>\n",
              "      <th>2</th>\n",
              "      <td>1</td>\n",
              "      <td>1.0</td>\n",
              "      <td>1</td>\n",
              "      <td>1.0</td>\n",
              "      <td>1</td>\n",
              "      <td>1.0</td>\n",
              "      <td>1</td>\n",
              "      <td>1.0</td>\n",
              "      <td>0.000763</td>\n",
              "      <td>0.000763</td>\n",
              "      <td>NaN</td>\n",
              "      <td>0.000763</td>\n",
              "      <td>0.000763</td>\n",
              "      <td>2</td>\n",
              "      <td>2.0</td>\n",
              "      <td>NaN</td>\n",
              "      <td>2</td>\n",
              "      <td>2.0</td>\n",
              "      <td>76</td>\n",
              "      <td>76.0</td>\n",
              "      <td>NaN</td>\n",
              "      <td>76</td>\n",
              "      <td>76.0</td>\n",
              "    </tr>\n",
              "    <tr>\n",
              "      <th>3</th>\n",
              "      <td>1</td>\n",
              "      <td>1.0</td>\n",
              "      <td>1</td>\n",
              "      <td>1.0</td>\n",
              "      <td>1</td>\n",
              "      <td>1.0</td>\n",
              "      <td>1</td>\n",
              "      <td>1.0</td>\n",
              "      <td>14.779215</td>\n",
              "      <td>14.779215</td>\n",
              "      <td>NaN</td>\n",
              "      <td>14.779215</td>\n",
              "      <td>14.779215</td>\n",
              "      <td>10</td>\n",
              "      <td>10.0</td>\n",
              "      <td>NaN</td>\n",
              "      <td>10</td>\n",
              "      <td>10.0</td>\n",
              "      <td>450</td>\n",
              "      <td>450.0</td>\n",
              "      <td>NaN</td>\n",
              "      <td>450</td>\n",
              "      <td>450.0</td>\n",
              "    </tr>\n",
              "    <tr>\n",
              "      <th>4</th>\n",
              "      <td>1</td>\n",
              "      <td>1.0</td>\n",
              "      <td>1</td>\n",
              "      <td>1.0</td>\n",
              "      <td>1</td>\n",
              "      <td>1.0</td>\n",
              "      <td>1</td>\n",
              "      <td>1.0</td>\n",
              "      <td>3548.319092</td>\n",
              "      <td>3548.319092</td>\n",
              "      <td>NaN</td>\n",
              "      <td>3548.319092</td>\n",
              "      <td>3548.319092</td>\n",
              "      <td>10</td>\n",
              "      <td>10.0</td>\n",
              "      <td>NaN</td>\n",
              "      <td>10</td>\n",
              "      <td>10.0</td>\n",
              "      <td>831</td>\n",
              "      <td>831.0</td>\n",
              "      <td>NaN</td>\n",
              "      <td>831</td>\n",
              "      <td>831.0</td>\n",
              "    </tr>\n",
              "    <tr>\n",
              "      <th>...</th>\n",
              "      <td>...</td>\n",
              "      <td>...</td>\n",
              "      <td>...</td>\n",
              "      <td>...</td>\n",
              "      <td>...</td>\n",
              "      <td>...</td>\n",
              "      <td>...</td>\n",
              "      <td>...</td>\n",
              "      <td>...</td>\n",
              "      <td>...</td>\n",
              "      <td>...</td>\n",
              "      <td>...</td>\n",
              "      <td>...</td>\n",
              "      <td>...</td>\n",
              "      <td>...</td>\n",
              "      <td>...</td>\n",
              "      <td>...</td>\n",
              "      <td>...</td>\n",
              "      <td>...</td>\n",
              "      <td>...</td>\n",
              "      <td>...</td>\n",
              "      <td>...</td>\n",
              "      <td>...</td>\n",
              "    </tr>\n",
              "    <tr>\n",
              "      <th>1020</th>\n",
              "      <td>1</td>\n",
              "      <td>1.0</td>\n",
              "      <td>1</td>\n",
              "      <td>1.0</td>\n",
              "      <td>1</td>\n",
              "      <td>1.0</td>\n",
              "      <td>1</td>\n",
              "      <td>1.0</td>\n",
              "      <td>0.002409</td>\n",
              "      <td>0.002409</td>\n",
              "      <td>NaN</td>\n",
              "      <td>0.002409</td>\n",
              "      <td>0.002409</td>\n",
              "      <td>2</td>\n",
              "      <td>2.0</td>\n",
              "      <td>NaN</td>\n",
              "      <td>2</td>\n",
              "      <td>2.0</td>\n",
              "      <td>459</td>\n",
              "      <td>459.0</td>\n",
              "      <td>NaN</td>\n",
              "      <td>459</td>\n",
              "      <td>459.0</td>\n",
              "    </tr>\n",
              "    <tr>\n",
              "      <th>1021</th>\n",
              "      <td>1</td>\n",
              "      <td>1.0</td>\n",
              "      <td>1</td>\n",
              "      <td>1.0</td>\n",
              "      <td>1</td>\n",
              "      <td>1.0</td>\n",
              "      <td>1</td>\n",
              "      <td>1.0</td>\n",
              "      <td>6.052575</td>\n",
              "      <td>6.052575</td>\n",
              "      <td>NaN</td>\n",
              "      <td>6.052575</td>\n",
              "      <td>6.052575</td>\n",
              "      <td>3</td>\n",
              "      <td>3.0</td>\n",
              "      <td>NaN</td>\n",
              "      <td>3</td>\n",
              "      <td>3.0</td>\n",
              "      <td>831</td>\n",
              "      <td>831.0</td>\n",
              "      <td>NaN</td>\n",
              "      <td>831</td>\n",
              "      <td>831.0</td>\n",
              "    </tr>\n",
              "    <tr>\n",
              "      <th>1022</th>\n",
              "      <td>1</td>\n",
              "      <td>1.0</td>\n",
              "      <td>1</td>\n",
              "      <td>1.0</td>\n",
              "      <td>1</td>\n",
              "      <td>1.0</td>\n",
              "      <td>1</td>\n",
              "      <td>1.0</td>\n",
              "      <td>18.111736</td>\n",
              "      <td>18.111736</td>\n",
              "      <td>NaN</td>\n",
              "      <td>18.111736</td>\n",
              "      <td>18.111736</td>\n",
              "      <td>10</td>\n",
              "      <td>10.0</td>\n",
              "      <td>NaN</td>\n",
              "      <td>10</td>\n",
              "      <td>10.0</td>\n",
              "      <td>831</td>\n",
              "      <td>831.0</td>\n",
              "      <td>NaN</td>\n",
              "      <td>831</td>\n",
              "      <td>831.0</td>\n",
              "    </tr>\n",
              "    <tr>\n",
              "      <th>1023</th>\n",
              "      <td>1</td>\n",
              "      <td>1.0</td>\n",
              "      <td>1</td>\n",
              "      <td>1.0</td>\n",
              "      <td>1</td>\n",
              "      <td>1.0</td>\n",
              "      <td>1</td>\n",
              "      <td>1.0</td>\n",
              "      <td>0.347058</td>\n",
              "      <td>0.347058</td>\n",
              "      <td>NaN</td>\n",
              "      <td>0.347058</td>\n",
              "      <td>0.347058</td>\n",
              "      <td>4</td>\n",
              "      <td>4.0</td>\n",
              "      <td>NaN</td>\n",
              "      <td>4</td>\n",
              "      <td>4.0</td>\n",
              "      <td>177</td>\n",
              "      <td>177.0</td>\n",
              "      <td>NaN</td>\n",
              "      <td>177</td>\n",
              "      <td>177.0</td>\n",
              "    </tr>\n",
              "    <tr>\n",
              "      <th>1024</th>\n",
              "      <td>1</td>\n",
              "      <td>1.0</td>\n",
              "      <td>1</td>\n",
              "      <td>1.0</td>\n",
              "      <td>1</td>\n",
              "      <td>1.0</td>\n",
              "      <td>1</td>\n",
              "      <td>1.0</td>\n",
              "      <td>0.000606</td>\n",
              "      <td>0.000606</td>\n",
              "      <td>NaN</td>\n",
              "      <td>0.000606</td>\n",
              "      <td>0.000606</td>\n",
              "      <td>2</td>\n",
              "      <td>2.0</td>\n",
              "      <td>NaN</td>\n",
              "      <td>2</td>\n",
              "      <td>2.0</td>\n",
              "      <td>76</td>\n",
              "      <td>76.0</td>\n",
              "      <td>NaN</td>\n",
              "      <td>76</td>\n",
              "      <td>76.0</td>\n",
              "    </tr>\n",
              "  </tbody>\n",
              "</table>\n",
              "<p>1431391 rows × 23 columns</p>\n",
              "</div>"
            ],
            "text/plain": [
              "      (Sport, nunique)  (Sport, RU)  ...  (SrcBytes, max)  (SrcBytes, median)\n",
              "0                    1          1.0  ...              831               831.0\n",
              "1                    1          1.0  ...              831               831.0\n",
              "2                    1          1.0  ...               76                76.0\n",
              "3                    1          1.0  ...              450               450.0\n",
              "4                    1          1.0  ...              831               831.0\n",
              "...                ...          ...  ...              ...                 ...\n",
              "1020                 1          1.0  ...              459               459.0\n",
              "1021                 1          1.0  ...              831               831.0\n",
              "1022                 1          1.0  ...              831               831.0\n",
              "1023                 1          1.0  ...              177               177.0\n",
              "1024                 1          1.0  ...               76                76.0\n",
              "\n",
              "[1431391 rows x 23 columns]"
            ]
          },
          "metadata": {},
          "execution_count": 87
        }
      ]
    },
    {
      "cell_type": "code",
      "metadata": {
        "id": "SseBh8rV2Z-2"
      },
      "source": [
        "y_test = X_test2.iloc[:,25]\n",
        "X_test = X_test2.iloc[:,2:25]"
      ],
      "id": "SseBh8rV2Z-2",
      "execution_count": null,
      "outputs": []
    },
    {
      "cell_type": "code",
      "metadata": {
        "colab": {
          "base_uri": "https://localhost:8080/"
        },
        "id": "pkkPShPzUGLe",
        "outputId": "10ca3344-5247-477b-bedb-66171c75efde"
      },
      "source": [
        "test_df['Window_upper_excl'] = (test_df['StartTime_new']-start_time)/window_stride+1\n",
        "test_df.drop('StartTime',inplace=True,axis=1)\n",
        "test_df = test_df.astype({\"Window_lower\": int, \"Window_upper_excl\": int})\n",
        "test_df.drop('StartTime_new', axis=1, inplace=True)\n",
        "nb_windows = test_df['Window_upper_excl'].max()\n",
        "print(nb_windows)"
      ],
      "id": "pkkPShPzUGLe",
      "execution_count": null,
      "outputs": [
        {
          "output_type": "stream",
          "text": [
            "4010\n"
          ],
          "name": "stdout"
        }
      ]
    },
    {
      "cell_type": "code",
      "source": [
        "X = pd.DataFrame()\n",
        "for i in range(0,nb_windows):       #range is supposed to be nb_windows\n",
        "    gb = test_df.loc[(test_df['Window_lower'] <= i) & (test_df['Window_upper_excl'] > i)].groupby('SrcAddr')\n",
        "    X = X.append(gb.size().to_frame(name='counts').join(gb.agg({'Sport':['nunique',RU],\n",
        "                                                         'DstAddr':['nunique',RU],\n",
        "                                                          'Dport':['nunique',RU],\n",
        "                                                         'Proto':['nunique',RU],\n",
        "                                                         'Dur':['sum','mean','std','max','median'],\n",
        "                                                         'TotPkts':['sum','mean','std','max','median'],\n",
        "                                                         'SrcBytes':['sum','mean','std','max','median'],\n",
        "                                                         'Final-Labels':lambda x: x.mode()[0]})).reset_index().assign(window_id=i))"
      ],
      "metadata": {
        "id": "LnCCZqucPTwA"
      },
      "id": "LnCCZqucPTwA",
      "execution_count": null,
      "outputs": []
    },
    {
      "cell_type": "code",
      "metadata": {
        "colab": {
          "base_uri": "https://localhost:8080/",
          "height": 258
        },
        "id": "lCxreNc5xVjM",
        "outputId": "edfea352-6de6-4ec9-c963-99451f669aee"
      },
      "source": [
        "X.head()"
      ],
      "id": "lCxreNc5xVjM",
      "execution_count": null,
      "outputs": [
        {
          "output_type": "execute_result",
          "data": {
            "text/html": [
              "<div>\n",
              "<style scoped>\n",
              "    .dataframe tbody tr th:only-of-type {\n",
              "        vertical-align: middle;\n",
              "    }\n",
              "\n",
              "    .dataframe tbody tr th {\n",
              "        vertical-align: top;\n",
              "    }\n",
              "\n",
              "    .dataframe thead th {\n",
              "        text-align: right;\n",
              "    }\n",
              "</style>\n",
              "<table border=\"1\" class=\"dataframe\">\n",
              "  <thead>\n",
              "    <tr style=\"text-align: right;\">\n",
              "      <th></th>\n",
              "      <th>SrcAddr</th>\n",
              "      <th>counts</th>\n",
              "      <th>(Sport, nunique)</th>\n",
              "      <th>(Sport, RU)</th>\n",
              "      <th>(DstAddr, nunique)</th>\n",
              "      <th>(DstAddr, RU)</th>\n",
              "      <th>(Dport, nunique)</th>\n",
              "      <th>(Dport, RU)</th>\n",
              "      <th>(Proto, nunique)</th>\n",
              "      <th>(Proto, RU)</th>\n",
              "      <th>(Dur, sum)</th>\n",
              "      <th>(Dur, mean)</th>\n",
              "      <th>(Dur, std)</th>\n",
              "      <th>(Dur, max)</th>\n",
              "      <th>(Dur, median)</th>\n",
              "      <th>(TotPkts, sum)</th>\n",
              "      <th>(TotPkts, mean)</th>\n",
              "      <th>(TotPkts, std)</th>\n",
              "      <th>(TotPkts, max)</th>\n",
              "      <th>(TotPkts, median)</th>\n",
              "      <th>(SrcBytes, sum)</th>\n",
              "      <th>(SrcBytes, mean)</th>\n",
              "      <th>(SrcBytes, std)</th>\n",
              "      <th>(SrcBytes, max)</th>\n",
              "      <th>(SrcBytes, median)</th>\n",
              "      <th>(Final-Labels, &lt;lambda&gt;)</th>\n",
              "      <th>window_id</th>\n",
              "    </tr>\n",
              "  </thead>\n",
              "  <tbody>\n",
              "    <tr>\n",
              "      <th>0</th>\n",
              "      <td>0.0.0.0</td>\n",
              "      <td>1</td>\n",
              "      <td>1</td>\n",
              "      <td>1.0</td>\n",
              "      <td>1</td>\n",
              "      <td>1.0</td>\n",
              "      <td>1</td>\n",
              "      <td>1.0</td>\n",
              "      <td>1</td>\n",
              "      <td>1.0</td>\n",
              "      <td>3586.215576</td>\n",
              "      <td>3586.215576</td>\n",
              "      <td>NaN</td>\n",
              "      <td>3586.215576</td>\n",
              "      <td>3586.215576</td>\n",
              "      <td>357</td>\n",
              "      <td>357.0</td>\n",
              "      <td>NaN</td>\n",
              "      <td>357</td>\n",
              "      <td>357.0</td>\n",
              "      <td>118376</td>\n",
              "      <td>118376.0</td>\n",
              "      <td>NaN</td>\n",
              "      <td>118376</td>\n",
              "      <td>118376.0</td>\n",
              "      <td>0</td>\n",
              "      <td>0</td>\n",
              "    </tr>\n",
              "    <tr>\n",
              "      <th>1</th>\n",
              "      <td>106.158.147.110</td>\n",
              "      <td>1</td>\n",
              "      <td>1</td>\n",
              "      <td>1.0</td>\n",
              "      <td>1</td>\n",
              "      <td>1.0</td>\n",
              "      <td>1</td>\n",
              "      <td>1.0</td>\n",
              "      <td>1</td>\n",
              "      <td>1.0</td>\n",
              "      <td>18.126289</td>\n",
              "      <td>18.126289</td>\n",
              "      <td>NaN</td>\n",
              "      <td>18.126289</td>\n",
              "      <td>18.126289</td>\n",
              "      <td>28</td>\n",
              "      <td>28.0</td>\n",
              "      <td>NaN</td>\n",
              "      <td>28</td>\n",
              "      <td>28.0</td>\n",
              "      <td>840</td>\n",
              "      <td>840.0</td>\n",
              "      <td>NaN</td>\n",
              "      <td>840</td>\n",
              "      <td>840.0</td>\n",
              "      <td>0</td>\n",
              "      <td>0</td>\n",
              "    </tr>\n",
              "    <tr>\n",
              "      <th>2</th>\n",
              "      <td>108.6.32.7</td>\n",
              "      <td>1</td>\n",
              "      <td>1</td>\n",
              "      <td>1.0</td>\n",
              "      <td>1</td>\n",
              "      <td>1.0</td>\n",
              "      <td>1</td>\n",
              "      <td>1.0</td>\n",
              "      <td>1</td>\n",
              "      <td>1.0</td>\n",
              "      <td>3086.968506</td>\n",
              "      <td>3086.968506</td>\n",
              "      <td>NaN</td>\n",
              "      <td>3086.968506</td>\n",
              "      <td>3086.968506</td>\n",
              "      <td>10</td>\n",
              "      <td>10.0</td>\n",
              "      <td>NaN</td>\n",
              "      <td>10</td>\n",
              "      <td>10.0</td>\n",
              "      <td>2275</td>\n",
              "      <td>2275.0</td>\n",
              "      <td>NaN</td>\n",
              "      <td>2275</td>\n",
              "      <td>2275.0</td>\n",
              "      <td>0</td>\n",
              "      <td>0</td>\n",
              "    </tr>\n",
              "    <tr>\n",
              "      <th>3</th>\n",
              "      <td>109.110.228.27</td>\n",
              "      <td>1</td>\n",
              "      <td>1</td>\n",
              "      <td>1.0</td>\n",
              "      <td>1</td>\n",
              "      <td>1.0</td>\n",
              "      <td>1</td>\n",
              "      <td>1.0</td>\n",
              "      <td>1</td>\n",
              "      <td>1.0</td>\n",
              "      <td>0.000363</td>\n",
              "      <td>0.000363</td>\n",
              "      <td>NaN</td>\n",
              "      <td>0.000363</td>\n",
              "      <td>0.000363</td>\n",
              "      <td>2</td>\n",
              "      <td>2.0</td>\n",
              "      <td>NaN</td>\n",
              "      <td>2</td>\n",
              "      <td>2.0</td>\n",
              "      <td>60</td>\n",
              "      <td>60.0</td>\n",
              "      <td>NaN</td>\n",
              "      <td>60</td>\n",
              "      <td>60.0</td>\n",
              "      <td>0</td>\n",
              "      <td>0</td>\n",
              "    </tr>\n",
              "    <tr>\n",
              "      <th>4</th>\n",
              "      <td>109.113.13.14</td>\n",
              "      <td>1</td>\n",
              "      <td>1</td>\n",
              "      <td>1.0</td>\n",
              "      <td>1</td>\n",
              "      <td>1.0</td>\n",
              "      <td>1</td>\n",
              "      <td>1.0</td>\n",
              "      <td>1</td>\n",
              "      <td>1.0</td>\n",
              "      <td>0.000345</td>\n",
              "      <td>0.000345</td>\n",
              "      <td>NaN</td>\n",
              "      <td>0.000345</td>\n",
              "      <td>0.000345</td>\n",
              "      <td>2</td>\n",
              "      <td>2.0</td>\n",
              "      <td>NaN</td>\n",
              "      <td>2</td>\n",
              "      <td>2.0</td>\n",
              "      <td>75</td>\n",
              "      <td>75.0</td>\n",
              "      <td>NaN</td>\n",
              "      <td>75</td>\n",
              "      <td>75.0</td>\n",
              "      <td>0</td>\n",
              "      <td>0</td>\n",
              "    </tr>\n",
              "  </tbody>\n",
              "</table>\n",
              "</div>"
            ],
            "text/plain": [
              "           SrcAddr  counts  ...  (Final-Labels, <lambda>)  window_id\n",
              "0          0.0.0.0       1  ...                         0          0\n",
              "1  106.158.147.110       1  ...                         0          0\n",
              "2       108.6.32.7       1  ...                         0          0\n",
              "3   109.110.228.27       1  ...                         0          0\n",
              "4    109.113.13.14       1  ...                         0          0\n",
              "\n",
              "[5 rows x 27 columns]"
            ]
          },
          "metadata": {},
          "execution_count": 51
        }
      ]
    },
    {
      "cell_type": "code",
      "metadata": {
        "id": "dVOtl9jBj6tj"
      },
      "source": [
        "y_test = X['Final-Labels', '<lambda>']\n",
        "X_test = X.iloc[:,2:25]"
      ],
      "id": "dVOtl9jBj6tj",
      "execution_count": null,
      "outputs": []
    },
    {
      "cell_type": "code",
      "metadata": {
        "id": "Oo4wovoHm6Pp"
      },
      "source": [
        "X_test.fillna(0,inplace=True)"
      ],
      "id": "Oo4wovoHm6Pp",
      "execution_count": null,
      "outputs": []
    },
    {
      "cell_type": "code",
      "metadata": {
        "colab": {
          "base_uri": "https://localhost:8080/"
        },
        "id": "nJFJ2rUOf-cN",
        "outputId": "d6797295-7f93-4661-c8d3-071c5e77c1d5"
      },
      "source": [
        "#malware 3 \n",
        "y_test_predicted = model.predict(X_test)\n",
        "print(accuracy_score(y_test, y_test_predicted))\n",
        "\n",
        " #predicted values\n",
        "(unique, counts) = np.unique(y_test_predicted, return_counts=True)\n",
        "frequencies = np.asarray((unique, counts)).T\n",
        "print(\"predicted val\")\n",
        "print(frequencies)\n",
        "\n",
        "#true values\n",
        "\n"
      ],
      "id": "nJFJ2rUOf-cN",
      "execution_count": null,
      "outputs": [
        {
          "output_type": "stream",
          "text": [
            "0.9995703480041442\n",
            "predicted val\n",
            "[[      0 1430626]\n",
            " [      1     130]\n",
            " [      2     635]]\n"
          ],
          "name": "stdout"
        }
      ]
    },
    {
      "cell_type": "code",
      "metadata": {
        "colab": {
          "base_uri": "https://localhost:8080/"
        },
        "id": "fBW9-gUv2zXR",
        "outputId": "a5ec751e-e751-41c8-8979-894ad69cb69e"
      },
      "source": [
        "#malware3 \n",
        "print('Confusion Matrix')\n",
        "print(confusion_matrix(y_test, y_test_predicted))\n",
        "print('Classification Report')\n",
        "target_names = ['Background','Botnet','Foreground']\n",
        "print(classification_report(y_test, y_test_predicted, target_names=target_names))"
      ],
      "id": "fBW9-gUv2zXR",
      "execution_count": null,
      "outputs": [
        {
          "output_type": "stream",
          "text": [
            "Confusion Matrix\n",
            "[[1430406       4     391]\n",
            " [     81     126       0]\n",
            " [    139       0     244]]\n",
            "Classification Report\n",
            "              precision    recall  f1-score   support\n",
            "\n",
            "  Background       1.00      1.00      1.00   1430801\n",
            "      Botnet       0.97      0.61      0.75       207\n",
            "  Foreground       0.38      0.64      0.48       383\n",
            "\n",
            "    accuracy                           1.00   1431391\n",
            "   macro avg       0.78      0.75      0.74   1431391\n",
            "weighted avg       1.00      1.00      1.00   1431391\n",
            "\n"
          ],
          "name": "stdout"
        }
      ]
    },
    {
      "cell_type": "code",
      "metadata": {
        "colab": {
          "base_uri": "https://localhost:8080/"
        },
        "id": "Buoxd4i3tj1i",
        "outputId": "03793286-414c-4800-eb2d-c9fb0d0268ac"
      },
      "source": [
        "(unique, counts) = np.unique(y_test, return_counts=True)\n",
        "frequencies = np.asarray((unique, counts)).T\n",
        "frequencies"
      ],
      "id": "Buoxd4i3tj1i",
      "execution_count": null,
      "outputs": [
        {
          "output_type": "execute_result",
          "data": {
            "text/plain": [
              "array([[0.000000e+00, 2.225215e+06],\n",
              "       [1.000000e+00, 2.860000e+02],\n",
              "       [2.000000e+00, 1.032000e+03]])"
            ]
          },
          "metadata": {
            "tags": []
          },
          "execution_count": 103
        }
      ]
    },
    {
      "cell_type": "code",
      "metadata": {
        "colab": {
          "base_uri": "https://localhost:8080/"
        },
        "id": "zJaDYe6zkJtP",
        "outputId": "f74bad32-ed8b-427a-88aa-123c9452edd7"
      },
      "source": [
        "#for virut \n",
        "y_test_predicted = model.predict(X_test)\n",
        "print(accuracy_score(y_test, y_test_predicted))\n",
        "\n",
        "(unique, counts) = np.unique(y_test_predicted, return_counts=True)\n",
        "frequencies = np.asarray((unique, counts)).T\n",
        "print(frequencies)\n",
        "\n",
        "(unique, counts) = np.unique(y_test, return_counts=True)\n",
        "frequencies = np.asarray((unique, counts)).T\n",
        "print(frequencies)"
      ],
      "id": "zJaDYe6zkJtP",
      "execution_count": null,
      "outputs": [
        {
          "output_type": "stream",
          "text": [
            "0.9998872406206486\n",
            "[[      0 1524460]\n",
            " [      1     173]\n",
            " [      2     739]]\n",
            "[[      0 1524472]\n",
            " [      1     176]\n",
            " [      2     724]]\n"
          ],
          "name": "stdout"
        }
      ]
    },
    {
      "cell_type": "markdown",
      "metadata": {
        "id": "OcMP9_bYCN1z"
      },
      "source": [
        "Virut Results"
      ],
      "id": "OcMP9_bYCN1z"
    },
    {
      "cell_type": "code",
      "metadata": {
        "colab": {
          "base_uri": "https://localhost:8080/"
        },
        "id": "5D6x02VLqh4y",
        "outputId": "ef7eb0c7-f440-4671-f89f-88e52042d655"
      },
      "source": [
        "print('Confusion Matrix')\n",
        "print(confusion_matrix(y_test, y_test_predicted))\n",
        "print('Classification Report')\n",
        "target_names = ['Background','Botnet','Foreground']\n",
        "print(classification_report(y_test, y_test_predicted, target_names=target_names))"
      ],
      "id": "5D6x02VLqh4y",
      "execution_count": null,
      "outputs": [
        {
          "output_type": "stream",
          "text": [
            "Confusion Matrix\n",
            "[[1524380       0      92]\n",
            " [      3     173       0]\n",
            " [     77       0     647]]\n",
            "Classification Report\n",
            "              precision    recall  f1-score   support\n",
            "\n",
            "  Background       1.00      1.00      1.00   1524472\n",
            "      Botnet       1.00      0.98      0.99       176\n",
            "      Normal       0.88      0.89      0.88       724\n",
            "\n",
            "    accuracy                           1.00   1525372\n",
            "   macro avg       0.96      0.96      0.96   1525372\n",
            "weighted avg       1.00      1.00      1.00   1525372\n",
            "\n"
          ],
          "name": "stdout"
        }
      ]
    }
  ]
}